{
 "cells": [
  {
   "cell_type": "markdown",
   "id": "atomic-flesh",
   "metadata": {
    "papermill": {
     "duration": 0.047551,
     "end_time": "2021-06-16T22:16:29.151426",
     "exception": false,
     "start_time": "2021-06-16T22:16:29.103875",
     "status": "completed"
    },
    "tags": []
   },
   "source": [
    "# <center> CommonLit Readability Prize\n",
    "![](https://storage.googleapis.com/kaggle-competitions/kaggle/25914/logos/header.png?t=2021-04-01-15-58-06)"
   ]
  },
  {
   "cell_type": "markdown",
   "id": "historical-palace",
   "metadata": {
    "papermill": {
     "duration": 0.045823,
     "end_time": "2021-06-16T22:16:29.243928",
     "exception": false,
     "start_time": "2021-06-16T22:16:29.198105",
     "status": "completed"
    },
    "tags": []
   },
   "source": [
    "# 0.Import Librairies :"
   ]
  },
  {
   "cell_type": "code",
   "execution_count": 1,
   "id": "checked-colorado",
   "metadata": {
    "execution": {
     "iopub.execute_input": "2021-06-16T22:16:29.350970Z",
     "iopub.status.busy": "2021-06-16T22:16:29.350285Z",
     "iopub.status.idle": "2021-06-16T22:16:38.697175Z",
     "shell.execute_reply": "2021-06-16T22:16:38.696579Z",
     "shell.execute_reply.started": "2021-06-16T21:11:42.823436Z"
    },
    "papermill": {
     "duration": 9.407146,
     "end_time": "2021-06-16T22:16:38.697323",
     "exception": false,
     "start_time": "2021-06-16T22:16:29.290177",
     "status": "completed"
    },
    "tags": []
   },
   "outputs": [],
   "source": [
    "import pandas as pd \n",
    "import numpy as np \n",
    "import matplotlib.pyplot as plt \n",
    "import plotly.express as px \n",
    "import warnings\n",
    "warnings.filterwarnings(\"ignore\")\n",
    "import nltk\n",
    "import string\n",
    "import seaborn as sns \n",
    "from collections import Counter\n",
    "import operator\n",
    "from math import ceil\n",
    "import re\n",
    "from transformers import BertTokenizer,BertModel\n",
    "import torch \n",
    "from torch import nn\n",
    "from torch.utils.data import DataLoader,TensorDataset\n",
    "from tensorflow.keras.preprocessing.text import Tokenizer\n",
    "from tensorflow.keras.preprocessing.sequence import pad_sequences\n",
    "from sklearn.model_selection import train_test_split\n",
    "from tensorflow.keras.layers import Embedding,LSTM,Dense,Bidirectional,\\\n",
    "Dropout,BatchNormalization,Input,Conv1D,MaxPool1D,Flatten\n",
    "from tensorflow.keras.models import Sequential\n",
    "from tensorflow.keras.losses import mse\n",
    "from tensorflow.keras.callbacks import EarlyStopping , ModelCheckpoint\n",
    "import tensorflow as tf\n",
    "import pickle\n",
    "import shutil \n",
    "import random \n",
    "import os \n",
    "from sklearn.metrics import mean_squared_error\n",
    "from sklearn.model_selection import StratifiedKFold\n",
    "import math"
   ]
  },
  {
   "cell_type": "code",
   "execution_count": 2,
   "id": "insured-istanbul",
   "metadata": {
    "execution": {
     "iopub.execute_input": "2021-06-16T22:16:38.796047Z",
     "iopub.status.busy": "2021-06-16T22:16:38.795381Z",
     "iopub.status.idle": "2021-06-16T22:16:38.801897Z",
     "shell.execute_reply": "2021-06-16T22:16:38.801459Z",
     "shell.execute_reply.started": "2021-06-16T21:11:52.929010Z"
    },
    "papermill": {
     "duration": 0.057717,
     "end_time": "2021-06-16T22:16:38.802013",
     "exception": false,
     "start_time": "2021-06-16T22:16:38.744296",
     "status": "completed"
    },
    "tags": []
   },
   "outputs": [],
   "source": [
    "SEED = 42\n",
    "\n",
    "def random_seed(SEED):\n",
    "    \n",
    "    random.seed(SEED)\n",
    "    os.environ['PYTHONHASHSEED'] = str(SEED)\n",
    "    np.random.seed(SEED)\n",
    "    torch.manual_seed(SEED)\n",
    "    torch.cuda.manual_seed(SEED)\n",
    "    torch.cuda.manual_seed_all(SEED)\n",
    "    torch.backends.cudnn.deterministic = True\n",
    "\n",
    "random_seed(SEED)"
   ]
  },
  {
   "cell_type": "markdown",
   "id": "entire-jumping",
   "metadata": {
    "papermill": {
     "duration": 0.045751,
     "end_time": "2021-06-16T22:16:38.894279",
     "exception": false,
     "start_time": "2021-06-16T22:16:38.848528",
     "status": "completed"
    },
    "tags": []
   },
   "source": [
    "# 1.Import Datas:"
   ]
  },
  {
   "cell_type": "code",
   "execution_count": 3,
   "id": "casual-extension",
   "metadata": {
    "execution": {
     "iopub.execute_input": "2021-06-16T22:16:38.993107Z",
     "iopub.status.busy": "2021-06-16T22:16:38.992568Z",
     "iopub.status.idle": "2021-06-16T22:16:39.060620Z",
     "shell.execute_reply": "2021-06-16T22:16:39.060044Z",
     "shell.execute_reply.started": "2021-06-16T21:11:52.939956Z"
    },
    "papermill": {
     "duration": 0.120357,
     "end_time": "2021-06-16T22:16:39.060810",
     "exception": false,
     "start_time": "2021-06-16T22:16:38.940453",
     "status": "completed"
    },
    "tags": []
   },
   "outputs": [],
   "source": [
    "# Load the train datas\n",
    "data = pd.read_csv(\"../input/commonlitreadabilityprize/train.csv\")"
   ]
  },
  {
   "cell_type": "code",
   "execution_count": 4,
   "id": "removable-packet",
   "metadata": {
    "execution": {
     "iopub.execute_input": "2021-06-16T22:16:39.170562Z",
     "iopub.status.busy": "2021-06-16T22:16:39.169742Z",
     "iopub.status.idle": "2021-06-16T22:16:39.178976Z",
     "shell.execute_reply": "2021-06-16T22:16:39.179379Z",
     "shell.execute_reply.started": "2021-06-16T21:11:53.006109Z"
    },
    "papermill": {
     "duration": 0.072232,
     "end_time": "2021-06-16T22:16:39.179530",
     "exception": false,
     "start_time": "2021-06-16T22:16:39.107298",
     "status": "completed"
    },
    "tags": []
   },
   "outputs": [
    {
     "data": {
      "text/html": [
       "<div>\n",
       "<style scoped>\n",
       "    .dataframe tbody tr th:only-of-type {\n",
       "        vertical-align: middle;\n",
       "    }\n",
       "\n",
       "    .dataframe tbody tr th {\n",
       "        vertical-align: top;\n",
       "    }\n",
       "\n",
       "    .dataframe thead th {\n",
       "        text-align: right;\n",
       "    }\n",
       "</style>\n",
       "<table border=\"1\" class=\"dataframe\">\n",
       "  <thead>\n",
       "    <tr style=\"text-align: right;\">\n",
       "      <th></th>\n",
       "      <th>id</th>\n",
       "      <th>url_legal</th>\n",
       "      <th>license</th>\n",
       "      <th>excerpt</th>\n",
       "      <th>target</th>\n",
       "      <th>standard_error</th>\n",
       "    </tr>\n",
       "  </thead>\n",
       "  <tbody>\n",
       "    <tr>\n",
       "      <th>0</th>\n",
       "      <td>c12129c31</td>\n",
       "      <td>NaN</td>\n",
       "      <td>NaN</td>\n",
       "      <td>When the young people returned to the ballroom...</td>\n",
       "      <td>-0.340259</td>\n",
       "      <td>0.464009</td>\n",
       "    </tr>\n",
       "    <tr>\n",
       "      <th>1</th>\n",
       "      <td>85aa80a4c</td>\n",
       "      <td>NaN</td>\n",
       "      <td>NaN</td>\n",
       "      <td>All through dinner time, Mrs. Fayre was somewh...</td>\n",
       "      <td>-0.315372</td>\n",
       "      <td>0.480805</td>\n",
       "    </tr>\n",
       "    <tr>\n",
       "      <th>2</th>\n",
       "      <td>b69ac6792</td>\n",
       "      <td>NaN</td>\n",
       "      <td>NaN</td>\n",
       "      <td>As Roger had predicted, the snow departed as q...</td>\n",
       "      <td>-0.580118</td>\n",
       "      <td>0.476676</td>\n",
       "    </tr>\n",
       "    <tr>\n",
       "      <th>3</th>\n",
       "      <td>dd1000b26</td>\n",
       "      <td>NaN</td>\n",
       "      <td>NaN</td>\n",
       "      <td>And outside before the palace a great garden w...</td>\n",
       "      <td>-1.054013</td>\n",
       "      <td>0.450007</td>\n",
       "    </tr>\n",
       "    <tr>\n",
       "      <th>4</th>\n",
       "      <td>37c1b32fb</td>\n",
       "      <td>NaN</td>\n",
       "      <td>NaN</td>\n",
       "      <td>Once upon a time there were Three Bears who li...</td>\n",
       "      <td>0.247197</td>\n",
       "      <td>0.510845</td>\n",
       "    </tr>\n",
       "  </tbody>\n",
       "</table>\n",
       "</div>"
      ],
      "text/plain": [
       "          id url_legal license  \\\n",
       "0  c12129c31       NaN     NaN   \n",
       "1  85aa80a4c       NaN     NaN   \n",
       "2  b69ac6792       NaN     NaN   \n",
       "3  dd1000b26       NaN     NaN   \n",
       "4  37c1b32fb       NaN     NaN   \n",
       "\n",
       "                                             excerpt    target  standard_error  \n",
       "0  When the young people returned to the ballroom... -0.340259        0.464009  \n",
       "1  All through dinner time, Mrs. Fayre was somewh... -0.315372        0.480805  \n",
       "2  As Roger had predicted, the snow departed as q... -0.580118        0.476676  \n",
       "3  And outside before the palace a great garden w... -1.054013        0.450007  \n",
       "4  Once upon a time there were Three Bears who li...  0.247197        0.510845  "
      ]
     },
     "execution_count": 4,
     "metadata": {},
     "output_type": "execute_result"
    }
   ],
   "source": [
    "# Let's take a look on the training datas :\n",
    "data.head()"
   ]
  },
  {
   "cell_type": "code",
   "execution_count": 5,
   "id": "infinite-justice",
   "metadata": {
    "execution": {
     "iopub.execute_input": "2021-06-16T22:16:39.278783Z",
     "iopub.status.busy": "2021-06-16T22:16:39.278231Z",
     "iopub.status.idle": "2021-06-16T22:16:39.291344Z",
     "shell.execute_reply": "2021-06-16T22:16:39.291754Z",
     "shell.execute_reply.started": "2021-06-16T21:11:53.032407Z"
    },
    "papermill": {
     "duration": 0.065561,
     "end_time": "2021-06-16T22:16:39.291897",
     "exception": false,
     "start_time": "2021-06-16T22:16:39.226336",
     "status": "completed"
    },
    "tags": []
   },
   "outputs": [
    {
     "data": {
      "text/html": [
       "<div>\n",
       "<style scoped>\n",
       "    .dataframe tbody tr th:only-of-type {\n",
       "        vertical-align: middle;\n",
       "    }\n",
       "\n",
       "    .dataframe tbody tr th {\n",
       "        vertical-align: top;\n",
       "    }\n",
       "\n",
       "    .dataframe thead th {\n",
       "        text-align: right;\n",
       "    }\n",
       "</style>\n",
       "<table border=\"1\" class=\"dataframe\">\n",
       "  <thead>\n",
       "    <tr style=\"text-align: right;\">\n",
       "      <th></th>\n",
       "      <th>id</th>\n",
       "      <th>url_legal</th>\n",
       "      <th>license</th>\n",
       "      <th>excerpt</th>\n",
       "    </tr>\n",
       "  </thead>\n",
       "  <tbody>\n",
       "    <tr>\n",
       "      <th>0</th>\n",
       "      <td>c0f722661</td>\n",
       "      <td>NaN</td>\n",
       "      <td>NaN</td>\n",
       "      <td>My hope lay in Jack's promise that he would ke...</td>\n",
       "    </tr>\n",
       "    <tr>\n",
       "      <th>1</th>\n",
       "      <td>f0953f0a5</td>\n",
       "      <td>NaN</td>\n",
       "      <td>NaN</td>\n",
       "      <td>Dotty continued to go to Mrs. Gray's every nig...</td>\n",
       "    </tr>\n",
       "    <tr>\n",
       "      <th>2</th>\n",
       "      <td>0df072751</td>\n",
       "      <td>NaN</td>\n",
       "      <td>NaN</td>\n",
       "      <td>It was a bright and cheerful scene that greete...</td>\n",
       "    </tr>\n",
       "    <tr>\n",
       "      <th>3</th>\n",
       "      <td>04caf4e0c</td>\n",
       "      <td>https://en.wikipedia.org/wiki/Cell_division</td>\n",
       "      <td>CC BY-SA 3.0</td>\n",
       "      <td>Cell division is the process by which a parent...</td>\n",
       "    </tr>\n",
       "    <tr>\n",
       "      <th>4</th>\n",
       "      <td>0e63f8bea</td>\n",
       "      <td>https://en.wikipedia.org/wiki/Debugging</td>\n",
       "      <td>CC BY-SA 3.0</td>\n",
       "      <td>Debugging is the process of finding and resolv...</td>\n",
       "    </tr>\n",
       "  </tbody>\n",
       "</table>\n",
       "</div>"
      ],
      "text/plain": [
       "          id                                    url_legal       license  \\\n",
       "0  c0f722661                                          NaN           NaN   \n",
       "1  f0953f0a5                                          NaN           NaN   \n",
       "2  0df072751                                          NaN           NaN   \n",
       "3  04caf4e0c  https://en.wikipedia.org/wiki/Cell_division  CC BY-SA 3.0   \n",
       "4  0e63f8bea      https://en.wikipedia.org/wiki/Debugging  CC BY-SA 3.0   \n",
       "\n",
       "                                             excerpt  \n",
       "0  My hope lay in Jack's promise that he would ke...  \n",
       "1  Dotty continued to go to Mrs. Gray's every nig...  \n",
       "2  It was a bright and cheerful scene that greete...  \n",
       "3  Cell division is the process by which a parent...  \n",
       "4  Debugging is the process of finding and resolv...  "
      ]
     },
     "execution_count": 5,
     "metadata": {},
     "output_type": "execute_result"
    }
   ],
   "source": [
    "# Let's take a look on test datas.\n",
    "test = pd.read_csv(\"../input/commonlitreadabilityprize/test.csv\")\n",
    "test.head()"
   ]
  },
  {
   "cell_type": "markdown",
   "id": "rising-master",
   "metadata": {
    "papermill": {
     "duration": 0.047528,
     "end_time": "2021-06-16T22:16:39.386844",
     "exception": false,
     "start_time": "2021-06-16T22:16:39.339316",
     "status": "completed"
    },
    "tags": []
   },
   "source": [
    "# 2.Explorations Datas Analysis (EDA):"
   ]
  },
  {
   "cell_type": "markdown",
   "id": "confidential-breakfast",
   "metadata": {
    "papermill": {
     "duration": 0.046938,
     "end_time": "2021-06-16T22:16:39.480963",
     "exception": false,
     "start_time": "2021-06-16T22:16:39.434025",
     "status": "completed"
    },
    "tags": []
   },
   "source": [
    "### <font color=#FF15A8> Meta Features :"
   ]
  },
  {
   "cell_type": "code",
   "execution_count": 6,
   "id": "loaded-scanner",
   "metadata": {
    "execution": {
     "iopub.execute_input": "2021-06-16T22:16:39.616037Z",
     "iopub.status.busy": "2021-06-16T22:16:39.599485Z",
     "iopub.status.idle": "2021-06-16T22:17:30.614647Z",
     "shell.execute_reply": "2021-06-16T22:17:30.613735Z",
     "shell.execute_reply.started": "2021-06-16T21:11:53.052205Z"
    },
    "papermill": {
     "duration": 51.086721,
     "end_time": "2021-06-16T22:17:30.614802",
     "exception": false,
     "start_time": "2021-06-16T22:16:39.528081",
     "status": "completed"
    },
    "tags": []
   },
   "outputs": [],
   "source": [
    "# words_count.\n",
    "\n",
    "data[\"words_count\"] = data[\"excerpt\"].map(lambda x : len(x.split()))\n",
    "\n",
    "# unique_words_count\n",
    "\n",
    "data[\"unique_words_count\"] = data[\"excerpt\"].map(lambda x : len(set(str(x).lower().split())))\n",
    "\n",
    "# stop_words_count \n",
    "\n",
    "data[\"stop_words_count\"] = data[\"excerpt\"].map(lambda x : len([elt for elt in str(x).lower().split() if\\\n",
    "                                                              elt in nltk.corpus.stopwords.words(\"english\")]))\n",
    "# characters_count \n",
    "\n",
    "data[\"characters_count\"] = data[\"excerpt\"].map(lambda x : len(str(x)))\n",
    "\n",
    "#mean_words_length\n",
    "\n",
    "data[\"mean_words_length\"] = data[\"excerpt\"].map(lambda x : np.mean([len(elt) for elt in \\\n",
    "                                                                    x.split()]))\n",
    "\n",
    "#punctuation_count \n",
    "\n",
    "data[\"punctuation_count\"] = data[\"excerpt\"].map(lambda x : len([elt for elt in str(x).split()\\\n",
    "                                                               if elt in string.punctuation]))\n"
   ]
  },
  {
   "cell_type": "code",
   "execution_count": 7,
   "id": "composed-church",
   "metadata": {
    "execution": {
     "iopub.execute_input": "2021-06-16T22:17:30.727660Z",
     "iopub.status.busy": "2021-06-16T22:17:30.726778Z",
     "iopub.status.idle": "2021-06-16T22:17:30.736977Z",
     "shell.execute_reply": "2021-06-16T22:17:30.736561Z",
     "shell.execute_reply.started": "2021-06-16T21:12:43.209780Z"
    },
    "papermill": {
     "duration": 0.074141,
     "end_time": "2021-06-16T22:17:30.737095",
     "exception": false,
     "start_time": "2021-06-16T22:17:30.662954",
     "status": "completed"
    },
    "tags": []
   },
   "outputs": [],
   "source": [
    "# transform the target values to categorical variable,which represent the rate complexity \n",
    "# of reading passages for Quantile1 - Quantile4\n",
    "data[\"target_bins\"] = pd.cut(data[\"target\"].values,[data[\"target\"].min()-1,data[\"target\"].quantile(0.25),\\\n",
    "                                                    data[\"target\"].quantile(0.5),data[\"target\"].quantile(0.75),data[\"target\"].quantile(1)],right=True,labels=[f\"Q{i}\" for i in range(1,5)])"
   ]
  },
  {
   "cell_type": "code",
   "execution_count": 8,
   "id": "hundred-nothing",
   "metadata": {
    "execution": {
     "iopub.execute_input": "2021-06-16T22:17:30.855981Z",
     "iopub.status.busy": "2021-06-16T22:17:30.855133Z",
     "iopub.status.idle": "2021-06-16T22:17:32.903608Z",
     "shell.execute_reply": "2021-06-16T22:17:32.903116Z",
     "shell.execute_reply.started": "2021-06-16T21:12:43.227875Z"
    },
    "papermill": {
     "duration": 2.118684,
     "end_time": "2021-06-16T22:17:32.903734",
     "exception": false,
     "start_time": "2021-06-16T22:17:30.785050",
     "status": "completed"
    },
    "tags": []
   },
   "outputs": [
    {
     "data": {
      "image/png": "[encoded data removed]",
      "text/plain": [
       "<Figure size 1440x2160 with 6 Axes>"
      ]
     },
     "metadata": {
      "needs_background": "light"
     },
     "output_type": "display_data"
    }
   ],
   "source": [
    "meta_features = [\"words_count\",\"unique_words_count\",\"stop_words_count\",\"characters_count\",\\\n",
    "                \"mean_words_length\",\"punctuation_count\"]\n",
    "target_bins = data[\"target_bins\"].unique()\n",
    "fig, ax = plt.subplots(3,2,figsize=(20,30))\n",
    "for i,meta in enumerate(meta_features) :\n",
    "    for grade in target_bins :\n",
    "        mask = data[\"target_bins\"]== grade\n",
    "        sns.distplot(data[mask][meta],ax=ax[i//2,i%2],label=grade,kde=False)\n",
    "        ax[i//2,i%2].set_title(f\"{meta} distributions per grade\",fontsize=13)\n",
    "        ax[i//2,i%2].set_xlabel(\" \")\n",
    "        ax[i//2,i%2].tick_params(axis=\"x\",labelsize=13)\n",
    "        ax[i//2,i%2].tick_params(axis=\"y\",labelsize=13)\n",
    "        ax[i//2,i%2].legend()\n",
    "plt.show()"
   ]
  },
  {
   "cell_type": "markdown",
   "id": "every-milton",
   "metadata": {
    "papermill": {
     "duration": 0.048565,
     "end_time": "2021-06-16T22:17:33.002219",
     "exception": false,
     "start_time": "2021-06-16T22:17:32.953654",
     "status": "completed"
    },
    "tags": []
   },
   "source": [
    "==> The meta features distributions per grade complexity of excerpt , show the following statements :\n",
    "\n",
    "- Routhly same  distribution of words_count,unique_words_count,stop_words_count and punctuation_count per grade : This can allow us to conclude that theses features don't have informations about the target.\n",
    "- characters_count and mean_words_length features , have apparently a differents distribution per grade, which confirm that theses features could bring informations about our target.  \n",
    "\n",
    "We will hereunder investigate theses results by dressing the correlation of theses features with the target feature.\n"
   ]
  },
  {
   "cell_type": "code",
   "execution_count": 9,
   "id": "another-occasion",
   "metadata": {
    "execution": {
     "iopub.execute_input": "2021-06-16T22:17:33.109288Z",
     "iopub.status.busy": "2021-06-16T22:17:33.108774Z",
     "iopub.status.idle": "2021-06-16T22:17:33.354528Z",
     "shell.execute_reply": "2021-06-16T22:17:33.354100Z",
     "shell.execute_reply.started": "2021-06-16T21:12:45.444884Z"
    },
    "papermill": {
     "duration": 0.301697,
     "end_time": "2021-06-16T22:17:33.354654",
     "exception": false,
     "start_time": "2021-06-16T22:17:33.052957",
     "status": "completed"
    },
    "tags": []
   },
   "outputs": [
    {
     "data": {
      "text/plain": [
       "Text(0.5, 1.0, 'Correlation of Meta features with target')"
      ]
     },
     "execution_count": 9,
     "metadata": {},
     "output_type": "execute_result"
    },
    {
     "data": {
      "image/png": "[encoded data removed]",
      "text/plain": [
       "<Figure size 1440x360 with 2 Axes>"
      ]
     },
     "metadata": {
      "needs_background": "light"
     },
     "output_type": "display_data"
    }
   ],
   "source": [
    "# Investigate correlation between meta features and the target fature.\n",
    "fig = plt.figure(figsize=(20,5))\n",
    "correlation = pd.DataFrame({feature: data[\"target\"].corr(data[feature]) for feature in \\\n",
    "                           meta_features},index=[\"target\"])\n",
    "sns.heatmap(correlation,annot=True,square=True,cmap='BrBG',linewidths=0.5,\\\n",
    "            cbar_kws={\"shrink\": .5})\n",
    "plt.title(\"Correlation of Meta features with target\")"
   ]
  },
  {
   "cell_type": "markdown",
   "id": "creative-namibia",
   "metadata": {
    "papermill": {
     "duration": 0.050822,
     "end_time": "2021-06-16T22:17:33.455614",
     "exception": false,
     "start_time": "2021-06-16T22:17:33.404792",
     "status": "completed"
    },
    "tags": []
   },
   "source": [
    "==> The table above , confirm the previous results which conclude that characters_count and mean_words_length could bring a valuable informations about our target. "
   ]
  },
  {
   "cell_type": "markdown",
   "id": "under-sleep",
   "metadata": {
    "papermill": {
     "duration": 0.050547,
     "end_time": "2021-06-16T22:17:33.556662",
     "exception": false,
     "start_time": "2021-06-16T22:17:33.506115",
     "status": "completed"
    },
    "tags": []
   },
   "source": [
    "### <font color=#FF15A8> Embedding and Text Cleaning :"
   ]
  },
  {
   "cell_type": "markdown",
   "id": "exterior-vanilla",
   "metadata": {
    "papermill": {
     "duration": 0.049933,
     "end_time": "2021-06-16T22:17:33.658017",
     "exception": false,
     "start_time": "2021-06-16T22:17:33.608084",
     "status": "completed"
    },
    "tags": []
   },
   "source": [
    "We will do text cleaning based in the gloves embedding technic."
   ]
  },
  {
   "cell_type": "code",
   "execution_count": 10,
   "id": "downtown-webmaster",
   "metadata": {
    "execution": {
     "iopub.execute_input": "2021-06-16T22:17:33.793241Z",
     "iopub.status.busy": "2021-06-16T22:17:33.788310Z",
     "iopub.status.idle": "2021-06-16T22:17:33.888553Z",
     "shell.execute_reply": "2021-06-16T22:17:33.888084Z",
     "shell.execute_reply.started": "2021-06-16T21:12:45.698284Z"
    },
    "papermill": {
     "duration": 0.179988,
     "end_time": "2021-06-16T22:17:33.888692",
     "exception": false,
     "start_time": "2021-06-16T22:17:33.708704",
     "status": "completed"
    },
    "tags": []
   },
   "outputs": [],
   "source": [
    "# Distribution of each words in our corpus.\n",
    "corpus = []\n",
    "for tx in data[\"excerpt\"].values :\n",
    "    corpus.extend(str(tx).lower().split())\n",
    "counter = Counter(corpus)\n",
    "counter = dict(counter)"
   ]
  },
  {
   "cell_type": "code",
   "execution_count": 11,
   "id": "apparent-jamaica",
   "metadata": {
    "execution": {
     "iopub.execute_input": "2021-06-16T22:17:33.997185Z",
     "iopub.status.busy": "2021-06-16T22:17:33.996325Z",
     "iopub.status.idle": "2021-06-16T22:17:33.999028Z",
     "shell.execute_reply": "2021-06-16T22:17:33.998618Z",
     "shell.execute_reply.started": "2021-06-16T21:12:45.822687Z"
    },
    "papermill": {
     "duration": 0.059938,
     "end_time": "2021-06-16T22:17:33.999146",
     "exception": false,
     "start_time": "2021-06-16T22:17:33.939208",
     "status": "completed"
    },
    "tags": []
   },
   "outputs": [],
   "source": [
    "def check_embedding_coverage(embedding,counter):\n",
    "    \"\"\"This function allow to inspect the coverage of our corpus by the embedding word,\n",
    "       represented in GloVe technic. \n",
    "       \n",
    "       @param embedding(dict) : a dict of the words with their embedding coefficients in the used \n",
    "                                embedding technic.\n",
    "       @param counter(dict) : a dict of the words distributions in the corpus that we would \n",
    "                              examinate.\n",
    "       \n",
    "       @return coverage_text (int): the coverage of our corpus by the terms used in the \n",
    "                                    introduced embedding technic.\n",
    "       @return coverage_vocab(int) : the coverage of the vocab used in the corpus by the terms used\n",
    "                                in the introduced embedding technic.\n",
    "       @return oov (list) : ordered list of words,that not represented in the embedding technic \n",
    "                            terms.\n",
    "    \"\"\"\n",
    "    oov_words = {}\n",
    "    covered_words = {}\n",
    "    n_coov = 0\n",
    "    n_oov = 0\n",
    "    for word in counter :\n",
    "        try :\n",
    "            covered_words[word] = embedding[word]\n",
    "            n_coov += counter[word]\n",
    "        except :\n",
    "            oov_words[word] = counter[word]\n",
    "            n_oov += counter[word]\n",
    "    coverage_text = (n_coov/(n_coov+n_oov)) * 100 \n",
    "    coverage_vocab = (len(covered_words)/len(counter)) *100\n",
    "    oov = sorted(oov_words.items(),key=operator.itemgetter(1),reverse=True)\n",
    "    \n",
    "    return coverage_text,coverage_vocab,oov"
   ]
  },
  {
   "cell_type": "code",
   "execution_count": 12,
   "id": "foreign-structure",
   "metadata": {
    "execution": {
     "iopub.execute_input": "2021-06-16T22:17:34.105207Z",
     "iopub.status.busy": "2021-06-16T22:17:34.104681Z",
     "iopub.status.idle": "2021-06-16T22:18:09.441229Z",
     "shell.execute_reply": "2021-06-16T22:18:09.440770Z",
     "shell.execute_reply.started": "2021-06-16T21:12:45.831984Z"
    },
    "papermill": {
     "duration": 35.391164,
     "end_time": "2021-06-16T22:18:09.441362",
     "exception": false,
     "start_time": "2021-06-16T22:17:34.050198",
     "status": "completed"
    },
    "tags": []
   },
   "outputs": [],
   "source": [
    "# load Glove embedding terms and weights.\n",
    "glove_embedding_file =  \"../input/gloves-embedding-weights/glove.6B.300d.txt\"\n",
    "glove_embedding = {}\n",
    "f = open(glove_embedding_file)\n",
    "for l in f :\n",
    "    content = l.split()\n",
    "    glove_embedding[content[0]] = np.asarray(content[1:])"
   ]
  },
  {
   "cell_type": "code",
   "execution_count": 13,
   "id": "focused-karen",
   "metadata": {
    "execution": {
     "iopub.execute_input": "2021-06-16T22:18:09.569386Z",
     "iopub.status.busy": "2021-06-16T22:18:09.564263Z",
     "iopub.status.idle": "2021-06-16T22:18:09.607766Z",
     "shell.execute_reply": "2021-06-16T22:18:09.608177Z",
     "shell.execute_reply.started": "2021-06-16T21:13:21.991745Z"
    },
    "papermill": {
     "duration": 0.117075,
     "end_time": "2021-06-16T22:18:09.608319",
     "exception": false,
     "start_time": "2021-06-16T22:18:09.491244",
     "status": "completed"
    },
    "tags": []
   },
   "outputs": [
    {
     "name": "stdout",
     "output_type": "stream",
     "text": [
      "Glove embedding cover 43 % of vocabulary and 86 % of text in our training corpus\n"
     ]
    }
   ],
   "source": [
    "coverage_text,coverage_vocab,oov = check_embedding_coverage(glove_embedding,counter)\n",
    "print(f\"Glove embedding cover {ceil(coverage_vocab)} % of vocabulary and {ceil(coverage_text)} % of text in our training corpus\")"
   ]
  },
  {
   "cell_type": "code",
   "execution_count": 14,
   "id": "liked-jason",
   "metadata": {
    "execution": {
     "iopub.execute_input": "2021-06-16T22:18:09.713198Z",
     "iopub.status.busy": "2021-06-16T22:18:09.712676Z",
     "iopub.status.idle": "2021-06-16T22:18:09.716624Z",
     "shell.execute_reply": "2021-06-16T22:18:09.716204Z",
     "shell.execute_reply.started": "2021-06-16T21:13:22.058927Z"
    },
    "papermill": {
     "duration": 0.05851,
     "end_time": "2021-06-16T22:18:09.716741",
     "exception": false,
     "start_time": "2021-06-16T22:18:09.658231",
     "status": "completed"
    },
    "tags": []
   },
   "outputs": [],
   "source": [
    "test_corpus = []\n",
    "for tx in test[\"excerpt\"].values :\n",
    "    test_corpus.extend(tx.lower().split())\n",
    "test_counter = Counter(test_corpus)"
   ]
  },
  {
   "cell_type": "code",
   "execution_count": 15,
   "id": "detected-asthma",
   "metadata": {
    "execution": {
     "iopub.execute_input": "2021-06-16T22:18:09.825147Z",
     "iopub.status.busy": "2021-06-16T22:18:09.824486Z",
     "iopub.status.idle": "2021-06-16T22:18:09.828145Z",
     "shell.execute_reply": "2021-06-16T22:18:09.828733Z",
     "shell.execute_reply.started": "2021-06-16T21:13:22.066032Z"
    },
    "papermill": {
     "duration": 0.061731,
     "end_time": "2021-06-16T22:18:09.828909",
     "exception": false,
     "start_time": "2021-06-16T22:18:09.767178",
     "status": "completed"
    },
    "tags": []
   },
   "outputs": [
    {
     "name": "stdout",
     "output_type": "stream",
     "text": [
      "Glove embedding cover 76 % of vocabulary and 86 % of text in our test corpus\n"
     ]
    }
   ],
   "source": [
    "coverage_text,coverage_vocab,oov = check_embedding_coverage(glove_embedding,test_counter)\n",
    "print(f\"Glove embedding cover {ceil(coverage_vocab)} % of vocabulary and {ceil(coverage_text)} % of text in our test corpus\")"
   ]
  },
  {
   "cell_type": "markdown",
   "id": "variable-sitting",
   "metadata": {
    "papermill": {
     "duration": 0.050137,
     "end_time": "2021-06-16T22:18:09.929952",
     "exception": false,
     "start_time": "2021-06-16T22:18:09.879815",
     "status": "completed"
    },
    "tags": []
   },
   "source": [
    "We will made the following cleaning in order to enhance coverage embedding of text and vocab :\n",
    "- The most common type of words that require cleaning , have punctuations at first or in the end of the word.THe words don't have embedding because the trailing punctuations. Punctuations : . , ? ! ; \" (\n",
    "- Typos and slang are corrected , and informal abbreviation are written in their long form."
   ]
  },
  {
   "cell_type": "code",
   "execution_count": 16,
   "id": "correct-moment",
   "metadata": {
    "execution": {
     "iopub.execute_input": "2021-06-16T22:18:10.041423Z",
     "iopub.status.busy": "2021-06-16T22:18:10.039783Z",
     "iopub.status.idle": "2021-06-16T22:18:10.042122Z",
     "shell.execute_reply": "2021-06-16T22:18:10.042530Z",
     "shell.execute_reply.started": "2021-06-16T21:13:22.083685Z"
    },
    "papermill": {
     "duration": 0.062568,
     "end_time": "2021-06-16T22:18:10.042674",
     "exception": false,
     "start_time": "2021-06-16T22:18:09.980106",
     "status": "completed"
    },
    "tags": []
   },
   "outputs": [],
   "source": [
    "def clean_text(excerpt):\n",
    "    punctuations = \".,?!;\\(\\\":-)‘\"\n",
    "    extrait = excerpt\n",
    "    for p in punctuations : \n",
    "      extrait = extrait.replace(p,f\" {p} \")\n",
    "    extrait = re.sub(r\"'s\",\" is \",extrait)\n",
    "    extrait = extrait.replace(\"i'm\",\"I'm\")\n",
    "    extrait = extrait.replace(\"don't\",\"do not\")\n",
    "    extrait = extrait.replace(\"didn't\",\"did not\")\n",
    "    extrait = extrait.replace(\"can't\",\"cannot\")\n",
    "    extrait = extrait.replace(\"i'll\",\"I will\")\n",
    "    extrait = extrait.replace(\"wouldn't\",\"would not\")\n",
    "    extrait = extrait.replace(\"i've\",\"I have\")\n",
    "    extrait = re.sub(r\"i've\",\"I have\",extrait)\n",
    "    extrait = extrait.replace(\"won't\",\"will not\")\n",
    "    extrait = extrait.replace(\"couldn't\",\"could not\")\n",
    "    extrait = extrait.replace(\"wasn't\",\"was not\")\n",
    "    extrait = extrait.replace(\"you'll\",\"you will\")\n",
    "    extrait = extrait.replace(\"isn't\",\"is not\")\n",
    "    extrait = extrait.replace(\"you're\",\"you are\")\n",
    "    extrait = extrait.replace(\"hadn't\",\"had not\")\n",
    "    extrait = extrait.replace(\"you've\",\"you have\")\n",
    "    extrait = extrait.replace(\"doesn't\",\"does not\")\n",
    "    extrait = extrait.replace(\"haven't\",\"have not\")\n",
    "    extrait = extrait.replace(\"they're\",\"they are\")\n",
    "    extrait = extrait.replace(\"we're\",\"we are\")\n",
    "    #extrait = re.sub(r\"(/s+)i(/s+)\",\"I\",excerpt)\n",
    "    #extrait = re.sub(r\"don't\",\"do not\",extrait)\n",
    "    #extrait = re.sub(r\"i'm\",\"I'm\",extrait)\n",
    "    #extrait = re.sub(r\"man's\",\"man is\",extrait)\n",
    "    #extrait = re.sub(r\"it's\",\"it is\",extrait)\n",
    "    #extrait = re.sub(r\"didn't\",\"did not\",extrait)\n",
    "    #extrait = re.sub(r\"can't\",\"cannot\",extrait)\n",
    "    #extrait = re.sub(r\"earth's\",\"earth is\",extrait)\n",
    "    #extrait = re.sub(r\"father's\",\"father is\",extrait)\n",
    "    #extrait = re.sub(r\"i'll\",\"I will\",extrait)\n",
    "    #extrait = re.sub(r\"i've\",\"I have\",extrait)\n",
    "    #extrait = re.sub(r\"i\\'\",r\"I'\",extrait)\n",
    "    #extrait = re.sub(r\"children\\'s\",\"children is\",extrait)\n",
    "    \n",
    "    return extrait "
   ]
  },
  {
   "cell_type": "code",
   "execution_count": 17,
   "id": "corresponding-microphone",
   "metadata": {
    "execution": {
     "iopub.execute_input": "2021-06-16T22:18:10.178139Z",
     "iopub.status.busy": "2021-06-16T22:18:10.162774Z",
     "iopub.status.idle": "2021-06-16T22:18:10.255294Z",
     "shell.execute_reply": "2021-06-16T22:18:10.254851Z",
     "shell.execute_reply.started": "2021-06-16T21:13:22.095372Z"
    },
    "papermill": {
     "duration": 0.16259,
     "end_time": "2021-06-16T22:18:10.255426",
     "exception": false,
     "start_time": "2021-06-16T22:18:10.092836",
     "status": "completed"
    },
    "tags": []
   },
   "outputs": [],
   "source": [
    "# clean the train datas\n",
    "data[\"cleaned_excerpt\"] = data[\"excerpt\"].map(clean_text)"
   ]
  },
  {
   "cell_type": "code",
   "execution_count": 18,
   "id": "antique-recruitment",
   "metadata": {
    "execution": {
     "iopub.execute_input": "2021-06-16T22:18:10.472566Z",
     "iopub.status.busy": "2021-06-16T22:18:10.400880Z",
     "iopub.status.idle": "2021-06-16T22:18:10.508256Z",
     "shell.execute_reply": "2021-06-16T22:18:10.507843Z",
     "shell.execute_reply.started": "2021-06-16T21:13:22.214167Z"
    },
    "papermill": {
     "duration": 0.201023,
     "end_time": "2021-06-16T22:18:10.508375",
     "exception": false,
     "start_time": "2021-06-16T22:18:10.307352",
     "status": "completed"
    },
    "tags": []
   },
   "outputs": [
    {
     "name": "stdout",
     "output_type": "stream",
     "text": [
      "Glove embedding cover 91 % of vocabulary and 100 % of text in our cleaned training corpus\n"
     ]
    }
   ],
   "source": [
    "corpus = []\n",
    "for tx in data[\"cleaned_excerpt\"].values :\n",
    "    corpus.extend(str(tx).lower().split())\n",
    "counter = Counter(corpus)\n",
    "coverage_text,coverage_vocab,oov = check_embedding_coverage(glove_embedding,counter)\n",
    "print(f\"Glove embedding cover {ceil(coverage_vocab)} % of vocabulary and {ceil(coverage_text)} % of text in our cleaned training corpus\")"
   ]
  },
  {
   "cell_type": "code",
   "execution_count": 19,
   "id": "lesser-vacuum",
   "metadata": {
    "execution": {
     "iopub.execute_input": "2021-06-16T22:18:10.616700Z",
     "iopub.status.busy": "2021-06-16T22:18:10.615229Z",
     "iopub.status.idle": "2021-06-16T22:18:10.617534Z",
     "shell.execute_reply": "2021-06-16T22:18:10.617968Z",
     "shell.execute_reply.started": "2021-06-16T21:13:22.359402Z"
    },
    "papermill": {
     "duration": 0.058784,
     "end_time": "2021-06-16T22:18:10.618099",
     "exception": false,
     "start_time": "2021-06-16T22:18:10.559315",
     "status": "completed"
    },
    "tags": []
   },
   "outputs": [],
   "source": [
    "# clean the test datas.\n",
    "test[\"cleaned_excerpt\"] = test[\"excerpt\"].map(clean_text)"
   ]
  },
  {
   "cell_type": "code",
   "execution_count": 20,
   "id": "accurate-density",
   "metadata": {
    "execution": {
     "iopub.execute_input": "2021-06-16T22:18:10.738204Z",
     "iopub.status.busy": "2021-06-16T22:18:10.737376Z",
     "iopub.status.idle": "2021-06-16T22:18:10.743128Z",
     "shell.execute_reply": "2021-06-16T22:18:10.742560Z",
     "shell.execute_reply.started": "2021-06-16T21:13:22.367121Z"
    },
    "papermill": {
     "duration": 0.074501,
     "end_time": "2021-06-16T22:18:10.743291",
     "exception": false,
     "start_time": "2021-06-16T22:18:10.668790",
     "status": "completed"
    },
    "tags": []
   },
   "outputs": [
    {
     "name": "stdout",
     "output_type": "stream",
     "text": [
      "Glove embedding cover 100 % of vocabulary and 100 % of text in our cleaned training corpus\n"
     ]
    }
   ],
   "source": [
    "test_corpus = []\n",
    "for tx in test[\"cleaned_excerpt\"].values :\n",
    "    test_corpus.extend(str(tx).lower().split())\n",
    "counter = Counter(test_corpus)\n",
    "coverage_text,coverage_vocab,oov = check_embedding_coverage(glove_embedding,counter)\n",
    "print(f\"Glove embedding cover {ceil(coverage_vocab)} % of vocabulary and {ceil(coverage_text)} % of text in our cleaned training corpus\")"
   ]
  },
  {
   "cell_type": "markdown",
   "id": "stunning-sauce",
   "metadata": {
    "papermill": {
     "duration": 0.052366,
     "end_time": "2021-06-16T22:18:10.849017",
     "exception": false,
     "start_time": "2021-06-16T22:18:10.796651",
     "status": "completed"
    },
    "tags": []
   },
   "source": [
    "# 3. Modeling:"
   ]
  },
  {
   "cell_type": "markdown",
   "id": "sufficient-medicare",
   "metadata": {
    "papermill": {
     "duration": 0.050675,
     "end_time": "2021-06-16T22:18:10.951374",
     "exception": false,
     "start_time": "2021-06-16T22:18:10.900699",
     "status": "completed"
    },
    "tags": []
   },
   "source": [
    "### <font color=#FF15A8> LSTM +CNN :"
   ]
  },
  {
   "cell_type": "markdown",
   "id": "going-slovakia",
   "metadata": {
    "papermill": {
     "duration": 0.051072,
     "end_time": "2021-06-16T22:18:11.053216",
     "exception": false,
     "start_time": "2021-06-16T22:18:11.002144",
     "status": "completed"
    },
    "tags": []
   },
   "source": [
    "#### <b> Data preparation  </b>:"
   ]
  },
  {
   "cell_type": "code",
   "execution_count": 21,
   "id": "handed-blues",
   "metadata": {
    "execution": {
     "iopub.execute_input": "2021-06-16T22:18:11.163325Z",
     "iopub.status.busy": "2021-06-16T22:18:11.162531Z",
     "iopub.status.idle": "2021-06-16T22:18:11.170212Z",
     "shell.execute_reply": "2021-06-16T22:18:11.169810Z",
     "shell.execute_reply.started": "2021-06-16T21:13:22.380202Z"
    },
    "papermill": {
     "duration": 0.065138,
     "end_time": "2021-06-16T22:18:11.170326",
     "exception": false,
     "start_time": "2021-06-16T22:18:11.105188",
     "status": "completed"
    },
    "tags": []
   },
   "outputs": [],
   "source": [
    "# split datas to train and test datas.\n",
    "data_tr,data_ts,ytr,yts = train_test_split(data,data[\"target\"],test_size=\\\n",
    "                                  0.2,stratify=data[\"target_bins\"].values,random_state=42)"
   ]
  },
  {
   "cell_type": "code",
   "execution_count": 22,
   "id": "compatible-accreditation",
   "metadata": {
    "execution": {
     "iopub.execute_input": "2021-06-16T22:18:11.316635Z",
     "iopub.status.busy": "2021-06-16T22:18:11.311589Z",
     "iopub.status.idle": "2021-06-16T22:18:11.731894Z",
     "shell.execute_reply": "2021-06-16T22:18:11.732601Z",
     "shell.execute_reply.started": "2021-06-16T21:13:22.396733Z"
    },
    "papermill": {
     "duration": 0.510734,
     "end_time": "2021-06-16T22:18:11.732878",
     "exception": false,
     "start_time": "2021-06-16T22:18:11.222144",
     "status": "completed"
    },
    "tags": []
   },
   "outputs": [],
   "source": [
    "lstm_tokenizer = Tokenizer(27892,oov_token=\"<OOV>\")\n",
    "lstm_tokenizer.fit_on_texts(data[\"cleaned_excerpt\"].values)\n",
    "word_index = lstm_tokenizer.word_index"
   ]
  },
  {
   "cell_type": "code",
   "execution_count": 23,
   "id": "nonprofit-emission",
   "metadata": {
    "execution": {
     "iopub.execute_input": "2021-06-16T22:18:11.907807Z",
     "iopub.status.busy": "2021-06-16T22:18:11.906903Z",
     "iopub.status.idle": "2021-06-16T22:18:11.909190Z",
     "shell.execute_reply": "2021-06-16T22:18:11.908541Z",
     "shell.execute_reply.started": "2021-06-16T21:13:22.846550Z"
    },
    "papermill": {
     "duration": 0.089866,
     "end_time": "2021-06-16T22:18:11.909353",
     "exception": false,
     "start_time": "2021-06-16T22:18:11.819487",
     "status": "completed"
    },
    "tags": []
   },
   "outputs": [],
   "source": [
    "def preprocessing_data(txs,tokenizer,max_len):\n",
    "    x = tokenizer.texts_to_sequences(txs)\n",
    "    x = pad_sequences(x,maxlen=max_len,padding=\"post\",truncating=\"post\")\n",
    "    return x"
   ]
  },
  {
   "cell_type": "code",
   "execution_count": 24,
   "id": "textile-regard",
   "metadata": {
    "execution": {
     "iopub.execute_input": "2021-06-16T22:18:12.087135Z",
     "iopub.status.busy": "2021-06-16T22:18:12.086355Z",
     "iopub.status.idle": "2021-06-16T22:18:12.367114Z",
     "shell.execute_reply": "2021-06-16T22:18:12.366357Z",
     "shell.execute_reply.started": "2021-06-16T21:13:22.853567Z"
    },
    "papermill": {
     "duration": 0.374729,
     "end_time": "2021-06-16T22:18:12.367245",
     "exception": false,
     "start_time": "2021-06-16T22:18:11.992516",
     "status": "completed"
    },
    "tags": []
   },
   "outputs": [
    {
     "data": {
      "image/png": "[encoded data removed]",
      "text/plain": [
       "<Figure size 432x288 with 1 Axes>"
      ]
     },
     "metadata": {
      "needs_background": "light"
     },
     "output_type": "display_data"
    }
   ],
   "source": [
    "# plot the sequence length distribution.\n",
    "lengths = [len(seq.split()) for seq in data[\"cleaned_excerpt\"].values]\n",
    "plt.hist(lengths,bins=30)\n",
    "plt.title(\"Distribution of sequence length in our training dataset\",size=15,color=\"red\")\n",
    "plt.show()"
   ]
  },
  {
   "cell_type": "code",
   "execution_count": 25,
   "id": "wanted-crown",
   "metadata": {
    "execution": {
     "iopub.execute_input": "2021-06-16T22:18:12.479553Z",
     "iopub.status.busy": "2021-06-16T22:18:12.477803Z",
     "iopub.status.idle": "2021-06-16T22:18:12.480292Z",
     "shell.execute_reply": "2021-06-16T22:18:12.480749Z",
     "shell.execute_reply.started": "2021-06-16T21:13:23.064202Z"
    },
    "papermill": {
     "duration": 0.060532,
     "end_time": "2021-06-16T22:18:12.480886",
     "exception": false,
     "start_time": "2021-06-16T22:18:12.420354",
     "status": "completed"
    },
    "tags": []
   },
   "outputs": [],
   "source": [
    "input_length = 280 "
   ]
  },
  {
   "cell_type": "markdown",
   "id": "impressive-interstate",
   "metadata": {
    "papermill": {
     "duration": 0.053319,
     "end_time": "2021-06-16T22:18:12.588122",
     "exception": false,
     "start_time": "2021-06-16T22:18:12.534803",
     "status": "completed"
    },
    "tags": []
   },
   "source": [
    "#### <b> LSTM Model  </b>:"
   ]
  },
  {
   "cell_type": "code",
   "execution_count": 26,
   "id": "specialized-parks",
   "metadata": {
    "execution": {
     "iopub.execute_input": "2021-06-16T22:18:12.751085Z",
     "iopub.status.busy": "2021-06-16T22:18:12.735334Z",
     "iopub.status.idle": "2021-06-16T22:18:17.159053Z",
     "shell.execute_reply": "2021-06-16T22:18:17.158577Z",
     "shell.execute_reply.started": "2021-06-16T21:13:23.070309Z"
    },
    "papermill": {
     "duration": 4.517734,
     "end_time": "2021-06-16T22:18:17.159199",
     "exception": false,
     "start_time": "2021-06-16T22:18:12.641465",
     "status": "completed"
    },
    "tags": []
   },
   "outputs": [],
   "source": [
    "embedding_matrix = np.zeros((len(word_index)+1,300))\n",
    "for word,i in lstm_tokenizer.word_index.items() :\n",
    "    if glove_embedding.get(word) is not None:\n",
    "        embedding_matrix[i,:] = glove_embedding.get(word)\n",
    "   "
   ]
  },
  {
   "cell_type": "code",
   "execution_count": 27,
   "id": "arabic-patient",
   "metadata": {
    "execution": {
     "iopub.execute_input": "2021-06-16T22:18:17.266612Z",
     "iopub.status.busy": "2021-06-16T22:18:17.266061Z",
     "iopub.status.idle": "2021-06-16T22:18:17.278416Z",
     "shell.execute_reply": "2021-06-16T22:18:17.277991Z",
     "shell.execute_reply.started": "2021-06-16T21:13:27.528826Z"
    },
    "papermill": {
     "duration": 0.06756,
     "end_time": "2021-06-16T22:18:17.278557",
     "exception": false,
     "start_time": "2021-06-16T22:18:17.210997",
     "status": "completed"
    },
    "tags": []
   },
   "outputs": [],
   "source": [
    "embedding_layer = Embedding(len(word_index)+1,300,weights=[embedding_matrix],input_length=\\\n",
    "                           input_length,trainable=False)"
   ]
  },
  {
   "cell_type": "code",
   "execution_count": 28,
   "id": "responsible-trading",
   "metadata": {
    "execution": {
     "iopub.execute_input": "2021-06-16T22:18:17.394083Z",
     "iopub.status.busy": "2021-06-16T22:18:17.393146Z",
     "iopub.status.idle": "2021-06-16T22:18:17.396345Z",
     "shell.execute_reply": "2021-06-16T22:18:17.395879Z",
     "shell.execute_reply.started": "2021-06-16T21:13:27.549307Z"
    },
    "papermill": {
     "duration": 0.064123,
     "end_time": "2021-06-16T22:18:17.396491",
     "exception": false,
     "start_time": "2021-06-16T22:18:17.332368",
     "status": "completed"
    },
    "tags": []
   },
   "outputs": [],
   "source": [
    "def lstm_model() :\n",
    "    model = Sequential([embedding_layer,Bidirectional(LSTM(64,return_sequences=True)),\\\n",
    "                   Bidirectional(LSTM(32,return_sequences=True)),Dense(1)])\n",
    "    model.compile(loss=\"mse\",optimizer=\"adam\",metrics=\"mse\")\n",
    "    return model "
   ]
  },
  {
   "cell_type": "code",
   "execution_count": 29,
   "id": "exact-improvement",
   "metadata": {
    "execution": {
     "iopub.execute_input": "2021-06-16T22:18:17.522656Z",
     "iopub.status.busy": "2021-06-16T22:18:17.521707Z",
     "iopub.status.idle": "2021-06-16T22:18:17.524136Z",
     "shell.execute_reply": "2021-06-16T22:18:17.524653Z",
     "shell.execute_reply.started": "2021-06-16T21:13:27.556477Z"
    },
    "papermill": {
     "duration": 0.067543,
     "end_time": "2021-06-16T22:18:17.524799",
     "exception": false,
     "start_time": "2021-06-16T22:18:17.457256",
     "status": "completed"
    },
    "tags": []
   },
   "outputs": [],
   "source": [
    "checkpoint_lstm = './lstm/checkpoint'\n",
    "early_stopping = EarlyStopping(patience=20,min_delta=0.1,monitor=\"val_loss\")\n",
    "check_point = ModelCheckpoint(checkpoint_lstm,monitor=\"val_loss\",save_weights_only=True,\\\n",
    "                             save_best_only=True,mode=\"min\")"
   ]
  },
  {
   "cell_type": "code",
   "execution_count": 30,
   "id": "terminal-joint",
   "metadata": {
    "execution": {
     "iopub.execute_input": "2021-06-16T22:18:17.654566Z",
     "iopub.status.busy": "2021-06-16T22:18:17.653721Z",
     "iopub.status.idle": "2021-06-16T22:26:19.296946Z",
     "shell.execute_reply": "2021-06-16T22:26:19.296517Z",
     "shell.execute_reply.started": "2021-06-16T21:13:27.570095Z"
    },
    "papermill": {
     "duration": 481.713494,
     "end_time": "2021-06-16T22:26:19.297084",
     "exception": false,
     "start_time": "2021-06-16T22:18:17.583590",
     "status": "completed"
    },
    "tags": []
   },
   "outputs": [
    {
     "name": "stdout",
     "output_type": "stream",
     "text": [
      "Epoch 1/100\n",
      "57/57 [==============================] - 11s 84ms/step - loss: 1.2333 - mse: 1.2333 - val_loss: 0.7724 - val_mse: 0.7724\n",
      "Epoch 2/100\n",
      "57/57 [==============================] - 3s 51ms/step - loss: 0.7797 - mse: 0.7797 - val_loss: 0.6274 - val_mse: 0.6274\n",
      "Epoch 3/100\n",
      "57/57 [==============================] - 3s 51ms/step - loss: 0.6935 - mse: 0.6935 - val_loss: 0.8172 - val_mse: 0.8172\n",
      "Epoch 4/100\n",
      "57/57 [==============================] - 3s 51ms/step - loss: 0.7248 - mse: 0.7248 - val_loss: 0.7408 - val_mse: 0.7408\n",
      "Epoch 5/100\n",
      "57/57 [==============================] - 3s 52ms/step - loss: 0.6857 - mse: 0.6857 - val_loss: 0.6195 - val_mse: 0.6195\n",
      "Epoch 6/100\n",
      "57/57 [==============================] - 3s 51ms/step - loss: 0.8215 - mse: 0.8215 - val_loss: 0.7451 - val_mse: 0.7451\n",
      "Epoch 7/100\n",
      "57/57 [==============================] - 3s 51ms/step - loss: 0.6689 - mse: 0.6689 - val_loss: 0.6770 - val_mse: 0.6770\n",
      "Epoch 8/100\n",
      "57/57 [==============================] - 3s 53ms/step - loss: 0.6130 - mse: 0.6130 - val_loss: 0.5268 - val_mse: 0.5268\n",
      "Epoch 9/100\n",
      "57/57 [==============================] - 3s 51ms/step - loss: 0.4946 - mse: 0.4946 - val_loss: 0.5277 - val_mse: 0.5277\n",
      "Epoch 10/100\n",
      "57/57 [==============================] - 3s 51ms/step - loss: 0.5132 - mse: 0.5132 - val_loss: 0.5052 - val_mse: 0.5052\n",
      "Epoch 11/100\n",
      "57/57 [==============================] - 3s 51ms/step - loss: 0.4245 - mse: 0.4245 - val_loss: 0.5745 - val_mse: 0.5745\n",
      "Epoch 12/100\n",
      "57/57 [==============================] - 3s 55ms/step - loss: 0.4789 - mse: 0.4789 - val_loss: 0.4827 - val_mse: 0.4827\n",
      "Epoch 13/100\n",
      "57/57 [==============================] - 3s 52ms/step - loss: 0.4403 - mse: 0.4403 - val_loss: 0.4696 - val_mse: 0.4696\n",
      "Epoch 14/100\n",
      "57/57 [==============================] - 3s 51ms/step - loss: 0.3723 - mse: 0.3723 - val_loss: 0.4677 - val_mse: 0.4677\n",
      "Epoch 15/100\n",
      "57/57 [==============================] - 3s 51ms/step - loss: 0.3324 - mse: 0.3324 - val_loss: 0.5035 - val_mse: 0.5035\n",
      "Epoch 16/100\n",
      "57/57 [==============================] - 3s 55ms/step - loss: 0.3245 - mse: 0.3245 - val_loss: 0.4526 - val_mse: 0.4526\n",
      "Epoch 17/100\n",
      "57/57 [==============================] - 3s 51ms/step - loss: 0.3001 - mse: 0.3001 - val_loss: 0.4583 - val_mse: 0.4583\n",
      "Epoch 18/100\n",
      "57/57 [==============================] - 3s 51ms/step - loss: 0.3208 - mse: 0.3208 - val_loss: 0.4547 - val_mse: 0.4547\n",
      "Epoch 19/100\n",
      "57/57 [==============================] - 3s 53ms/step - loss: 0.2654 - mse: 0.2654 - val_loss: 0.4927 - val_mse: 0.4927\n",
      "Epoch 20/100\n",
      "57/57 [==============================] - 3s 52ms/step - loss: 0.2617 - mse: 0.2617 - val_loss: 0.4666 - val_mse: 0.4666\n",
      "Epoch 21/100\n",
      "57/57 [==============================] - 3s 51ms/step - loss: 0.2332 - mse: 0.2332 - val_loss: 0.4518 - val_mse: 0.4518\n",
      "Epoch 22/100\n",
      "57/57 [==============================] - 3s 52ms/step - loss: 0.2332 - mse: 0.2332 - val_loss: 0.4345 - val_mse: 0.4345\n",
      "Epoch 23/100\n",
      "57/57 [==============================] - 3s 56ms/step - loss: 0.2041 - mse: 0.2041 - val_loss: 0.5023 - val_mse: 0.5023\n",
      "Epoch 24/100\n",
      "57/57 [==============================] - 3s 52ms/step - loss: 0.1968 - mse: 0.1968 - val_loss: 0.5071 - val_mse: 0.5071\n",
      "Epoch 25/100\n",
      "57/57 [==============================] - 3s 51ms/step - loss: 0.1761 - mse: 0.1761 - val_loss: 0.4688 - val_mse: 0.4688\n",
      "Epoch 26/100\n",
      "57/57 [==============================] - 3s 52ms/step - loss: 0.1651 - mse: 0.1651 - val_loss: 0.4788 - val_mse: 0.4788\n",
      "Epoch 27/100\n",
      "57/57 [==============================] - 3s 53ms/step - loss: 0.1441 - mse: 0.1441 - val_loss: 0.5435 - val_mse: 0.5435\n",
      "Epoch 28/100\n",
      "57/57 [==============================] - 3s 51ms/step - loss: 0.1409 - mse: 0.1409 - val_loss: 0.4738 - val_mse: 0.4738\n",
      "Epoch 1/100\n",
      "57/57 [==============================] - 9s 71ms/step - loss: 1.2062 - mse: 1.2062 - val_loss: 0.9795 - val_mse: 0.9795\n",
      "Epoch 2/100\n",
      "57/57 [==============================] - 3s 51ms/step - loss: 0.8179 - mse: 0.8179 - val_loss: 0.7439 - val_mse: 0.7439\n",
      "Epoch 3/100\n",
      "57/57 [==============================] - 3s 51ms/step - loss: 0.8998 - mse: 0.8998 - val_loss: 0.8139 - val_mse: 0.8139\n",
      "Epoch 4/100\n",
      "57/57 [==============================] - 3s 55ms/step - loss: 0.7580 - mse: 0.7580 - val_loss: 0.7564 - val_mse: 0.7564\n",
      "Epoch 5/100\n",
      "57/57 [==============================] - 3s 51ms/step - loss: 0.6611 - mse: 0.6611 - val_loss: 0.6402 - val_mse: 0.6402\n",
      "Epoch 6/100\n",
      "57/57 [==============================] - 3s 51ms/step - loss: 0.5651 - mse: 0.5651 - val_loss: 0.6132 - val_mse: 0.6132\n",
      "Epoch 7/100\n",
      "57/57 [==============================] - 3s 53ms/step - loss: 0.6795 - mse: 0.6795 - val_loss: 0.5872 - val_mse: 0.5872\n",
      "Epoch 8/100\n",
      "57/57 [==============================] - 3s 51ms/step - loss: 0.4967 - mse: 0.4967 - val_loss: 0.5437 - val_mse: 0.5437\n",
      "Epoch 9/100\n",
      "57/57 [==============================] - 3s 51ms/step - loss: 0.5427 - mse: 0.5427 - val_loss: 0.5530 - val_mse: 0.5530\n",
      "Epoch 10/100\n",
      "57/57 [==============================] - 3s 51ms/step - loss: 0.4784 - mse: 0.4784 - val_loss: 0.6262 - val_mse: 0.6262\n",
      "Epoch 11/100\n",
      "57/57 [==============================] - 3s 52ms/step - loss: 0.5351 - mse: 0.5351 - val_loss: 0.5461 - val_mse: 0.5461\n",
      "Epoch 12/100\n",
      "57/57 [==============================] - 3s 51ms/step - loss: 0.4955 - mse: 0.4955 - val_loss: 0.5896 - val_mse: 0.5896\n",
      "Epoch 13/100\n",
      "57/57 [==============================] - 3s 50ms/step - loss: 0.4919 - mse: 0.4919 - val_loss: 0.4890 - val_mse: 0.4890\n",
      "Epoch 14/100\n",
      "57/57 [==============================] - 3s 51ms/step - loss: 0.4264 - mse: 0.4264 - val_loss: 1.0463 - val_mse: 1.0463\n",
      "Epoch 15/100\n",
      "57/57 [==============================] - 3s 55ms/step - loss: 0.8418 - mse: 0.8418 - val_loss: 0.7070 - val_mse: 0.7070\n",
      "Epoch 16/100\n",
      "57/57 [==============================] - 3s 52ms/step - loss: 0.5940 - mse: 0.5940 - val_loss: 0.6396 - val_mse: 0.6396\n",
      "Epoch 17/100\n",
      "57/57 [==============================] - 3s 51ms/step - loss: 0.4912 - mse: 0.4912 - val_loss: 0.5380 - val_mse: 0.5380\n",
      "Epoch 18/100\n",
      "57/57 [==============================] - 3s 51ms/step - loss: 0.4247 - mse: 0.4247 - val_loss: 0.4819 - val_mse: 0.4819\n",
      "Epoch 19/100\n",
      "57/57 [==============================] - 3s 52ms/step - loss: 0.4609 - mse: 0.4609 - val_loss: 1.1410 - val_mse: 1.1410\n",
      "Epoch 20/100\n",
      "57/57 [==============================] - 3s 51ms/step - loss: 0.8959 - mse: 0.8959 - val_loss: 0.7287 - val_mse: 0.7287\n",
      "Epoch 21/100\n",
      "57/57 [==============================] - 3s 51ms/step - loss: 0.7446 - mse: 0.7446 - val_loss: 0.8246 - val_mse: 0.8246\n",
      "Epoch 22/100\n",
      "57/57 [==============================] - 3s 53ms/step - loss: 0.7301 - mse: 0.7301 - val_loss: 0.6610 - val_mse: 0.6610\n",
      "Epoch 23/100\n",
      "57/57 [==============================] - 3s 51ms/step - loss: 0.5862 - mse: 0.5862 - val_loss: 0.7145 - val_mse: 0.7145\n",
      "Epoch 24/100\n",
      "57/57 [==============================] - 3s 51ms/step - loss: 0.5653 - mse: 0.5653 - val_loss: 0.6021 - val_mse: 0.6021\n",
      "Epoch 25/100\n",
      "57/57 [==============================] - 3s 51ms/step - loss: 0.4433 - mse: 0.4433 - val_loss: 0.5154 - val_mse: 0.5154\n",
      "Epoch 26/100\n",
      "57/57 [==============================] - 3s 53ms/step - loss: 0.4099 - mse: 0.4099 - val_loss: 0.4971 - val_mse: 0.4971\n",
      "Epoch 27/100\n",
      "57/57 [==============================] - 3s 58ms/step - loss: 0.4008 - mse: 0.4008 - val_loss: 0.4907 - val_mse: 0.4907\n",
      "Epoch 28/100\n",
      "57/57 [==============================] - 3s 51ms/step - loss: 0.3736 - mse: 0.3736 - val_loss: 0.6215 - val_mse: 0.6215\n",
      "Epoch 29/100\n",
      "57/57 [==============================] - 3s 51ms/step - loss: 0.3780 - mse: 0.3780 - val_loss: 0.4832 - val_mse: 0.4832\n",
      "Epoch 30/100\n",
      "57/57 [==============================] - 3s 52ms/step - loss: 0.3272 - mse: 0.3272 - val_loss: 0.4872 - val_mse: 0.4872\n",
      "Epoch 31/100\n",
      "57/57 [==============================] - 3s 51ms/step - loss: 0.3114 - mse: 0.3114 - val_loss: 0.4908 - val_mse: 0.4908\n",
      "Epoch 32/100\n",
      "57/57 [==============================] - 3s 51ms/step - loss: 0.2980 - mse: 0.2980 - val_loss: 0.4789 - val_mse: 0.4789\n",
      "Epoch 33/100\n",
      "57/57 [==============================] - 3s 51ms/step - loss: 0.3009 - mse: 0.3009 - val_loss: 0.4883 - val_mse: 0.4883\n",
      "Epoch 1/100\n",
      "57/57 [==============================] - 9s 71ms/step - loss: 1.2708 - mse: 1.2708 - val_loss: 0.9239 - val_mse: 0.9239\n",
      "Epoch 2/100\n",
      "57/57 [==============================] - 3s 59ms/step - loss: 0.7337 - mse: 0.7337 - val_loss: 0.6821 - val_mse: 0.6821\n",
      "Epoch 3/100\n",
      "57/57 [==============================] - 3s 51ms/step - loss: 0.6688 - mse: 0.6688 - val_loss: 0.5909 - val_mse: 0.5909\n",
      "Epoch 4/100\n",
      "57/57 [==============================] - 3s 51ms/step - loss: 0.5945 - mse: 0.5945 - val_loss: 0.6488 - val_mse: 0.6488\n",
      "Epoch 5/100\n",
      "57/57 [==============================] - 3s 53ms/step - loss: 0.6505 - mse: 0.6505 - val_loss: 0.6465 - val_mse: 0.6465\n",
      "Epoch 6/100\n",
      "57/57 [==============================] - 3s 51ms/step - loss: 0.5414 - mse: 0.5414 - val_loss: 0.6945 - val_mse: 0.6945\n",
      "Epoch 7/100\n",
      "57/57 [==============================] - 3s 51ms/step - loss: 0.5920 - mse: 0.5920 - val_loss: 0.9817 - val_mse: 0.9817\n",
      "Epoch 8/100\n",
      "57/57 [==============================] - 3s 51ms/step - loss: 0.8041 - mse: 0.8041 - val_loss: 0.8316 - val_mse: 0.8316\n",
      "Epoch 9/100\n",
      "57/57 [==============================] - 3s 52ms/step - loss: 0.6676 - mse: 0.6676 - val_loss: 0.5360 - val_mse: 0.5360\n",
      "Epoch 10/100\n",
      "57/57 [==============================] - 3s 51ms/step - loss: 0.4321 - mse: 0.4321 - val_loss: 0.5236 - val_mse: 0.5236\n",
      "Epoch 11/100\n",
      "57/57 [==============================] - 3s 51ms/step - loss: 0.3869 - mse: 0.3869 - val_loss: 0.5014 - val_mse: 0.5014\n",
      "Epoch 12/100\n",
      "57/57 [==============================] - 3s 51ms/step - loss: 0.3690 - mse: 0.3690 - val_loss: 0.4887 - val_mse: 0.4887\n",
      "Epoch 13/100\n",
      "57/57 [==============================] - 3s 56ms/step - loss: 0.3288 - mse: 0.3288 - val_loss: 0.5296 - val_mse: 0.5296\n",
      "Epoch 14/100\n",
      "57/57 [==============================] - 3s 53ms/step - loss: 0.2949 - mse: 0.2949 - val_loss: 0.4546 - val_mse: 0.4546\n",
      "Epoch 15/100\n",
      "57/57 [==============================] - 3s 51ms/step - loss: 0.2537 - mse: 0.2537 - val_loss: 0.5315 - val_mse: 0.5315\n",
      "Epoch 16/100\n",
      "57/57 [==============================] - 3s 52ms/step - loss: 0.2343 - mse: 0.2343 - val_loss: 0.4554 - val_mse: 0.4554\n",
      "Epoch 17/100\n",
      "57/57 [==============================] - 3s 51ms/step - loss: 0.2013 - mse: 0.2013 - val_loss: 0.4624 - val_mse: 0.4624\n",
      "Epoch 18/100\n",
      "57/57 [==============================] - 3s 50ms/step - loss: 0.1755 - mse: 0.1755 - val_loss: 0.5101 - val_mse: 0.5101\n",
      "Epoch 19/100\n",
      "57/57 [==============================] - 3s 51ms/step - loss: 0.1475 - mse: 0.1475 - val_loss: 0.4807 - val_mse: 0.4807\n",
      "Epoch 20/100\n",
      "57/57 [==============================] - 3s 52ms/step - loss: 0.1251 - mse: 0.1251 - val_loss: 0.5001 - val_mse: 0.5001\n",
      "Epoch 21/100\n",
      "57/57 [==============================] - 3s 51ms/step - loss: 0.1212 - mse: 0.1212 - val_loss: 0.4924 - val_mse: 0.4924\n",
      "Epoch 22/100\n",
      "57/57 [==============================] - 3s 51ms/step - loss: 0.0954 - mse: 0.0954 - val_loss: 0.5891 - val_mse: 0.5891\n",
      "Epoch 23/100\n",
      "57/57 [==============================] - 3s 53ms/step - loss: 0.0963 - mse: 0.0963 - val_loss: 0.4925 - val_mse: 0.4925\n",
      "Epoch 24/100\n",
      "57/57 [==============================] - 3s 53ms/step - loss: 0.0621 - mse: 0.0621 - val_loss: 0.5384 - val_mse: 0.5384\n",
      "Epoch 25/100\n",
      "57/57 [==============================] - 3s 54ms/step - loss: 0.0570 - mse: 0.0570 - val_loss: 0.5096 - val_mse: 0.5096\n",
      "Epoch 26/100\n",
      "57/57 [==============================] - 3s 50ms/step - loss: 0.0427 - mse: 0.0427 - val_loss: 0.5146 - val_mse: 0.5146\n",
      "Epoch 27/100\n",
      "57/57 [==============================] - 3s 50ms/step - loss: 0.0350 - mse: 0.0350 - val_loss: 0.5357 - val_mse: 0.5357\n",
      "Epoch 28/100\n",
      "57/57 [==============================] - 3s 52ms/step - loss: 0.0298 - mse: 0.0298 - val_loss: 0.5277 - val_mse: 0.5277\n",
      "Epoch 29/100\n",
      "57/57 [==============================] - 3s 51ms/step - loss: 0.0264 - mse: 0.0264 - val_loss: 0.5492 - val_mse: 0.5492\n",
      "Epoch 1/100\n",
      "57/57 [==============================] - 9s 73ms/step - loss: 1.1818 - mse: 1.1818 - val_loss: 0.8750 - val_mse: 0.8750\n",
      "Epoch 2/100\n",
      "57/57 [==============================] - 3s 51ms/step - loss: 0.7687 - mse: 0.7687 - val_loss: 0.8344 - val_mse: 0.8344\n",
      "Epoch 3/100\n",
      "57/57 [==============================] - 3s 52ms/step - loss: 0.7352 - mse: 0.7352 - val_loss: 0.6855 - val_mse: 0.6855\n",
      "Epoch 4/100\n",
      "57/57 [==============================] - 3s 52ms/step - loss: 0.6355 - mse: 0.6355 - val_loss: 1.0352 - val_mse: 1.0352\n",
      "Epoch 5/100\n",
      "57/57 [==============================] - 3s 54ms/step - loss: 0.7500 - mse: 0.7500 - val_loss: 0.5549 - val_mse: 0.5549\n",
      "Epoch 6/100\n",
      "57/57 [==============================] - 3s 51ms/step - loss: 0.5071 - mse: 0.5071 - val_loss: 0.6399 - val_mse: 0.6399\n",
      "Epoch 7/100\n",
      "57/57 [==============================] - 3s 51ms/step - loss: 0.4957 - mse: 0.4957 - val_loss: 0.4919 - val_mse: 0.4919\n",
      "Epoch 8/100\n",
      "57/57 [==============================] - 3s 53ms/step - loss: 0.4413 - mse: 0.4413 - val_loss: 0.5003 - val_mse: 0.5003\n",
      "Epoch 9/100\n",
      "57/57 [==============================] - 3s 51ms/step - loss: 0.3728 - mse: 0.3728 - val_loss: 0.4642 - val_mse: 0.4642\n",
      "Epoch 10/100\n",
      "57/57 [==============================] - 3s 51ms/step - loss: 0.3604 - mse: 0.3604 - val_loss: 0.4697 - val_mse: 0.4697\n",
      "Epoch 11/100\n",
      "57/57 [==============================] - 3s 53ms/step - loss: 0.3971 - mse: 0.3971 - val_loss: 0.4389 - val_mse: 0.4389\n",
      "Epoch 12/100\n",
      "57/57 [==============================] - 3s 51ms/step - loss: 0.2889 - mse: 0.2889 - val_loss: 0.4267 - val_mse: 0.4267\n",
      "Epoch 13/100\n",
      "57/57 [==============================] - 3s 53ms/step - loss: 0.2914 - mse: 0.2914 - val_loss: 0.4353 - val_mse: 0.4353\n",
      "Epoch 14/100\n",
      "57/57 [==============================] - 3s 51ms/step - loss: 0.2969 - mse: 0.2969 - val_loss: 0.4409 - val_mse: 0.4409\n",
      "Epoch 15/100\n",
      "57/57 [==============================] - 3s 52ms/step - loss: 0.2198 - mse: 0.2198 - val_loss: 0.4220 - val_mse: 0.4220\n",
      "Epoch 16/100\n",
      "57/57 [==============================] - 3s 53ms/step - loss: 0.1850 - mse: 0.1850 - val_loss: 0.4210 - val_mse: 0.4210\n",
      "Epoch 17/100\n",
      "57/57 [==============================] - 3s 51ms/step - loss: 0.1745 - mse: 0.1745 - val_loss: 0.4697 - val_mse: 0.4697\n",
      "Epoch 18/100\n",
      "57/57 [==============================] - 3s 51ms/step - loss: 0.1348 - mse: 0.1348 - val_loss: 0.4449 - val_mse: 0.4449\n",
      "Epoch 19/100\n",
      "57/57 [==============================] - 3s 52ms/step - loss: 0.1174 - mse: 0.1174 - val_loss: 0.4552 - val_mse: 0.4552\n",
      "Epoch 20/100\n",
      "57/57 [==============================] - 3s 50ms/step - loss: 0.0950 - mse: 0.0950 - val_loss: 0.4714 - val_mse: 0.4714\n",
      "Epoch 21/100\n",
      "57/57 [==============================] - 3s 51ms/step - loss: 0.0785 - mse: 0.0785 - val_loss: 0.4751 - val_mse: 0.4751\n",
      "Epoch 22/100\n",
      "57/57 [==============================] - 3s 51ms/step - loss: 0.0630 - mse: 0.0630 - val_loss: 0.5319 - val_mse: 0.5319\n",
      "Epoch 23/100\n",
      "57/57 [==============================] - 3s 51ms/step - loss: 0.0550 - mse: 0.0550 - val_loss: 0.4906 - val_mse: 0.4906\n",
      "Epoch 24/100\n",
      "57/57 [==============================] - 3s 53ms/step - loss: 0.0495 - mse: 0.0495 - val_loss: 0.4958 - val_mse: 0.4958\n",
      "Epoch 25/100\n",
      "57/57 [==============================] - 3s 51ms/step - loss: 0.0436 - mse: 0.0436 - val_loss: 0.4816 - val_mse: 0.4816\n",
      "Epoch 26/100\n",
      "57/57 [==============================] - 3s 53ms/step - loss: 0.0328 - mse: 0.0328 - val_loss: 0.4846 - val_mse: 0.4846\n",
      "Epoch 27/100\n",
      "57/57 [==============================] - 3s 53ms/step - loss: 0.1974 - mse: 0.1974 - val_loss: 0.4806 - val_mse: 0.4806\n",
      "Epoch 28/100\n",
      "57/57 [==============================] - 3s 51ms/step - loss: 0.0835 - mse: 0.0835 - val_loss: 0.4904 - val_mse: 0.4904\n",
      "Epoch 29/100\n",
      "57/57 [==============================] - 3s 51ms/step - loss: 0.0437 - mse: 0.0437 - val_loss: 0.4720 - val_mse: 0.4720\n",
      "Epoch 30/100\n",
      "57/57 [==============================] - 3s 52ms/step - loss: 0.0248 - mse: 0.0248 - val_loss: 0.4735 - val_mse: 0.4735\n",
      "Epoch 31/100\n",
      "57/57 [==============================] - 3s 51ms/step - loss: 0.0215 - mse: 0.0215 - val_loss: 0.4855 - val_mse: 0.4855\n",
      "Epoch 1/100\n",
      "57/57 [==============================] - 9s 73ms/step - loss: 1.2302 - mse: 1.2302 - val_loss: 0.9140 - val_mse: 0.9140\n",
      "Epoch 2/100\n",
      "57/57 [==============================] - 3s 52ms/step - loss: 0.7498 - mse: 0.7498 - val_loss: 0.6651 - val_mse: 0.6651\n",
      "Epoch 3/100\n",
      "57/57 [==============================] - 3s 51ms/step - loss: 0.6457 - mse: 0.6457 - val_loss: 0.6870 - val_mse: 0.6870\n",
      "Epoch 4/100\n",
      "57/57 [==============================] - 3s 52ms/step - loss: 0.6464 - mse: 0.6464 - val_loss: 0.6300 - val_mse: 0.6300\n",
      "Epoch 5/100\n",
      "57/57 [==============================] - 3s 53ms/step - loss: 0.6018 - mse: 0.6018 - val_loss: 0.6323 - val_mse: 0.6323\n",
      "Epoch 6/100\n",
      "57/57 [==============================] - 3s 51ms/step - loss: 0.5571 - mse: 0.5571 - val_loss: 0.7292 - val_mse: 0.7292\n",
      "Epoch 7/100\n",
      "57/57 [==============================] - 3s 51ms/step - loss: 0.6194 - mse: 0.6194 - val_loss: 0.5359 - val_mse: 0.5359\n",
      "Epoch 8/100\n",
      "57/57 [==============================] - 3s 52ms/step - loss: 0.5250 - mse: 0.5250 - val_loss: 0.6284 - val_mse: 0.6284\n",
      "Epoch 9/100\n",
      "57/57 [==============================] - 3s 51ms/step - loss: 0.5332 - mse: 0.5332 - val_loss: 0.7654 - val_mse: 0.7654\n",
      "Epoch 10/100\n",
      "57/57 [==============================] - 3s 50ms/step - loss: 0.6289 - mse: 0.6289 - val_loss: 0.5522 - val_mse: 0.5522\n",
      "Epoch 11/100\n",
      "57/57 [==============================] - 3s 52ms/step - loss: 0.4689 - mse: 0.4689 - val_loss: 0.5162 - val_mse: 0.5162\n",
      "Epoch 12/100\n",
      "57/57 [==============================] - 3s 51ms/step - loss: 0.4200 - mse: 0.4200 - val_loss: 0.4697 - val_mse: 0.4697\n",
      "Epoch 13/100\n",
      "57/57 [==============================] - 3s 52ms/step - loss: 0.3850 - mse: 0.3850 - val_loss: 0.4626 - val_mse: 0.4626\n",
      "Epoch 14/100\n",
      "57/57 [==============================] - 3s 51ms/step - loss: 0.3759 - mse: 0.3759 - val_loss: 0.5164 - val_mse: 0.5164\n",
      "Epoch 15/100\n",
      "57/57 [==============================] - 3s 52ms/step - loss: 0.4066 - mse: 0.4066 - val_loss: 0.5007 - val_mse: 0.5007\n",
      "Epoch 16/100\n",
      "57/57 [==============================] - 3s 53ms/step - loss: 0.3655 - mse: 0.3655 - val_loss: 0.4882 - val_mse: 0.4882\n",
      "Epoch 17/100\n",
      "57/57 [==============================] - 3s 51ms/step - loss: 0.3368 - mse: 0.3368 - val_loss: 0.4994 - val_mse: 0.4994\n",
      "Epoch 18/100\n",
      "57/57 [==============================] - 3s 51ms/step - loss: 0.3645 - mse: 0.3645 - val_loss: 0.4756 - val_mse: 0.4756\n",
      "Epoch 19/100\n",
      "57/57 [==============================] - 3s 52ms/step - loss: 0.3179 - mse: 0.3179 - val_loss: 0.4821 - val_mse: 0.4821\n",
      "Epoch 20/100\n",
      "57/57 [==============================] - 3s 51ms/step - loss: 0.3080 - mse: 0.3080 - val_loss: 0.4688 - val_mse: 0.4688\n",
      "Epoch 21/100\n",
      "57/57 [==============================] - 3s 50ms/step - loss: 0.3297 - mse: 0.3297 - val_loss: 0.4726 - val_mse: 0.4726\n",
      "Epoch 22/100\n",
      "57/57 [==============================] - 3s 51ms/step - loss: 0.2743 - mse: 0.2743 - val_loss: 0.4869 - val_mse: 0.4869\n",
      "Epoch 23/100\n",
      "57/57 [==============================] - 3s 52ms/step - loss: 0.2735 - mse: 0.2735 - val_loss: 0.4631 - val_mse: 0.4631\n",
      "Epoch 24/100\n",
      "57/57 [==============================] - 3s 53ms/step - loss: 0.2865 - mse: 0.2865 - val_loss: 0.4770 - val_mse: 0.4770\n",
      "Epoch 25/100\n",
      "57/57 [==============================] - 3s 51ms/step - loss: 0.2891 - mse: 0.2891 - val_loss: 0.4916 - val_mse: 0.4916\n",
      "Epoch 26/100\n",
      "57/57 [==============================] - 3s 51ms/step - loss: 0.2413 - mse: 0.2413 - val_loss: 0.4686 - val_mse: 0.4686\n",
      "Epoch 27/100\n",
      "57/57 [==============================] - 3s 55ms/step - loss: 0.2396 - mse: 0.2396 - val_loss: 0.4834 - val_mse: 0.4834\n"
     ]
    },
    {
     "data": {
      "image/png": "[encoded data removed]",
      "text/plain": [
       "<Figure size 1080x720 with 5 Axes>"
      ]
     },
     "metadata": {
      "needs_background": "light"
     },
     "output_type": "display_data"
    }
   ],
   "source": [
    "st = StratifiedKFold(n_splits=5)\n",
    "lstm_models = []\n",
    "fig,ax = plt.subplots(1,5,figsize=(15,10))\n",
    "for i,(tr_index,val_index) in enumerate(st.split(data_tr,data_tr[\"target_bins\"])):\n",
    "    tr_x,val_x = data_tr.reset_index(drop=True).loc[tr_index,\"cleaned_excerpt\"].values, data_tr.reset_index(drop=True).loc[val_index,\"cleaned_excerpt\"].values\n",
    "    tr_y,val_y = data_tr.reset_index(drop=True).loc[tr_index,\"target\"].values,data_tr.reset_index(drop=True).loc[val_index,\"target\"].values\n",
    "    tr_x = preprocessing_data(tr_x,lstm_tokenizer,input_length)\n",
    "    val_x = preprocessing_data(val_x,lstm_tokenizer,input_length)\n",
    "    model = lstm_model()\n",
    "    his = model.fit(tr_x,tr_y,validation_data=(val_x,val_y),batch_size=32,callbacks=[check_point,\\\n",
    "                                                                                    early_stopping],epochs=100)\n",
    "    model.load_weights(checkpoint_lstm)\n",
    "    lstm_models.append(model)\n",
    "    ax[i].plot(np.arange(1,len(his.history[\"loss\"])+1),his.history[\"loss\"],label=\"loss\")\n",
    "    ax[i].plot(np.arange(1,len(his.history[\"loss\"])+1),his.history[\"val_loss\"],label=\"val_loss\")\n",
    "    ax[i].legend()\n",
    "    ax[i].set_ylim([0,1])\n",
    "    ax[i].set_xlabel(\"epochs\")\n",
    "    ax[i].set_ylabel(\"loss\")\n",
    "    ax[i].set_title(\"Loss Monitoring over epoch for train and validation datas\",size=15)"
   ]
  },
  {
   "cell_type": "code",
   "execution_count": 31,
   "id": "unlikely-desktop",
   "metadata": {
    "execution": {
     "iopub.execute_input": "2021-06-16T22:26:21.741703Z",
     "iopub.status.busy": "2021-06-16T22:26:21.740927Z",
     "iopub.status.idle": "2021-06-16T22:26:29.301884Z",
     "shell.execute_reply": "2021-06-16T22:26:29.302303Z",
     "shell.execute_reply.started": "2021-06-16T21:21:44.921151Z"
    },
    "papermill": {
     "duration": 8.797654,
     "end_time": "2021-06-16T22:26:29.302470",
     "exception": false,
     "start_time": "2021-06-16T22:26:20.504816",
     "status": "completed"
    },
    "tags": []
   },
   "outputs": [
    {
     "name": "stdout",
     "output_type": "stream",
     "text": [
      "The RMSE error of the lstm model = 0.6513220576358414\n"
     ]
    }
   ],
   "source": [
    "xts_seq = preprocessing_data(data_ts[\"cleaned_excerpt\"].values,lstm_tokenizer,input_length)\n",
    "Yts = np.mean(np.concatenate([np.mean(model.predict(xts_seq),axis=1) for model in lstm_models],axis=1),axis=1)\n",
    "MSE = mean_squared_error(yts,Yts)\n",
    "print(f\"The RMSE error of the lstm model = {math.sqrt(MSE)}\")"
   ]
  },
  {
   "cell_type": "code",
   "execution_count": 32,
   "id": "noted-playing",
   "metadata": {
    "execution": {
     "iopub.execute_input": "2021-06-16T22:26:31.768333Z",
     "iopub.status.busy": "2021-06-16T22:26:31.767538Z",
     "iopub.status.idle": "2021-06-16T22:26:31.987980Z",
     "shell.execute_reply": "2021-06-16T22:26:31.987481Z",
     "shell.execute_reply.started": "2021-06-16T21:21:52.546422Z"
    },
    "papermill": {
     "duration": 1.470775,
     "end_time": "2021-06-16T22:26:31.988114",
     "exception": false,
     "start_time": "2021-06-16T22:26:30.517339",
     "status": "completed"
    },
    "tags": []
   },
   "outputs": [],
   "source": [
    "# prepare first prediction \n",
    "X = test[\"cleaned_excerpt\"].values\n",
    "X = preprocessing_data(X,lstm_tokenizer,input_length)\n",
    "prediction = np.mean(np.concatenate([np.mean(model.predict(X),axis=1) for model in lstm_models],axis=1),axis=1)"
   ]
  },
  {
   "cell_type": "code",
   "execution_count": 33,
   "id": "spread-provision",
   "metadata": {
    "execution": {
     "iopub.execute_input": "2021-06-16T22:26:34.442936Z",
     "iopub.status.busy": "2021-06-16T22:26:34.442317Z",
     "iopub.status.idle": "2021-06-16T22:26:34.457698Z",
     "shell.execute_reply": "2021-06-16T22:26:34.457159Z",
     "shell.execute_reply.started": "2021-06-16T21:21:52.776340Z"
    },
    "papermill": {
     "duration": 1.221511,
     "end_time": "2021-06-16T22:26:34.457862",
     "exception": false,
     "start_time": "2021-06-16T22:26:33.236351",
     "status": "completed"
    },
    "tags": []
   },
   "outputs": [],
   "source": [
    "submission = pd.read_csv(\"../input/commonlitreadabilityprize/sample_submission.csv\")\n",
    "submission[\"target\"] = prediction \n",
    "submission.to_csv(\"submission.csv\",index=False)"
   ]
  },
  {
   "cell_type": "markdown",
   "id": "gentle-skiing",
   "metadata": {
    "papermill": {
     "duration": 1.231913,
     "end_time": "2021-06-16T22:26:36.891806",
     "exception": false,
     "start_time": "2021-06-16T22:26:35.659893",
     "status": "completed"
    },
    "tags": []
   },
   "source": [
    "#### <b> CNN Model  </b>:"
   ]
  },
  {
   "cell_type": "code",
   "execution_count": 34,
   "id": "excellent-pathology",
   "metadata": {
    "execution": {
     "iopub.execute_input": "2021-06-16T22:26:39.505786Z",
     "iopub.status.busy": "2021-06-16T22:26:39.504105Z",
     "iopub.status.idle": "2021-06-16T22:26:39.506455Z",
     "shell.execute_reply": "2021-06-16T22:26:39.506871Z",
     "shell.execute_reply.started": "2021-06-16T21:21:52.798921Z"
    },
    "papermill": {
     "duration": 1.206086,
     "end_time": "2021-06-16T22:26:39.507005",
     "exception": false,
     "start_time": "2021-06-16T22:26:38.300919",
     "status": "completed"
    },
    "tags": []
   },
   "outputs": [],
   "source": [
    "# Build cnn model.\n",
    "def build_cnn_model():\n",
    "  inp = Input(shape=(input_length,))\n",
    "  emb = embedding_layer(inp)\n",
    "  conv1 = Conv1D(128,2,activation=\"relu\")(emb)\n",
    "  maxp1 = MaxPool1D(2)(conv1)\n",
    "  conv2 = Conv1D(128,2,activation=\"relu\")(maxp1)\n",
    "  maxp2 = MaxPool1D(2)(conv2)\n",
    "  conv3 = Conv1D(128,2,activation=\"relu\")(maxp2)\n",
    "  maxp3 = MaxPool1D(2)(conv3)\n",
    "  #conv4 = Conv1D(16,2,activation=\"relu\")(maxp3)\n",
    "  #maxp4 = MaxPool1D(2)(conv4)\n",
    "  fl = Flatten()(maxp3)\n",
    "  drop = Dropout(0.2)(fl)\n",
    "  batch = BatchNormalization()(drop)\n",
    "  out = Dense(60)(batch)\n",
    "  drop = Dropout(0.2)(out)\n",
    "  batch = BatchNormalization()(drop)\n",
    "  out = Dense(30)(batch)\n",
    "  drop = Dropout(0.2)(out)\n",
    "  batch = BatchNormalization()(drop)\n",
    "  out = Dense(1)(batch)\n",
    "  cnn_model = tf.keras.models.Model(inputs=[inp],outputs=[out])\n",
    "  cnn_model.compile(loss=\"mse\",optimizer=\"adam\",metrics=\"mse\")\n",
    "  return cnn_model"
   ]
  },
  {
   "cell_type": "code",
   "execution_count": 35,
   "id": "dramatic-comedy",
   "metadata": {
    "execution": {
     "iopub.execute_input": "2021-06-16T22:26:41.945727Z",
     "iopub.status.busy": "2021-06-16T22:26:41.945143Z",
     "iopub.status.idle": "2021-06-16T22:26:41.948791Z",
     "shell.execute_reply": "2021-06-16T22:26:41.949159Z",
     "shell.execute_reply.started": "2021-06-16T21:21:52.810660Z"
    },
    "papermill": {
     "duration": 1.216941,
     "end_time": "2021-06-16T22:26:41.949295",
     "exception": false,
     "start_time": "2021-06-16T22:26:40.732354",
     "status": "completed"
    },
    "tags": []
   },
   "outputs": [],
   "source": [
    "checkpoint_cnn = './cnn/checkpoint'\n",
    "check_point = ModelCheckpoint(checkpoint_cnn,monitor=\"val_loss\",save_weights_only=True,\\\n",
    "                             save_best_only=True,mode=\"min\")"
   ]
  },
  {
   "cell_type": "code",
   "execution_count": 36,
   "id": "premier-ebony",
   "metadata": {
    "execution": {
     "iopub.execute_input": "2021-06-16T22:26:44.395516Z",
     "iopub.status.busy": "2021-06-16T22:26:44.394944Z",
     "iopub.status.idle": "2021-06-16T22:30:42.438591Z",
     "shell.execute_reply": "2021-06-16T22:30:42.438155Z",
     "shell.execute_reply.started": "2021-06-16T21:21:52.819449Z"
    },
    "papermill": {
     "duration": 239.255276,
     "end_time": "2021-06-16T22:30:42.438724",
     "exception": false,
     "start_time": "2021-06-16T22:26:43.183448",
     "status": "completed"
    },
    "tags": []
   },
   "outputs": [
    {
     "name": "stdout",
     "output_type": "stream",
     "text": [
      "Epoch 1/100\n",
      "19/19 [==============================] - 5s 73ms/step - loss: 3.1656 - mse: 3.1656 - val_loss: 1.1025 - val_mse: 1.1025\n",
      "Epoch 2/100\n",
      "19/19 [==============================] - 0s 22ms/step - loss: 1.6526 - mse: 1.6526 - val_loss: 1.1118 - val_mse: 1.1118\n",
      "Epoch 3/100\n",
      "19/19 [==============================] - 0s 23ms/step - loss: 1.2299 - mse: 1.2299 - val_loss: 0.9842 - val_mse: 0.9842\n",
      "Epoch 4/100\n",
      "19/19 [==============================] - 0s 22ms/step - loss: 1.0383 - mse: 1.0383 - val_loss: 0.7097 - val_mse: 0.7097\n",
      "Epoch 5/100\n",
      "19/19 [==============================] - 0s 22ms/step - loss: 0.9726 - mse: 0.9726 - val_loss: 0.6165 - val_mse: 0.6165\n",
      "Epoch 6/100\n",
      "19/19 [==============================] - 0s 22ms/step - loss: 0.7933 - mse: 0.7933 - val_loss: 0.6669 - val_mse: 0.6669\n",
      "Epoch 7/100\n",
      "19/19 [==============================] - 0s 22ms/step - loss: 0.6990 - mse: 0.6990 - val_loss: 0.5761 - val_mse: 0.5761\n",
      "Epoch 8/100\n",
      "19/19 [==============================] - 0s 22ms/step - loss: 0.6347 - mse: 0.6347 - val_loss: 0.5974 - val_mse: 0.5974\n",
      "Epoch 9/100\n",
      "19/19 [==============================] - 0s 22ms/step - loss: 0.6209 - mse: 0.6209 - val_loss: 0.6262 - val_mse: 0.6262\n",
      "Epoch 10/100\n",
      "19/19 [==============================] - 0s 23ms/step - loss: 0.5476 - mse: 0.5476 - val_loss: 0.6503 - val_mse: 0.6503\n",
      "Epoch 11/100\n",
      "19/19 [==============================] - 0s 23ms/step - loss: 0.5386 - mse: 0.5386 - val_loss: 0.6858 - val_mse: 0.6858\n",
      "Epoch 12/100\n",
      "19/19 [==============================] - 0s 23ms/step - loss: 0.5060 - mse: 0.5060 - val_loss: 0.6170 - val_mse: 0.6170\n",
      "Epoch 13/100\n",
      "19/19 [==============================] - 0s 23ms/step - loss: 0.4565 - mse: 0.4565 - val_loss: 0.6717 - val_mse: 0.6717\n",
      "Epoch 14/100\n",
      "19/19 [==============================] - 0s 22ms/step - loss: 0.4053 - mse: 0.4053 - val_loss: 0.6400 - val_mse: 0.6400\n",
      "Epoch 15/100\n",
      "19/19 [==============================] - 0s 23ms/step - loss: 0.3903 - mse: 0.3903 - val_loss: 0.5734 - val_mse: 0.5734\n",
      "Epoch 16/100\n",
      "19/19 [==============================] - 0s 22ms/step - loss: 0.4150 - mse: 0.4150 - val_loss: 0.6224 - val_mse: 0.6224\n",
      "Epoch 17/100\n",
      "19/19 [==============================] - 0s 23ms/step - loss: 0.3552 - mse: 0.3552 - val_loss: 0.5338 - val_mse: 0.5338\n",
      "Epoch 18/100\n",
      "19/19 [==============================] - 0s 23ms/step - loss: 0.3681 - mse: 0.3681 - val_loss: 0.4995 - val_mse: 0.4995\n",
      "Epoch 19/100\n",
      "19/19 [==============================] - 0s 23ms/step - loss: 0.3061 - mse: 0.3061 - val_loss: 0.4960 - val_mse: 0.4960\n",
      "Epoch 20/100\n",
      "19/19 [==============================] - 0s 23ms/step - loss: 0.3136 - mse: 0.3136 - val_loss: 0.4556 - val_mse: 0.4556\n",
      "Epoch 21/100\n",
      "19/19 [==============================] - 0s 22ms/step - loss: 0.2949 - mse: 0.2949 - val_loss: 0.4737 - val_mse: 0.4737\n",
      "Epoch 22/100\n",
      "19/19 [==============================] - 1s 28ms/step - loss: 0.2551 - mse: 0.2551 - val_loss: 0.5127 - val_mse: 0.5127\n",
      "Epoch 23/100\n",
      "19/19 [==============================] - 1s 27ms/step - loss: 0.2395 - mse: 0.2395 - val_loss: 0.5694 - val_mse: 0.5694\n",
      "Epoch 24/100\n",
      "19/19 [==============================] - 0s 23ms/step - loss: 0.2419 - mse: 0.2419 - val_loss: 0.4524 - val_mse: 0.4524\n",
      "Epoch 25/100\n",
      "19/19 [==============================] - 0s 23ms/step - loss: 0.2411 - mse: 0.2411 - val_loss: 0.5963 - val_mse: 0.5963\n",
      "Epoch 26/100\n",
      "19/19 [==============================] - 0s 23ms/step - loss: 0.2186 - mse: 0.2186 - val_loss: 0.5735 - val_mse: 0.5735\n",
      "Epoch 27/100\n",
      "19/19 [==============================] - 0s 23ms/step - loss: 0.2380 - mse: 0.2380 - val_loss: 0.8277 - val_mse: 0.8277\n",
      "Epoch 28/100\n",
      "19/19 [==============================] - 0s 22ms/step - loss: 0.2172 - mse: 0.2172 - val_loss: 0.4238 - val_mse: 0.4238\n",
      "Epoch 29/100\n",
      "19/19 [==============================] - 0s 23ms/step - loss: 0.1976 - mse: 0.1976 - val_loss: 0.4905 - val_mse: 0.4905\n",
      "Epoch 30/100\n",
      "19/19 [==============================] - 0s 23ms/step - loss: 0.2115 - mse: 0.2115 - val_loss: 0.4906 - val_mse: 0.4906\n",
      "Epoch 31/100\n",
      "19/19 [==============================] - 0s 22ms/step - loss: 0.2074 - mse: 0.2074 - val_loss: 0.4235 - val_mse: 0.4235\n",
      "Epoch 32/100\n",
      "19/19 [==============================] - 0s 23ms/step - loss: 0.1789 - mse: 0.1789 - val_loss: 0.4204 - val_mse: 0.4204\n",
      "Epoch 33/100\n",
      "19/19 [==============================] - 0s 23ms/step - loss: 0.1711 - mse: 0.1711 - val_loss: 0.5321 - val_mse: 0.5321\n",
      "Epoch 34/100\n",
      "19/19 [==============================] - 0s 23ms/step - loss: 0.1595 - mse: 0.1595 - val_loss: 0.4780 - val_mse: 0.4780\n",
      "Epoch 35/100\n",
      "19/19 [==============================] - 0s 23ms/step - loss: 0.1654 - mse: 0.1654 - val_loss: 0.6673 - val_mse: 0.6673\n",
      "Epoch 36/100\n",
      "19/19 [==============================] - 0s 23ms/step - loss: 0.1534 - mse: 0.1534 - val_loss: 0.4294 - val_mse: 0.4294\n",
      "Epoch 37/100\n",
      "19/19 [==============================] - 0s 23ms/step - loss: 0.1605 - mse: 0.1605 - val_loss: 0.4879 - val_mse: 0.4879\n",
      "Epoch 38/100\n",
      "19/19 [==============================] - 0s 22ms/step - loss: 0.1482 - mse: 0.1482 - val_loss: 0.4811 - val_mse: 0.4811\n",
      "Epoch 39/100\n",
      "19/19 [==============================] - 0s 22ms/step - loss: 0.1540 - mse: 0.1540 - val_loss: 0.4869 - val_mse: 0.4869\n",
      "Epoch 40/100\n",
      "19/19 [==============================] - 0s 22ms/step - loss: 0.1547 - mse: 0.1547 - val_loss: 0.4293 - val_mse: 0.4293\n",
      "Epoch 41/100\n",
      "19/19 [==============================] - 0s 24ms/step - loss: 0.1393 - mse: 0.1393 - val_loss: 0.4192 - val_mse: 0.4192\n",
      "Epoch 42/100\n",
      "19/19 [==============================] - 0s 22ms/step - loss: 0.1378 - mse: 0.1378 - val_loss: 0.4324 - val_mse: 0.4324\n",
      "Epoch 43/100\n",
      "19/19 [==============================] - 0s 22ms/step - loss: 0.1116 - mse: 0.1116 - val_loss: 0.4394 - val_mse: 0.4394\n",
      "Epoch 44/100\n",
      "19/19 [==============================] - 0s 23ms/step - loss: 0.1195 - mse: 0.1195 - val_loss: 0.4473 - val_mse: 0.4473\n",
      "Epoch 45/100\n",
      "19/19 [==============================] - 0s 22ms/step - loss: 0.1158 - mse: 0.1158 - val_loss: 0.4669 - val_mse: 0.4669\n",
      "Epoch 46/100\n",
      "19/19 [==============================] - 1s 27ms/step - loss: 0.1096 - mse: 0.1096 - val_loss: 0.4315 - val_mse: 0.4315\n",
      "Epoch 47/100\n",
      "19/19 [==============================] - 0s 25ms/step - loss: 0.1053 - mse: 0.1053 - val_loss: 0.4506 - val_mse: 0.4506\n",
      "Epoch 48/100\n",
      "19/19 [==============================] - 0s 22ms/step - loss: 0.0994 - mse: 0.0994 - val_loss: 0.4661 - val_mse: 0.4661\n",
      "Epoch 49/100\n",
      "19/19 [==============================] - 0s 22ms/step - loss: 0.1185 - mse: 0.1185 - val_loss: 0.5296 - val_mse: 0.5296\n",
      "Epoch 50/100\n",
      "19/19 [==============================] - 0s 22ms/step - loss: 0.1104 - mse: 0.1104 - val_loss: 0.5172 - val_mse: 0.5172\n",
      "Epoch 51/100\n",
      "19/19 [==============================] - 0s 23ms/step - loss: 0.1058 - mse: 0.1058 - val_loss: 0.5997 - val_mse: 0.5997\n",
      "Epoch 52/100\n",
      "19/19 [==============================] - 0s 22ms/step - loss: 0.0990 - mse: 0.0990 - val_loss: 0.4202 - val_mse: 0.4202\n",
      "Epoch 53/100\n",
      "19/19 [==============================] - 0s 22ms/step - loss: 0.1174 - mse: 0.1174 - val_loss: 0.6834 - val_mse: 0.6834\n",
      "Epoch 54/100\n",
      "19/19 [==============================] - 0s 23ms/step - loss: 0.1075 - mse: 0.1075 - val_loss: 0.4192 - val_mse: 0.4192\n",
      "Epoch 55/100\n",
      "19/19 [==============================] - 0s 27ms/step - loss: 0.0964 - mse: 0.0964 - val_loss: 0.4572 - val_mse: 0.4572\n",
      "Epoch 56/100\n",
      "19/19 [==============================] - 0s 25ms/step - loss: 0.0970 - mse: 0.0970 - val_loss: 0.4042 - val_mse: 0.4042\n",
      "Epoch 57/100\n",
      "19/19 [==============================] - 0s 25ms/step - loss: 0.0989 - mse: 0.0989 - val_loss: 0.4452 - val_mse: 0.4452\n",
      "Epoch 58/100\n",
      "19/19 [==============================] - 0s 25ms/step - loss: 0.0875 - mse: 0.0875 - val_loss: 0.6464 - val_mse: 0.6464\n",
      "Epoch 59/100\n",
      "19/19 [==============================] - 0s 25ms/step - loss: 0.0838 - mse: 0.0838 - val_loss: 0.4733 - val_mse: 0.4733\n",
      "Epoch 60/100\n",
      "19/19 [==============================] - 0s 24ms/step - loss: 0.0861 - mse: 0.0861 - val_loss: 0.4811 - val_mse: 0.4811\n",
      "Epoch 61/100\n",
      "19/19 [==============================] - 0s 23ms/step - loss: 0.0741 - mse: 0.0741 - val_loss: 0.4437 - val_mse: 0.4437\n",
      "Epoch 62/100\n",
      "19/19 [==============================] - 0s 23ms/step - loss: 0.0877 - mse: 0.0877 - val_loss: 0.4108 - val_mse: 0.4108\n",
      "Epoch 63/100\n",
      "19/19 [==============================] - 0s 23ms/step - loss: 0.0744 - mse: 0.0744 - val_loss: 0.4078 - val_mse: 0.4078\n",
      "Epoch 64/100\n",
      "19/19 [==============================] - 0s 23ms/step - loss: 0.0784 - mse: 0.0784 - val_loss: 0.4085 - val_mse: 0.4085\n",
      "Epoch 65/100\n",
      "19/19 [==============================] - 0s 23ms/step - loss: 0.0772 - mse: 0.0772 - val_loss: 0.3957 - val_mse: 0.3957\n",
      "Epoch 66/100\n",
      "19/19 [==============================] - 0s 23ms/step - loss: 0.0736 - mse: 0.0736 - val_loss: 0.4185 - val_mse: 0.4185\n",
      "Epoch 67/100\n",
      "19/19 [==============================] - 0s 23ms/step - loss: 0.0823 - mse: 0.0823 - val_loss: 0.3950 - val_mse: 0.3950\n",
      "Epoch 68/100\n",
      "19/19 [==============================] - 0s 23ms/step - loss: 0.0714 - mse: 0.0714 - val_loss: 0.4617 - val_mse: 0.4617\n",
      "Epoch 69/100\n",
      "19/19 [==============================] - 1s 28ms/step - loss: 0.0673 - mse: 0.0673 - val_loss: 0.4120 - val_mse: 0.4120\n",
      "Epoch 70/100\n",
      "19/19 [==============================] - 1s 42ms/step - loss: 0.0812 - mse: 0.0812 - val_loss: 0.4334 - val_mse: 0.4334\n",
      "Epoch 71/100\n",
      "19/19 [==============================] - 1s 26ms/step - loss: 0.0611 - mse: 0.0611 - val_loss: 0.4275 - val_mse: 0.4275\n",
      "Epoch 72/100\n",
      "19/19 [==============================] - 0s 22ms/step - loss: 0.0675 - mse: 0.0675 - val_loss: 0.4003 - val_mse: 0.4003\n",
      "Epoch 73/100\n",
      "19/19 [==============================] - 0s 23ms/step - loss: 0.0611 - mse: 0.0611 - val_loss: 0.4227 - val_mse: 0.4227\n",
      "Epoch 74/100\n",
      "19/19 [==============================] - 0s 22ms/step - loss: 0.0648 - mse: 0.0648 - val_loss: 0.6580 - val_mse: 0.6580\n",
      "Epoch 75/100\n",
      "19/19 [==============================] - 0s 22ms/step - loss: 0.0693 - mse: 0.0693 - val_loss: 0.4311 - val_mse: 0.4311\n",
      "Epoch 76/100\n",
      "19/19 [==============================] - 0s 22ms/step - loss: 0.0691 - mse: 0.0691 - val_loss: 0.4000 - val_mse: 0.4000\n",
      "Epoch 77/100\n",
      "19/19 [==============================] - 0s 22ms/step - loss: 0.0690 - mse: 0.0690 - val_loss: 0.4726 - val_mse: 0.4726\n",
      "Epoch 78/100\n",
      "19/19 [==============================] - 0s 23ms/step - loss: 0.0647 - mse: 0.0647 - val_loss: 0.4298 - val_mse: 0.4298\n",
      "Epoch 79/100\n",
      "19/19 [==============================] - 0s 23ms/step - loss: 0.0556 - mse: 0.0556 - val_loss: 0.4556 - val_mse: 0.4556\n",
      "Epoch 80/100\n",
      "19/19 [==============================] - 0s 23ms/step - loss: 0.0669 - mse: 0.0669 - val_loss: 0.4087 - val_mse: 0.4087\n",
      "Epoch 81/100\n",
      "19/19 [==============================] - 0s 22ms/step - loss: 0.0629 - mse: 0.0629 - val_loss: 0.4033 - val_mse: 0.4033\n",
      "Epoch 82/100\n",
      "19/19 [==============================] - 0s 22ms/step - loss: 0.0696 - mse: 0.0696 - val_loss: 0.4117 - val_mse: 0.4117\n",
      "Epoch 83/100\n",
      "19/19 [==============================] - 0s 22ms/step - loss: 0.0544 - mse: 0.0544 - val_loss: 0.5660 - val_mse: 0.5660\n",
      "Epoch 84/100\n",
      "19/19 [==============================] - 0s 23ms/step - loss: 0.0502 - mse: 0.0502 - val_loss: 0.3944 - val_mse: 0.3944\n",
      "Epoch 85/100\n",
      "19/19 [==============================] - 0s 22ms/step - loss: 0.0614 - mse: 0.0614 - val_loss: 0.3879 - val_mse: 0.3879\n",
      "Epoch 86/100\n",
      "19/19 [==============================] - 0s 22ms/step - loss: 0.0691 - mse: 0.0691 - val_loss: 0.4530 - val_mse: 0.4530\n",
      "Epoch 87/100\n",
      "19/19 [==============================] - 0s 22ms/step - loss: 0.0540 - mse: 0.0540 - val_loss: 0.3948 - val_mse: 0.3948\n",
      "Epoch 88/100\n",
      "19/19 [==============================] - 0s 23ms/step - loss: 0.0567 - mse: 0.0567 - val_loss: 0.3935 - val_mse: 0.3935\n",
      "Epoch 89/100\n",
      "19/19 [==============================] - 0s 23ms/step - loss: 0.0534 - mse: 0.0534 - val_loss: 0.4483 - val_mse: 0.4483\n",
      "Epoch 90/100\n",
      "19/19 [==============================] - 0s 22ms/step - loss: 0.0517 - mse: 0.0517 - val_loss: 0.4043 - val_mse: 0.4043\n",
      "Epoch 91/100\n",
      "19/19 [==============================] - 0s 22ms/step - loss: 0.0510 - mse: 0.0510 - val_loss: 0.4375 - val_mse: 0.4375\n",
      "Epoch 92/100\n",
      "19/19 [==============================] - 0s 22ms/step - loss: 0.0619 - mse: 0.0619 - val_loss: 0.5112 - val_mse: 0.5112\n",
      "Epoch 93/100\n",
      "19/19 [==============================] - 0s 24ms/step - loss: 0.0531 - mse: 0.0531 - val_loss: 0.4187 - val_mse: 0.4187\n",
      "Epoch 94/100\n",
      "19/19 [==============================] - 1s 27ms/step - loss: 0.0489 - mse: 0.0489 - val_loss: 0.4053 - val_mse: 0.4053\n",
      "Epoch 95/100\n",
      "19/19 [==============================] - 0s 22ms/step - loss: 0.0564 - mse: 0.0564 - val_loss: 0.4187 - val_mse: 0.4187\n",
      "Epoch 96/100\n",
      "19/19 [==============================] - 0s 22ms/step - loss: 0.0504 - mse: 0.0504 - val_loss: 0.3916 - val_mse: 0.3916\n",
      "Epoch 97/100\n",
      "19/19 [==============================] - 0s 23ms/step - loss: 0.0583 - mse: 0.0583 - val_loss: 0.3968 - val_mse: 0.3968\n",
      "Epoch 98/100\n",
      "19/19 [==============================] - 0s 22ms/step - loss: 0.0585 - mse: 0.0585 - val_loss: 0.4260 - val_mse: 0.4260\n",
      "Epoch 99/100\n",
      "19/19 [==============================] - 0s 22ms/step - loss: 0.0523 - mse: 0.0523 - val_loss: 0.4436 - val_mse: 0.4436\n",
      "Epoch 100/100\n",
      "19/19 [==============================] - 0s 21ms/step - loss: 0.0543 - mse: 0.0543 - val_loss: 0.4268 - val_mse: 0.4268\n",
      "Epoch 1/100\n",
      "19/19 [==============================] - 2s 34ms/step - loss: 3.2549 - mse: 3.2549 - val_loss: 1.2938 - val_mse: 1.2938\n",
      "Epoch 2/100\n",
      "19/19 [==============================] - 0s 23ms/step - loss: 1.6995 - mse: 1.6995 - val_loss: 0.9830 - val_mse: 0.9830\n",
      "Epoch 3/100\n",
      "19/19 [==============================] - 0s 23ms/step - loss: 1.3054 - mse: 1.3054 - val_loss: 0.9153 - val_mse: 0.9153\n",
      "Epoch 4/100\n",
      "19/19 [==============================] - 0s 22ms/step - loss: 1.0264 - mse: 1.0264 - val_loss: 0.9304 - val_mse: 0.9304\n",
      "Epoch 5/100\n",
      "19/19 [==============================] - 0s 22ms/step - loss: 0.9216 - mse: 0.9216 - val_loss: 0.7712 - val_mse: 0.7712\n",
      "Epoch 6/100\n",
      "19/19 [==============================] - 0s 22ms/step - loss: 0.7188 - mse: 0.7188 - val_loss: 0.8158 - val_mse: 0.8158\n",
      "Epoch 7/100\n",
      "19/19 [==============================] - 0s 23ms/step - loss: 0.6581 - mse: 0.6581 - val_loss: 1.0286 - val_mse: 1.0286\n",
      "Epoch 8/100\n",
      "19/19 [==============================] - 0s 23ms/step - loss: 0.6260 - mse: 0.6260 - val_loss: 0.7518 - val_mse: 0.7518\n",
      "Epoch 9/100\n",
      "19/19 [==============================] - 0s 23ms/step - loss: 0.5203 - mse: 0.5203 - val_loss: 0.6943 - val_mse: 0.6943\n",
      "Epoch 10/100\n",
      "19/19 [==============================] - 0s 23ms/step - loss: 0.4726 - mse: 0.4726 - val_loss: 0.7134 - val_mse: 0.7134\n",
      "Epoch 11/100\n",
      "19/19 [==============================] - 0s 23ms/step - loss: 0.4661 - mse: 0.4661 - val_loss: 0.6971 - val_mse: 0.6971\n",
      "Epoch 12/100\n",
      "19/19 [==============================] - 0s 23ms/step - loss: 0.4338 - mse: 0.4338 - val_loss: 0.7048 - val_mse: 0.7048\n",
      "Epoch 13/100\n",
      "19/19 [==============================] - 0s 22ms/step - loss: 0.3480 - mse: 0.3480 - val_loss: 0.6506 - val_mse: 0.6506\n",
      "Epoch 14/100\n",
      "19/19 [==============================] - 0s 23ms/step - loss: 0.3632 - mse: 0.3632 - val_loss: 0.6560 - val_mse: 0.6560\n",
      "Epoch 15/100\n",
      "19/19 [==============================] - 1s 28ms/step - loss: 0.3566 - mse: 0.3566 - val_loss: 0.5851 - val_mse: 0.5851\n",
      "Epoch 16/100\n",
      "19/19 [==============================] - 0s 24ms/step - loss: 0.3700 - mse: 0.3700 - val_loss: 0.5838 - val_mse: 0.5838\n",
      "Epoch 17/100\n",
      "19/19 [==============================] - 0s 22ms/step - loss: 0.3461 - mse: 0.3461 - val_loss: 0.6174 - val_mse: 0.6174\n",
      "Epoch 18/100\n",
      "19/19 [==============================] - 0s 22ms/step - loss: 0.3287 - mse: 0.3287 - val_loss: 0.5447 - val_mse: 0.5447\n",
      "Epoch 19/100\n",
      "19/19 [==============================] - 0s 22ms/step - loss: 0.3075 - mse: 0.3075 - val_loss: 0.6752 - val_mse: 0.6752\n",
      "Epoch 20/100\n",
      "19/19 [==============================] - 0s 22ms/step - loss: 0.2569 - mse: 0.2569 - val_loss: 0.5828 - val_mse: 0.5828\n",
      "Epoch 21/100\n",
      "19/19 [==============================] - 0s 22ms/step - loss: 0.2572 - mse: 0.2572 - val_loss: 0.5237 - val_mse: 0.5237\n",
      "Epoch 22/100\n",
      "19/19 [==============================] - 0s 22ms/step - loss: 0.2542 - mse: 0.2542 - val_loss: 0.5968 - val_mse: 0.5968\n",
      "Epoch 23/100\n",
      "19/19 [==============================] - 0s 26ms/step - loss: 0.2408 - mse: 0.2408 - val_loss: 0.4757 - val_mse: 0.4757\n",
      "Epoch 24/100\n",
      "19/19 [==============================] - 0s 25ms/step - loss: 0.2348 - mse: 0.2348 - val_loss: 0.5008 - val_mse: 0.5008\n",
      "Epoch 25/100\n",
      "19/19 [==============================] - 0s 25ms/step - loss: 0.2214 - mse: 0.2214 - val_loss: 0.5089 - val_mse: 0.5089\n",
      "Epoch 26/100\n",
      "19/19 [==============================] - 0s 26ms/step - loss: 0.1882 - mse: 0.1882 - val_loss: 0.4829 - val_mse: 0.4829\n",
      "Epoch 27/100\n",
      "19/19 [==============================] - 0s 25ms/step - loss: 0.1955 - mse: 0.1955 - val_loss: 0.5102 - val_mse: 0.5102\n",
      "Epoch 28/100\n",
      "19/19 [==============================] - 0s 25ms/step - loss: 0.1884 - mse: 0.1884 - val_loss: 0.4811 - val_mse: 0.4811\n",
      "Epoch 29/100\n",
      "19/19 [==============================] - 0s 24ms/step - loss: 0.1836 - mse: 0.1836 - val_loss: 0.4938 - val_mse: 0.4938\n",
      "Epoch 30/100\n",
      "19/19 [==============================] - 0s 23ms/step - loss: 0.1679 - mse: 0.1679 - val_loss: 0.5551 - val_mse: 0.5551\n",
      "Epoch 31/100\n",
      "19/19 [==============================] - 0s 23ms/step - loss: 0.1677 - mse: 0.1677 - val_loss: 0.6324 - val_mse: 0.6324\n",
      "Epoch 32/100\n",
      "19/19 [==============================] - 0s 22ms/step - loss: 0.1593 - mse: 0.1593 - val_loss: 0.5925 - val_mse: 0.5925\n",
      "Epoch 33/100\n",
      "19/19 [==============================] - 0s 23ms/step - loss: 0.1628 - mse: 0.1628 - val_loss: 0.5159 - val_mse: 0.5159\n",
      "Epoch 34/100\n",
      "19/19 [==============================] - 0s 22ms/step - loss: 0.1509 - mse: 0.1509 - val_loss: 0.5684 - val_mse: 0.5684\n",
      "Epoch 35/100\n",
      "19/19 [==============================] - 0s 22ms/step - loss: 0.1511 - mse: 0.1511 - val_loss: 0.4549 - val_mse: 0.4549\n",
      "Epoch 36/100\n",
      "19/19 [==============================] - 0s 23ms/step - loss: 0.1235 - mse: 0.1235 - val_loss: 0.6222 - val_mse: 0.6222\n",
      "Epoch 37/100\n",
      "19/19 [==============================] - 0s 23ms/step - loss: 0.1433 - mse: 0.1433 - val_loss: 0.4345 - val_mse: 0.4345\n",
      "Epoch 38/100\n",
      "19/19 [==============================] - 0s 22ms/step - loss: 0.1298 - mse: 0.1298 - val_loss: 0.4298 - val_mse: 0.4298\n",
      "Epoch 39/100\n",
      "19/19 [==============================] - 0s 23ms/step - loss: 0.1236 - mse: 0.1236 - val_loss: 0.5069 - val_mse: 0.5069\n",
      "Epoch 40/100\n",
      "19/19 [==============================] - 1s 40ms/step - loss: 0.1292 - mse: 0.1292 - val_loss: 0.4647 - val_mse: 0.4647\n",
      "Epoch 41/100\n",
      "19/19 [==============================] - 1s 29ms/step - loss: 0.1314 - mse: 0.1314 - val_loss: 0.4427 - val_mse: 0.4427\n",
      "Epoch 42/100\n",
      "19/19 [==============================] - 0s 22ms/step - loss: 0.1227 - mse: 0.1227 - val_loss: 0.4576 - val_mse: 0.4576\n",
      "Epoch 43/100\n",
      "19/19 [==============================] - 0s 23ms/step - loss: 0.1100 - mse: 0.1100 - val_loss: 0.5551 - val_mse: 0.5551\n",
      "Epoch 44/100\n",
      "19/19 [==============================] - 0s 23ms/step - loss: 0.1102 - mse: 0.1102 - val_loss: 0.4450 - val_mse: 0.4450\n",
      "Epoch 45/100\n",
      "19/19 [==============================] - 0s 23ms/step - loss: 0.1205 - mse: 0.1205 - val_loss: 0.4399 - val_mse: 0.4399\n",
      "Epoch 46/100\n",
      "19/19 [==============================] - 0s 22ms/step - loss: 0.0961 - mse: 0.0961 - val_loss: 0.4402 - val_mse: 0.4402\n",
      "Epoch 47/100\n",
      "19/19 [==============================] - 0s 22ms/step - loss: 0.1036 - mse: 0.1036 - val_loss: 0.4415 - val_mse: 0.4415\n",
      "Epoch 48/100\n",
      "19/19 [==============================] - 0s 23ms/step - loss: 0.1067 - mse: 0.1067 - val_loss: 0.5557 - val_mse: 0.5557\n",
      "Epoch 49/100\n",
      "19/19 [==============================] - 0s 22ms/step - loss: 0.0998 - mse: 0.0998 - val_loss: 0.4251 - val_mse: 0.4251\n",
      "Epoch 50/100\n",
      "19/19 [==============================] - 0s 22ms/step - loss: 0.1050 - mse: 0.1050 - val_loss: 0.4212 - val_mse: 0.4212\n",
      "Epoch 51/100\n",
      "19/19 [==============================] - 0s 22ms/step - loss: 0.1000 - mse: 0.1000 - val_loss: 0.4562 - val_mse: 0.4562\n",
      "Epoch 52/100\n",
      "19/19 [==============================] - 0s 23ms/step - loss: 0.1039 - mse: 0.1039 - val_loss: 0.4687 - val_mse: 0.4687\n",
      "Epoch 53/100\n",
      "19/19 [==============================] - 0s 23ms/step - loss: 0.0939 - mse: 0.0939 - val_loss: 0.4197 - val_mse: 0.4197\n",
      "Epoch 54/100\n",
      "19/19 [==============================] - 0s 23ms/step - loss: 0.0946 - mse: 0.0946 - val_loss: 0.4206 - val_mse: 0.4206\n",
      "Epoch 55/100\n",
      "19/19 [==============================] - 0s 22ms/step - loss: 0.0822 - mse: 0.0822 - val_loss: 0.4618 - val_mse: 0.4618\n",
      "Epoch 56/100\n",
      "19/19 [==============================] - 0s 22ms/step - loss: 0.0801 - mse: 0.0801 - val_loss: 0.5948 - val_mse: 0.5948\n",
      "Epoch 57/100\n",
      "19/19 [==============================] - 0s 23ms/step - loss: 0.0836 - mse: 0.0836 - val_loss: 0.4457 - val_mse: 0.4457\n",
      "Epoch 58/100\n",
      "19/19 [==============================] - 0s 23ms/step - loss: 0.0866 - mse: 0.0866 - val_loss: 0.4403 - val_mse: 0.4403\n",
      "Epoch 59/100\n",
      "19/19 [==============================] - 0s 22ms/step - loss: 0.0782 - mse: 0.0782 - val_loss: 0.4609 - val_mse: 0.4609\n",
      "Epoch 60/100\n",
      "19/19 [==============================] - 0s 23ms/step - loss: 0.0742 - mse: 0.0742 - val_loss: 0.4136 - val_mse: 0.4136\n",
      "Epoch 61/100\n",
      "19/19 [==============================] - 0s 22ms/step - loss: 0.0721 - mse: 0.0721 - val_loss: 0.4386 - val_mse: 0.4386\n",
      "Epoch 62/100\n",
      "19/19 [==============================] - 0s 23ms/step - loss: 0.0674 - mse: 0.0674 - val_loss: 0.4390 - val_mse: 0.4390\n",
      "Epoch 63/100\n",
      "19/19 [==============================] - 0s 22ms/step - loss: 0.0693 - mse: 0.0693 - val_loss: 0.4646 - val_mse: 0.4646\n",
      "Epoch 64/100\n",
      "19/19 [==============================] - 0s 27ms/step - loss: 0.0737 - mse: 0.0737 - val_loss: 0.4386 - val_mse: 0.4386\n",
      "Epoch 65/100\n",
      "19/19 [==============================] - 0s 26ms/step - loss: 0.0732 - mse: 0.0732 - val_loss: 0.4670 - val_mse: 0.4670\n",
      "Epoch 66/100\n",
      "19/19 [==============================] - 0s 23ms/step - loss: 0.0759 - mse: 0.0759 - val_loss: 0.5294 - val_mse: 0.5294\n",
      "Epoch 67/100\n",
      "19/19 [==============================] - 0s 23ms/step - loss: 0.0635 - mse: 0.0635 - val_loss: 0.4363 - val_mse: 0.4363\n",
      "Epoch 68/100\n",
      "19/19 [==============================] - 0s 22ms/step - loss: 0.0606 - mse: 0.0606 - val_loss: 0.4823 - val_mse: 0.4823\n",
      "Epoch 69/100\n",
      "19/19 [==============================] - 0s 23ms/step - loss: 0.0674 - mse: 0.0674 - val_loss: 0.4428 - val_mse: 0.4428\n",
      "Epoch 70/100\n",
      "19/19 [==============================] - 0s 23ms/step - loss: 0.0644 - mse: 0.0644 - val_loss: 0.4394 - val_mse: 0.4394\n",
      "Epoch 71/100\n",
      "19/19 [==============================] - 0s 22ms/step - loss: 0.0665 - mse: 0.0665 - val_loss: 0.4580 - val_mse: 0.4580\n",
      "Epoch 72/100\n",
      "19/19 [==============================] - 0s 22ms/step - loss: 0.0656 - mse: 0.0656 - val_loss: 0.4520 - val_mse: 0.4520\n",
      "Epoch 73/100\n",
      "19/19 [==============================] - 0s 23ms/step - loss: 0.0712 - mse: 0.0712 - val_loss: 0.4138 - val_mse: 0.4138\n",
      "Epoch 74/100\n",
      "19/19 [==============================] - 0s 23ms/step - loss: 0.0592 - mse: 0.0592 - val_loss: 0.4552 - val_mse: 0.4552\n",
      "Epoch 75/100\n",
      "19/19 [==============================] - 0s 22ms/step - loss: 0.0618 - mse: 0.0618 - val_loss: 0.4897 - val_mse: 0.4897\n",
      "Epoch 76/100\n",
      "19/19 [==============================] - 0s 23ms/step - loss: 0.0659 - mse: 0.0659 - val_loss: 0.4260 - val_mse: 0.4260\n",
      "Epoch 77/100\n",
      "19/19 [==============================] - 0s 23ms/step - loss: 0.0621 - mse: 0.0621 - val_loss: 0.4110 - val_mse: 0.4110\n",
      "Epoch 78/100\n",
      "19/19 [==============================] - 0s 23ms/step - loss: 0.0603 - mse: 0.0603 - val_loss: 0.4108 - val_mse: 0.4108\n",
      "Epoch 79/100\n",
      "19/19 [==============================] - 0s 23ms/step - loss: 0.0623 - mse: 0.0623 - val_loss: 0.4640 - val_mse: 0.4640\n",
      "Epoch 80/100\n",
      "19/19 [==============================] - 0s 23ms/step - loss: 0.0578 - mse: 0.0578 - val_loss: 0.4178 - val_mse: 0.4178\n",
      "Epoch 81/100\n",
      "19/19 [==============================] - 0s 22ms/step - loss: 0.0534 - mse: 0.0534 - val_loss: 0.4403 - val_mse: 0.4403\n",
      "Epoch 82/100\n",
      "19/19 [==============================] - 0s 22ms/step - loss: 0.0677 - mse: 0.0677 - val_loss: 0.4131 - val_mse: 0.4131\n",
      "Epoch 83/100\n",
      "19/19 [==============================] - 0s 22ms/step - loss: 0.0564 - mse: 0.0564 - val_loss: 0.4928 - val_mse: 0.4928\n",
      "Epoch 84/100\n",
      "19/19 [==============================] - 0s 23ms/step - loss: 0.0546 - mse: 0.0546 - val_loss: 0.4243 - val_mse: 0.4243\n",
      "Epoch 85/100\n",
      "19/19 [==============================] - 0s 23ms/step - loss: 0.0541 - mse: 0.0541 - val_loss: 0.4795 - val_mse: 0.4795\n",
      "Epoch 86/100\n",
      "19/19 [==============================] - 0s 22ms/step - loss: 0.0573 - mse: 0.0573 - val_loss: 0.4268 - val_mse: 0.4268\n",
      "Epoch 87/100\n",
      "19/19 [==============================] - 0s 23ms/step - loss: 0.0546 - mse: 0.0546 - val_loss: 0.4750 - val_mse: 0.4750\n",
      "Epoch 88/100\n",
      "19/19 [==============================] - 0s 23ms/step - loss: 0.0478 - mse: 0.0478 - val_loss: 0.4241 - val_mse: 0.4241\n",
      "Epoch 89/100\n",
      "19/19 [==============================] - 0s 22ms/step - loss: 0.0481 - mse: 0.0481 - val_loss: 0.4110 - val_mse: 0.4110\n",
      "Epoch 90/100\n",
      "19/19 [==============================] - 1s 28ms/step - loss: 0.0589 - mse: 0.0589 - val_loss: 0.4153 - val_mse: 0.4153\n",
      "Epoch 91/100\n",
      "19/19 [==============================] - 0s 23ms/step - loss: 0.0499 - mse: 0.0499 - val_loss: 0.4313 - val_mse: 0.4313\n",
      "Epoch 92/100\n",
      "19/19 [==============================] - 0s 22ms/step - loss: 0.0656 - mse: 0.0656 - val_loss: 0.4493 - val_mse: 0.4493\n",
      "Epoch 93/100\n",
      "19/19 [==============================] - 0s 23ms/step - loss: 0.0502 - mse: 0.0502 - val_loss: 0.4096 - val_mse: 0.4096\n",
      "Epoch 94/100\n",
      "19/19 [==============================] - 0s 23ms/step - loss: 0.0523 - mse: 0.0523 - val_loss: 0.4130 - val_mse: 0.4130\n",
      "Epoch 95/100\n",
      "19/19 [==============================] - 0s 22ms/step - loss: 0.0467 - mse: 0.0467 - val_loss: 0.4161 - val_mse: 0.4161\n",
      "Epoch 96/100\n",
      "19/19 [==============================] - 0s 22ms/step - loss: 0.0599 - mse: 0.0599 - val_loss: 0.4212 - val_mse: 0.4212\n",
      "Epoch 97/100\n",
      "19/19 [==============================] - 0s 22ms/step - loss: 0.0585 - mse: 0.0585 - val_loss: 0.4388 - val_mse: 0.4388\n",
      "Epoch 98/100\n",
      "19/19 [==============================] - 0s 26ms/step - loss: 0.0555 - mse: 0.0555 - val_loss: 0.4510 - val_mse: 0.4510\n",
      "Epoch 99/100\n",
      "19/19 [==============================] - 0s 26ms/step - loss: 0.0538 - mse: 0.0538 - val_loss: 0.4615 - val_mse: 0.4615\n",
      "Epoch 100/100\n",
      "19/19 [==============================] - 0s 25ms/step - loss: 0.0564 - mse: 0.0564 - val_loss: 0.4521 - val_mse: 0.4521\n",
      "Epoch 1/100\n",
      "19/19 [==============================] - 3s 42ms/step - loss: 3.6542 - mse: 3.6542 - val_loss: 0.7918 - val_mse: 0.7918\n",
      "Epoch 2/100\n",
      "19/19 [==============================] - 0s 23ms/step - loss: 1.6829 - mse: 1.6829 - val_loss: 0.7078 - val_mse: 0.7078\n",
      "Epoch 3/100\n",
      "19/19 [==============================] - 0s 22ms/step - loss: 1.4583 - mse: 1.4583 - val_loss: 1.0366 - val_mse: 1.0366\n",
      "Epoch 4/100\n",
      "19/19 [==============================] - 0s 23ms/step - loss: 1.1035 - mse: 1.1035 - val_loss: 1.2653 - val_mse: 1.2653\n",
      "Epoch 5/100\n",
      "19/19 [==============================] - 0s 23ms/step - loss: 0.8440 - mse: 0.8440 - val_loss: 0.8425 - val_mse: 0.8425\n",
      "Epoch 6/100\n",
      "19/19 [==============================] - 0s 22ms/step - loss: 0.7777 - mse: 0.7777 - val_loss: 0.7637 - val_mse: 0.7637\n",
      "Epoch 7/100\n",
      "19/19 [==============================] - 0s 24ms/step - loss: 0.7019 - mse: 0.7019 - val_loss: 0.8064 - val_mse: 0.8064\n",
      "Epoch 8/100\n",
      "19/19 [==============================] - 1s 36ms/step - loss: 0.6357 - mse: 0.6357 - val_loss: 0.8450 - val_mse: 0.8450\n",
      "Epoch 9/100\n",
      "19/19 [==============================] - 1s 30ms/step - loss: 0.5330 - mse: 0.5330 - val_loss: 0.7793 - val_mse: 0.7793\n",
      "Epoch 10/100\n",
      "19/19 [==============================] - 0s 23ms/step - loss: 0.5610 - mse: 0.5610 - val_loss: 0.8994 - val_mse: 0.8994\n",
      "Epoch 11/100\n",
      "19/19 [==============================] - 0s 23ms/step - loss: 0.5441 - mse: 0.5441 - val_loss: 0.7873 - val_mse: 0.7873\n",
      "Epoch 12/100\n",
      "19/19 [==============================] - 0s 22ms/step - loss: 0.4935 - mse: 0.4935 - val_loss: 0.6572 - val_mse: 0.6572\n",
      "Epoch 13/100\n",
      "19/19 [==============================] - 0s 23ms/step - loss: 0.4555 - mse: 0.4555 - val_loss: 0.7825 - val_mse: 0.7825\n",
      "Epoch 14/100\n",
      "19/19 [==============================] - 0s 22ms/step - loss: 0.3961 - mse: 0.3961 - val_loss: 0.6944 - val_mse: 0.6944\n",
      "Epoch 15/100\n",
      "19/19 [==============================] - 0s 22ms/step - loss: 0.4039 - mse: 0.4039 - val_loss: 0.6660 - val_mse: 0.6660\n",
      "Epoch 16/100\n",
      "19/19 [==============================] - 0s 22ms/step - loss: 0.3368 - mse: 0.3368 - val_loss: 0.7232 - val_mse: 0.7232\n",
      "Epoch 17/100\n",
      "19/19 [==============================] - 0s 22ms/step - loss: 0.3417 - mse: 0.3417 - val_loss: 0.9806 - val_mse: 0.9806\n",
      "Epoch 18/100\n",
      "19/19 [==============================] - 0s 22ms/step - loss: 0.3363 - mse: 0.3363 - val_loss: 0.5839 - val_mse: 0.5839\n",
      "Epoch 19/100\n",
      "19/19 [==============================] - 0s 22ms/step - loss: 0.3107 - mse: 0.3107 - val_loss: 0.6153 - val_mse: 0.6153\n",
      "Epoch 20/100\n",
      "19/19 [==============================] - 0s 23ms/step - loss: 0.2713 - mse: 0.2713 - val_loss: 0.5944 - val_mse: 0.5944\n",
      "Epoch 21/100\n",
      "19/19 [==============================] - 0s 23ms/step - loss: 0.2631 - mse: 0.2631 - val_loss: 0.5761 - val_mse: 0.5761\n",
      "Epoch 22/100\n",
      "19/19 [==============================] - 0s 22ms/step - loss: 0.2739 - mse: 0.2739 - val_loss: 0.5473 - val_mse: 0.5473\n",
      "Epoch 23/100\n",
      "19/19 [==============================] - 0s 23ms/step - loss: 0.2586 - mse: 0.2586 - val_loss: 0.7888 - val_mse: 0.7888\n",
      "Epoch 24/100\n",
      "19/19 [==============================] - 0s 23ms/step - loss: 0.2451 - mse: 0.2451 - val_loss: 0.6453 - val_mse: 0.6453\n",
      "Epoch 25/100\n",
      "19/19 [==============================] - 0s 22ms/step - loss: 0.2225 - mse: 0.2225 - val_loss: 0.5760 - val_mse: 0.5760\n",
      "Epoch 26/100\n",
      "19/19 [==============================] - 0s 22ms/step - loss: 0.2339 - mse: 0.2339 - val_loss: 0.5531 - val_mse: 0.5531\n",
      "Epoch 27/100\n",
      "19/19 [==============================] - 0s 22ms/step - loss: 0.2074 - mse: 0.2074 - val_loss: 0.5242 - val_mse: 0.5242\n",
      "Epoch 28/100\n",
      "19/19 [==============================] - 0s 22ms/step - loss: 0.2304 - mse: 0.2304 - val_loss: 0.5466 - val_mse: 0.5466\n",
      "Epoch 29/100\n",
      "19/19 [==============================] - 0s 22ms/step - loss: 0.1903 - mse: 0.1903 - val_loss: 0.5359 - val_mse: 0.5359\n",
      "Epoch 30/100\n",
      "19/19 [==============================] - 0s 23ms/step - loss: 0.1962 - mse: 0.1962 - val_loss: 0.5160 - val_mse: 0.5160\n",
      "Epoch 31/100\n",
      "19/19 [==============================] - 0s 22ms/step - loss: 0.1851 - mse: 0.1851 - val_loss: 0.5629 - val_mse: 0.5629\n",
      "Epoch 32/100\n",
      "19/19 [==============================] - 0s 27ms/step - loss: 0.1820 - mse: 0.1820 - val_loss: 0.5267 - val_mse: 0.5267\n",
      "Epoch 33/100\n",
      "19/19 [==============================] - 0s 25ms/step - loss: 0.1673 - mse: 0.1673 - val_loss: 0.5405 - val_mse: 0.5405\n",
      "Epoch 34/100\n",
      "19/19 [==============================] - 0s 22ms/step - loss: 0.1735 - mse: 0.1735 - val_loss: 0.5230 - val_mse: 0.5230\n",
      "Epoch 35/100\n",
      "19/19 [==============================] - 0s 23ms/step - loss: 0.1490 - mse: 0.1490 - val_loss: 0.5163 - val_mse: 0.5163\n",
      "Epoch 36/100\n",
      "19/19 [==============================] - 0s 23ms/step - loss: 0.1481 - mse: 0.1481 - val_loss: 0.5181 - val_mse: 0.5181\n",
      "Epoch 37/100\n",
      "19/19 [==============================] - 0s 23ms/step - loss: 0.1362 - mse: 0.1362 - val_loss: 0.5458 - val_mse: 0.5458\n",
      "Epoch 38/100\n",
      "19/19 [==============================] - 0s 23ms/step - loss: 0.1377 - mse: 0.1377 - val_loss: 0.5546 - val_mse: 0.5546\n",
      "Epoch 39/100\n",
      "19/19 [==============================] - 0s 23ms/step - loss: 0.1491 - mse: 0.1491 - val_loss: 0.5423 - val_mse: 0.5423\n",
      "Epoch 40/100\n",
      "19/19 [==============================] - 0s 22ms/step - loss: 0.1218 - mse: 0.1218 - val_loss: 0.5493 - val_mse: 0.5493\n",
      "Epoch 41/100\n",
      "19/19 [==============================] - 0s 22ms/step - loss: 0.1407 - mse: 0.1407 - val_loss: 0.5403 - val_mse: 0.5403\n",
      "Epoch 42/100\n",
      "19/19 [==============================] - 0s 22ms/step - loss: 0.1366 - mse: 0.1366 - val_loss: 0.5145 - val_mse: 0.5145\n",
      "Epoch 43/100\n",
      "19/19 [==============================] - 0s 23ms/step - loss: 0.1235 - mse: 0.1235 - val_loss: 0.5375 - val_mse: 0.5375\n",
      "Epoch 44/100\n",
      "19/19 [==============================] - 0s 23ms/step - loss: 0.1153 - mse: 0.1153 - val_loss: 0.5543 - val_mse: 0.5543\n",
      "Epoch 45/100\n",
      "19/19 [==============================] - 0s 22ms/step - loss: 0.1127 - mse: 0.1127 - val_loss: 0.7343 - val_mse: 0.7343\n",
      "Epoch 46/100\n",
      "19/19 [==============================] - 0s 22ms/step - loss: 0.1078 - mse: 0.1078 - val_loss: 0.5353 - val_mse: 0.5353\n",
      "Epoch 47/100\n",
      "19/19 [==============================] - 0s 23ms/step - loss: 0.1110 - mse: 0.1110 - val_loss: 0.5138 - val_mse: 0.5138\n",
      "Epoch 48/100\n",
      "19/19 [==============================] - 0s 23ms/step - loss: 0.1023 - mse: 0.1023 - val_loss: 0.5166 - val_mse: 0.5166\n",
      "Epoch 49/100\n",
      "19/19 [==============================] - 0s 22ms/step - loss: 0.0901 - mse: 0.0901 - val_loss: 0.5539 - val_mse: 0.5539\n",
      "Epoch 50/100\n",
      "19/19 [==============================] - 0s 22ms/step - loss: 0.1054 - mse: 0.1054 - val_loss: 0.6386 - val_mse: 0.6386\n",
      "Epoch 51/100\n",
      "19/19 [==============================] - 0s 23ms/step - loss: 0.0949 - mse: 0.0949 - val_loss: 0.5402 - val_mse: 0.5402\n",
      "Epoch 52/100\n",
      "19/19 [==============================] - 0s 23ms/step - loss: 0.0957 - mse: 0.0957 - val_loss: 0.5269 - val_mse: 0.5269\n",
      "Epoch 53/100\n",
      "19/19 [==============================] - 0s 23ms/step - loss: 0.1030 - mse: 0.1030 - val_loss: 0.5135 - val_mse: 0.5135\n",
      "Epoch 54/100\n",
      "19/19 [==============================] - 0s 23ms/step - loss: 0.0849 - mse: 0.0849 - val_loss: 0.5107 - val_mse: 0.5107\n",
      "Epoch 55/100\n",
      "19/19 [==============================] - 0s 22ms/step - loss: 0.0822 - mse: 0.0822 - val_loss: 0.5173 - val_mse: 0.5173\n",
      "Epoch 56/100\n",
      "19/19 [==============================] - 0s 22ms/step - loss: 0.0940 - mse: 0.0940 - val_loss: 0.5146 - val_mse: 0.5146\n",
      "Epoch 57/100\n",
      "19/19 [==============================] - 0s 23ms/step - loss: 0.0753 - mse: 0.0753 - val_loss: 0.5462 - val_mse: 0.5462\n",
      "Epoch 58/100\n",
      "19/19 [==============================] - 1s 29ms/step - loss: 0.0925 - mse: 0.0925 - val_loss: 0.5465 - val_mse: 0.5465\n",
      "Epoch 59/100\n",
      "19/19 [==============================] - 0s 23ms/step - loss: 0.0914 - mse: 0.0914 - val_loss: 0.5391 - val_mse: 0.5391\n",
      "Epoch 60/100\n",
      "19/19 [==============================] - 0s 23ms/step - loss: 0.0801 - mse: 0.0801 - val_loss: 0.5127 - val_mse: 0.5127\n",
      "Epoch 61/100\n",
      "19/19 [==============================] - 0s 22ms/step - loss: 0.0820 - mse: 0.0820 - val_loss: 0.5396 - val_mse: 0.5396\n",
      "Epoch 62/100\n",
      "19/19 [==============================] - 0s 23ms/step - loss: 0.0810 - mse: 0.0810 - val_loss: 0.5335 - val_mse: 0.5335\n",
      "Epoch 63/100\n",
      "19/19 [==============================] - 0s 22ms/step - loss: 0.0715 - mse: 0.0715 - val_loss: 0.5366 - val_mse: 0.5366\n",
      "Epoch 64/100\n",
      "19/19 [==============================] - 0s 22ms/step - loss: 0.0724 - mse: 0.0724 - val_loss: 0.5136 - val_mse: 0.5136\n",
      "Epoch 65/100\n",
      "19/19 [==============================] - 0s 22ms/step - loss: 0.0738 - mse: 0.0738 - val_loss: 0.5009 - val_mse: 0.5009\n",
      "Epoch 66/100\n",
      "19/19 [==============================] - 0s 25ms/step - loss: 0.0763 - mse: 0.0763 - val_loss: 0.5245 - val_mse: 0.5245\n",
      "Epoch 67/100\n",
      "19/19 [==============================] - 0s 26ms/step - loss: 0.0774 - mse: 0.0774 - val_loss: 0.5510 - val_mse: 0.5510\n",
      "Epoch 68/100\n",
      "19/19 [==============================] - 0s 25ms/step - loss: 0.0757 - mse: 0.0757 - val_loss: 0.5082 - val_mse: 0.5082\n",
      "Epoch 69/100\n",
      "19/19 [==============================] - 0s 26ms/step - loss: 0.0715 - mse: 0.0715 - val_loss: 0.5137 - val_mse: 0.5137\n",
      "Epoch 70/100\n",
      "19/19 [==============================] - 1s 27ms/step - loss: 0.0748 - mse: 0.0748 - val_loss: 0.5244 - val_mse: 0.5244\n",
      "Epoch 71/100\n",
      "19/19 [==============================] - 0s 25ms/step - loss: 0.0652 - mse: 0.0652 - val_loss: 0.5075 - val_mse: 0.5075\n",
      "Epoch 72/100\n",
      "19/19 [==============================] - 0s 25ms/step - loss: 0.0630 - mse: 0.0630 - val_loss: 0.5134 - val_mse: 0.5134\n",
      "Epoch 73/100\n",
      "19/19 [==============================] - 0s 24ms/step - loss: 0.0660 - mse: 0.0660 - val_loss: 0.5379 - val_mse: 0.5379\n",
      "Epoch 74/100\n",
      "19/19 [==============================] - 0s 22ms/step - loss: 0.0626 - mse: 0.0626 - val_loss: 0.5089 - val_mse: 0.5089\n",
      "Epoch 75/100\n",
      "19/19 [==============================] - 0s 23ms/step - loss: 0.0684 - mse: 0.0684 - val_loss: 0.5160 - val_mse: 0.5160\n",
      "Epoch 76/100\n",
      "19/19 [==============================] - 0s 23ms/step - loss: 0.0673 - mse: 0.0673 - val_loss: 0.5067 - val_mse: 0.5067\n",
      "Epoch 77/100\n",
      "19/19 [==============================] - 0s 23ms/step - loss: 0.0768 - mse: 0.0768 - val_loss: 0.5234 - val_mse: 0.5234\n",
      "Epoch 78/100\n",
      "19/19 [==============================] - 0s 23ms/step - loss: 0.0595 - mse: 0.0595 - val_loss: 0.5261 - val_mse: 0.5261\n",
      "Epoch 79/100\n",
      "19/19 [==============================] - 0s 25ms/step - loss: 0.0627 - mse: 0.0627 - val_loss: 0.5950 - val_mse: 0.5950\n",
      "Epoch 80/100\n",
      "19/19 [==============================] - 1s 30ms/step - loss: 0.0610 - mse: 0.0610 - val_loss: 0.4999 - val_mse: 0.4999\n",
      "Epoch 81/100\n",
      "19/19 [==============================] - 0s 26ms/step - loss: 0.0633 - mse: 0.0633 - val_loss: 0.5376 - val_mse: 0.5376\n",
      "Epoch 82/100\n",
      "19/19 [==============================] - 1s 28ms/step - loss: 0.0622 - mse: 0.0622 - val_loss: 0.5176 - val_mse: 0.5176\n",
      "Epoch 83/100\n",
      "19/19 [==============================] - 0s 24ms/step - loss: 0.0582 - mse: 0.0582 - val_loss: 0.5108 - val_mse: 0.5108\n",
      "Epoch 84/100\n",
      "19/19 [==============================] - 0s 23ms/step - loss: 0.0572 - mse: 0.0572 - val_loss: 0.5198 - val_mse: 0.5198\n",
      "Epoch 85/100\n",
      "19/19 [==============================] - 0s 22ms/step - loss: 0.0648 - mse: 0.0648 - val_loss: 0.5055 - val_mse: 0.5055\n",
      "Epoch 86/100\n",
      "19/19 [==============================] - 0s 22ms/step - loss: 0.0592 - mse: 0.0592 - val_loss: 0.4992 - val_mse: 0.4992\n",
      "Epoch 87/100\n",
      "19/19 [==============================] - 0s 23ms/step - loss: 0.0585 - mse: 0.0585 - val_loss: 0.5173 - val_mse: 0.5173\n",
      "Epoch 88/100\n",
      "19/19 [==============================] - 0s 22ms/step - loss: 0.0529 - mse: 0.0529 - val_loss: 0.5144 - val_mse: 0.5144\n",
      "Epoch 89/100\n",
      "19/19 [==============================] - 0s 22ms/step - loss: 0.0566 - mse: 0.0566 - val_loss: 0.5702 - val_mse: 0.5702\n",
      "Epoch 90/100\n",
      "19/19 [==============================] - 0s 22ms/step - loss: 0.0585 - mse: 0.0585 - val_loss: 0.4968 - val_mse: 0.4968\n",
      "Epoch 91/100\n",
      "19/19 [==============================] - 0s 22ms/step - loss: 0.0573 - mse: 0.0573 - val_loss: 0.5225 - val_mse: 0.5225\n",
      "Epoch 92/100\n",
      "19/19 [==============================] - 0s 23ms/step - loss: 0.0463 - mse: 0.0463 - val_loss: 0.5016 - val_mse: 0.5016\n",
      "Epoch 93/100\n",
      "19/19 [==============================] - 0s 22ms/step - loss: 0.0513 - mse: 0.0513 - val_loss: 0.5090 - val_mse: 0.5090\n",
      "Epoch 94/100\n",
      "19/19 [==============================] - 0s 22ms/step - loss: 0.0664 - mse: 0.0664 - val_loss: 0.5541 - val_mse: 0.5541\n",
      "Epoch 95/100\n",
      "19/19 [==============================] - 0s 22ms/step - loss: 0.0538 - mse: 0.0538 - val_loss: 0.5418 - val_mse: 0.5418\n",
      "Epoch 96/100\n",
      "19/19 [==============================] - 0s 23ms/step - loss: 0.0487 - mse: 0.0487 - val_loss: 0.5109 - val_mse: 0.5109\n",
      "Epoch 97/100\n",
      "19/19 [==============================] - 0s 23ms/step - loss: 0.0514 - mse: 0.0514 - val_loss: 0.5478 - val_mse: 0.5478\n",
      "Epoch 98/100\n",
      "19/19 [==============================] - 0s 23ms/step - loss: 0.0553 - mse: 0.0553 - val_loss: 0.5042 - val_mse: 0.5042\n",
      "Epoch 99/100\n",
      "19/19 [==============================] - 0s 23ms/step - loss: 0.0428 - mse: 0.0428 - val_loss: 0.4944 - val_mse: 0.4944\n",
      "Epoch 100/100\n",
      "19/19 [==============================] - 0s 23ms/step - loss: 0.0472 - mse: 0.0472 - val_loss: 0.5015 - val_mse: 0.5015\n",
      "Epoch 1/100\n",
      "19/19 [==============================] - 2s 35ms/step - loss: 3.3183 - mse: 3.3183 - val_loss: 0.7702 - val_mse: 0.7702\n",
      "Epoch 2/100\n",
      "19/19 [==============================] - 0s 23ms/step - loss: 1.6845 - mse: 1.6845 - val_loss: 0.8684 - val_mse: 0.8684\n",
      "Epoch 3/100\n",
      "19/19 [==============================] - 1s 29ms/step - loss: 1.3128 - mse: 1.3128 - val_loss: 0.7391 - val_mse: 0.7391\n",
      "Epoch 4/100\n",
      "19/19 [==============================] - 0s 23ms/step - loss: 1.1658 - mse: 1.1658 - val_loss: 0.6821 - val_mse: 0.6821\n",
      "Epoch 5/100\n",
      "19/19 [==============================] - 0s 22ms/step - loss: 0.9593 - mse: 0.9593 - val_loss: 0.7910 - val_mse: 0.7910\n",
      "Epoch 6/100\n",
      "19/19 [==============================] - 0s 23ms/step - loss: 0.8312 - mse: 0.8312 - val_loss: 0.7470 - val_mse: 0.7470\n",
      "Epoch 7/100\n",
      "19/19 [==============================] - 0s 22ms/step - loss: 0.7043 - mse: 0.7043 - val_loss: 0.8354 - val_mse: 0.8354\n",
      "Epoch 8/100\n",
      "19/19 [==============================] - 0s 22ms/step - loss: 0.5839 - mse: 0.5839 - val_loss: 0.8240 - val_mse: 0.8240\n",
      "Epoch 9/100\n",
      "19/19 [==============================] - 0s 23ms/step - loss: 0.5525 - mse: 0.5525 - val_loss: 0.7057 - val_mse: 0.7057\n",
      "Epoch 10/100\n",
      "19/19 [==============================] - 0s 23ms/step - loss: 0.5441 - mse: 0.5441 - val_loss: 0.7034 - val_mse: 0.7034\n",
      "Epoch 11/100\n",
      "19/19 [==============================] - 0s 23ms/step - loss: 0.5290 - mse: 0.5290 - val_loss: 0.6695 - val_mse: 0.6695\n",
      "Epoch 12/100\n",
      "19/19 [==============================] - 0s 23ms/step - loss: 0.5281 - mse: 0.5281 - val_loss: 0.9377 - val_mse: 0.9377\n",
      "Epoch 13/100\n",
      "19/19 [==============================] - 0s 22ms/step - loss: 0.4795 - mse: 0.4795 - val_loss: 0.9582 - val_mse: 0.9582\n",
      "Epoch 14/100\n",
      "19/19 [==============================] - 0s 23ms/step - loss: 0.4163 - mse: 0.4163 - val_loss: 0.6930 - val_mse: 0.6930\n",
      "Epoch 15/100\n",
      "19/19 [==============================] - 0s 22ms/step - loss: 0.4028 - mse: 0.4028 - val_loss: 0.6602 - val_mse: 0.6602\n",
      "Epoch 16/100\n",
      "19/19 [==============================] - 0s 22ms/step - loss: 0.3573 - mse: 0.3573 - val_loss: 0.5696 - val_mse: 0.5696\n",
      "Epoch 17/100\n",
      "19/19 [==============================] - 0s 22ms/step - loss: 0.3693 - mse: 0.3693 - val_loss: 0.5552 - val_mse: 0.5552\n",
      "Epoch 18/100\n",
      "19/19 [==============================] - 0s 23ms/step - loss: 0.3363 - mse: 0.3363 - val_loss: 0.6670 - val_mse: 0.6670\n",
      "Epoch 19/100\n",
      "19/19 [==============================] - 0s 22ms/step - loss: 0.3194 - mse: 0.3194 - val_loss: 0.6238 - val_mse: 0.6238\n",
      "Epoch 20/100\n",
      "19/19 [==============================] - 0s 22ms/step - loss: 0.3093 - mse: 0.3093 - val_loss: 0.5868 - val_mse: 0.5868\n",
      "Epoch 21/100\n",
      "19/19 [==============================] - 0s 22ms/step - loss: 0.2671 - mse: 0.2671 - val_loss: 0.6656 - val_mse: 0.6656\n",
      "Epoch 22/100\n",
      "19/19 [==============================] - 0s 22ms/step - loss: 0.2707 - mse: 0.2707 - val_loss: 0.7653 - val_mse: 0.7653\n",
      "Epoch 23/100\n",
      "19/19 [==============================] - 0s 24ms/step - loss: 0.2335 - mse: 0.2335 - val_loss: 0.5420 - val_mse: 0.5420\n",
      "Epoch 24/100\n",
      "19/19 [==============================] - 0s 22ms/step - loss: 0.2384 - mse: 0.2384 - val_loss: 0.4998 - val_mse: 0.4998\n",
      "Epoch 25/100\n",
      "19/19 [==============================] - 0s 22ms/step - loss: 0.2285 - mse: 0.2285 - val_loss: 0.6634 - val_mse: 0.6634\n",
      "Epoch 26/100\n",
      "19/19 [==============================] - 0s 23ms/step - loss: 0.2180 - mse: 0.2180 - val_loss: 0.5037 - val_mse: 0.5037\n",
      "Epoch 27/100\n",
      "19/19 [==============================] - 0s 23ms/step - loss: 0.2013 - mse: 0.2013 - val_loss: 0.4624 - val_mse: 0.4624\n",
      "Epoch 28/100\n",
      "19/19 [==============================] - 1s 27ms/step - loss: 0.2027 - mse: 0.2027 - val_loss: 0.4696 - val_mse: 0.4696\n",
      "Epoch 29/100\n",
      "19/19 [==============================] - 0s 25ms/step - loss: 0.2241 - mse: 0.2241 - val_loss: 0.5798 - val_mse: 0.5798\n",
      "Epoch 30/100\n",
      "19/19 [==============================] - 0s 23ms/step - loss: 0.1981 - mse: 0.1981 - val_loss: 0.4546 - val_mse: 0.4546\n",
      "Epoch 31/100\n",
      "19/19 [==============================] - 0s 23ms/step - loss: 0.1936 - mse: 0.1936 - val_loss: 0.6335 - val_mse: 0.6335\n",
      "Epoch 32/100\n",
      "19/19 [==============================] - 0s 23ms/step - loss: 0.1815 - mse: 0.1815 - val_loss: 0.4929 - val_mse: 0.4929\n",
      "Epoch 33/100\n",
      "19/19 [==============================] - 0s 23ms/step - loss: 0.1875 - mse: 0.1875 - val_loss: 0.5015 - val_mse: 0.5015\n",
      "Epoch 34/100\n",
      "19/19 [==============================] - 0s 23ms/step - loss: 0.1702 - mse: 0.1702 - val_loss: 0.4816 - val_mse: 0.4816\n",
      "Epoch 35/100\n",
      "19/19 [==============================] - 0s 22ms/step - loss: 0.1548 - mse: 0.1548 - val_loss: 0.7731 - val_mse: 0.7731\n",
      "Epoch 36/100\n",
      "19/19 [==============================] - 0s 22ms/step - loss: 0.1552 - mse: 0.1552 - val_loss: 0.4975 - val_mse: 0.4975\n",
      "Epoch 37/100\n",
      "19/19 [==============================] - 0s 22ms/step - loss: 0.1618 - mse: 0.1618 - val_loss: 0.5242 - val_mse: 0.5242\n",
      "Epoch 38/100\n",
      "19/19 [==============================] - 0s 24ms/step - loss: 0.1384 - mse: 0.1384 - val_loss: 0.4888 - val_mse: 0.4888\n",
      "Epoch 39/100\n",
      "19/19 [==============================] - 0s 25ms/step - loss: 0.1353 - mse: 0.1353 - val_loss: 0.5347 - val_mse: 0.5347\n",
      "Epoch 40/100\n",
      "19/19 [==============================] - 0s 25ms/step - loss: 0.1366 - mse: 0.1366 - val_loss: 0.4605 - val_mse: 0.4605\n",
      "Epoch 41/100\n",
      "19/19 [==============================] - 0s 25ms/step - loss: 0.1419 - mse: 0.1419 - val_loss: 0.4839 - val_mse: 0.4839\n",
      "Epoch 42/100\n",
      "19/19 [==============================] - 0s 26ms/step - loss: 0.1331 - mse: 0.1331 - val_loss: 0.4677 - val_mse: 0.4677\n",
      "Epoch 43/100\n",
      "19/19 [==============================] - 0s 25ms/step - loss: 0.1204 - mse: 0.1204 - val_loss: 0.4995 - val_mse: 0.4995\n",
      "Epoch 44/100\n",
      "19/19 [==============================] - 0s 25ms/step - loss: 0.1315 - mse: 0.1315 - val_loss: 0.4685 - val_mse: 0.4685\n",
      "Epoch 45/100\n",
      "19/19 [==============================] - 0s 25ms/step - loss: 0.1221 - mse: 0.1221 - val_loss: 0.4942 - val_mse: 0.4942\n",
      "Epoch 46/100\n",
      "19/19 [==============================] - 0s 23ms/step - loss: 0.1036 - mse: 0.1036 - val_loss: 0.5282 - val_mse: 0.5282\n",
      "Epoch 47/100\n",
      "19/19 [==============================] - 0s 22ms/step - loss: 0.1034 - mse: 0.1034 - val_loss: 0.4706 - val_mse: 0.4706\n",
      "Epoch 48/100\n",
      "19/19 [==============================] - 0s 21ms/step - loss: 0.1142 - mse: 0.1142 - val_loss: 0.4655 - val_mse: 0.4655\n",
      "Epoch 49/100\n",
      "19/19 [==============================] - 0s 22ms/step - loss: 0.1196 - mse: 0.1196 - val_loss: 0.4380 - val_mse: 0.4380\n",
      "Epoch 50/100\n",
      "19/19 [==============================] - 1s 31ms/step - loss: 0.1056 - mse: 0.1056 - val_loss: 0.4588 - val_mse: 0.4588\n",
      "Epoch 51/100\n",
      "19/19 [==============================] - 1s 27ms/step - loss: 0.1115 - mse: 0.1115 - val_loss: 0.4897 - val_mse: 0.4897\n",
      "Epoch 52/100\n",
      "19/19 [==============================] - 1s 28ms/step - loss: 0.0915 - mse: 0.0915 - val_loss: 0.5925 - val_mse: 0.5925\n",
      "Epoch 53/100\n",
      "19/19 [==============================] - 0s 26ms/step - loss: 0.0938 - mse: 0.0938 - val_loss: 0.4490 - val_mse: 0.4490\n",
      "Epoch 54/100\n",
      "19/19 [==============================] - 0s 23ms/step - loss: 0.0972 - mse: 0.0972 - val_loss: 0.4444 - val_mse: 0.4444\n",
      "Epoch 55/100\n",
      "19/19 [==============================] - 0s 22ms/step - loss: 0.0975 - mse: 0.0975 - val_loss: 0.4930 - val_mse: 0.4930\n",
      "Epoch 56/100\n",
      "19/19 [==============================] - 0s 22ms/step - loss: 0.0857 - mse: 0.0857 - val_loss: 0.4439 - val_mse: 0.4439\n",
      "Epoch 57/100\n",
      "19/19 [==============================] - 0s 22ms/step - loss: 0.0842 - mse: 0.0842 - val_loss: 0.4415 - val_mse: 0.4415\n",
      "Epoch 58/100\n",
      "19/19 [==============================] - 0s 22ms/step - loss: 0.0964 - mse: 0.0964 - val_loss: 0.4917 - val_mse: 0.4917\n",
      "Epoch 59/100\n",
      "19/19 [==============================] - 0s 22ms/step - loss: 0.0817 - mse: 0.0817 - val_loss: 0.4488 - val_mse: 0.4488\n",
      "Epoch 60/100\n",
      "19/19 [==============================] - 0s 23ms/step - loss: 0.0881 - mse: 0.0881 - val_loss: 0.4858 - val_mse: 0.4858\n",
      "Epoch 61/100\n",
      "19/19 [==============================] - 0s 22ms/step - loss: 0.0777 - mse: 0.0777 - val_loss: 0.4345 - val_mse: 0.4345\n",
      "Epoch 62/100\n",
      "19/19 [==============================] - 0s 22ms/step - loss: 0.0732 - mse: 0.0732 - val_loss: 0.4444 - val_mse: 0.4444\n",
      "Epoch 63/100\n",
      "19/19 [==============================] - 0s 23ms/step - loss: 0.0689 - mse: 0.0689 - val_loss: 0.4289 - val_mse: 0.4289\n",
      "Epoch 64/100\n",
      "19/19 [==============================] - 0s 23ms/step - loss: 0.0725 - mse: 0.0725 - val_loss: 0.4927 - val_mse: 0.4927\n",
      "Epoch 65/100\n",
      "19/19 [==============================] - 0s 22ms/step - loss: 0.0685 - mse: 0.0685 - val_loss: 0.5445 - val_mse: 0.5445\n",
      "Epoch 66/100\n",
      "19/19 [==============================] - 0s 22ms/step - loss: 0.0747 - mse: 0.0747 - val_loss: 0.4234 - val_mse: 0.4234\n",
      "Epoch 67/100\n",
      "19/19 [==============================] - 0s 22ms/step - loss: 0.0677 - mse: 0.0677 - val_loss: 0.4358 - val_mse: 0.4358\n",
      "Epoch 68/100\n",
      "19/19 [==============================] - 0s 23ms/step - loss: 0.0734 - mse: 0.0734 - val_loss: 0.4664 - val_mse: 0.4664\n",
      "Epoch 69/100\n",
      "19/19 [==============================] - 0s 23ms/step - loss: 0.0751 - mse: 0.0751 - val_loss: 0.4552 - val_mse: 0.4552\n",
      "Epoch 70/100\n",
      "19/19 [==============================] - 0s 22ms/step - loss: 0.0666 - mse: 0.0666 - val_loss: 0.4370 - val_mse: 0.4370\n",
      "Epoch 71/100\n",
      "19/19 [==============================] - 0s 23ms/step - loss: 0.0708 - mse: 0.0708 - val_loss: 0.4533 - val_mse: 0.4533\n",
      "Epoch 72/100\n",
      "19/19 [==============================] - 0s 22ms/step - loss: 0.0638 - mse: 0.0638 - val_loss: 0.4385 - val_mse: 0.4385\n",
      "Epoch 73/100\n",
      "19/19 [==============================] - 0s 22ms/step - loss: 0.0689 - mse: 0.0689 - val_loss: 0.4564 - val_mse: 0.4564\n",
      "Epoch 74/100\n",
      "19/19 [==============================] - 0s 22ms/step - loss: 0.0643 - mse: 0.0643 - val_loss: 0.4403 - val_mse: 0.4403\n",
      "Epoch 75/100\n",
      "19/19 [==============================] - 0s 23ms/step - loss: 0.0602 - mse: 0.0602 - val_loss: 0.4415 - val_mse: 0.4415\n",
      "Epoch 76/100\n",
      "19/19 [==============================] - 0s 22ms/step - loss: 0.0668 - mse: 0.0668 - val_loss: 0.4356 - val_mse: 0.4356\n",
      "Epoch 77/100\n",
      "19/19 [==============================] - 0s 23ms/step - loss: 0.0642 - mse: 0.0642 - val_loss: 0.4243 - val_mse: 0.4243\n",
      "Epoch 78/100\n",
      "19/19 [==============================] - 1s 28ms/step - loss: 0.0680 - mse: 0.0680 - val_loss: 0.4554 - val_mse: 0.4554\n",
      "Epoch 79/100\n",
      "19/19 [==============================] - 0s 23ms/step - loss: 0.0577 - mse: 0.0577 - val_loss: 0.4360 - val_mse: 0.4360\n",
      "Epoch 80/100\n",
      "19/19 [==============================] - 0s 23ms/step - loss: 0.0685 - mse: 0.0685 - val_loss: 0.4805 - val_mse: 0.4805\n",
      "Epoch 81/100\n",
      "19/19 [==============================] - 0s 23ms/step - loss: 0.0554 - mse: 0.0554 - val_loss: 0.4310 - val_mse: 0.4310\n",
      "Epoch 82/100\n",
      "19/19 [==============================] - 0s 23ms/step - loss: 0.0568 - mse: 0.0568 - val_loss: 0.4839 - val_mse: 0.4839\n",
      "Epoch 83/100\n",
      "19/19 [==============================] - 0s 23ms/step - loss: 0.0616 - mse: 0.0616 - val_loss: 0.4417 - val_mse: 0.4417\n",
      "Epoch 84/100\n",
      "19/19 [==============================] - 0s 22ms/step - loss: 0.0560 - mse: 0.0560 - val_loss: 0.4309 - val_mse: 0.4309\n",
      "Epoch 85/100\n",
      "19/19 [==============================] - 0s 22ms/step - loss: 0.0561 - mse: 0.0561 - val_loss: 0.4303 - val_mse: 0.4303\n",
      "Epoch 86/100\n",
      "19/19 [==============================] - 0s 23ms/step - loss: 0.0569 - mse: 0.0569 - val_loss: 0.4177 - val_mse: 0.4177\n",
      "Epoch 87/100\n",
      "19/19 [==============================] - 0s 23ms/step - loss: 0.0531 - mse: 0.0531 - val_loss: 0.5364 - val_mse: 0.5364\n",
      "Epoch 88/100\n",
      "19/19 [==============================] - 0s 22ms/step - loss: 0.0560 - mse: 0.0560 - val_loss: 0.4390 - val_mse: 0.4390\n",
      "Epoch 89/100\n",
      "19/19 [==============================] - 0s 23ms/step - loss: 0.0474 - mse: 0.0474 - val_loss: 0.4411 - val_mse: 0.4411\n",
      "Epoch 90/100\n",
      "19/19 [==============================] - 0s 23ms/step - loss: 0.0468 - mse: 0.0468 - val_loss: 0.4355 - val_mse: 0.4355\n",
      "Epoch 91/100\n",
      "19/19 [==============================] - 0s 23ms/step - loss: 0.0559 - mse: 0.0559 - val_loss: 0.4220 - val_mse: 0.4220\n",
      "Epoch 92/100\n",
      "19/19 [==============================] - 0s 23ms/step - loss: 0.0478 - mse: 0.0478 - val_loss: 0.4267 - val_mse: 0.4267\n",
      "Epoch 93/100\n",
      "19/19 [==============================] - 0s 22ms/step - loss: 0.0590 - mse: 0.0590 - val_loss: 0.4315 - val_mse: 0.4315\n",
      "Epoch 94/100\n",
      "19/19 [==============================] - 0s 22ms/step - loss: 0.0480 - mse: 0.0480 - val_loss: 0.4233 - val_mse: 0.4233\n",
      "Epoch 95/100\n",
      "19/19 [==============================] - 0s 22ms/step - loss: 0.0537 - mse: 0.0537 - val_loss: 0.4565 - val_mse: 0.4565\n",
      "Epoch 96/100\n",
      "19/19 [==============================] - 0s 22ms/step - loss: 0.0458 - mse: 0.0458 - val_loss: 0.4332 - val_mse: 0.4332\n",
      "Epoch 97/100\n",
      "19/19 [==============================] - 0s 22ms/step - loss: 0.0481 - mse: 0.0481 - val_loss: 0.4294 - val_mse: 0.4294\n",
      "Epoch 98/100\n",
      "19/19 [==============================] - 0s 23ms/step - loss: 0.0429 - mse: 0.0429 - val_loss: 0.4118 - val_mse: 0.4118\n",
      "Epoch 99/100\n",
      "19/19 [==============================] - 0s 22ms/step - loss: 0.0481 - mse: 0.0481 - val_loss: 0.4148 - val_mse: 0.4148\n",
      "Epoch 100/100\n",
      "19/19 [==============================] - 0s 22ms/step - loss: 0.0507 - mse: 0.0507 - val_loss: 0.4431 - val_mse: 0.4431\n",
      "Epoch 1/100\n",
      "19/19 [==============================] - 2s 35ms/step - loss: 2.9540 - mse: 2.9540 - val_loss: 0.8594 - val_mse: 0.8594\n",
      "Epoch 2/100\n",
      "19/19 [==============================] - 0s 23ms/step - loss: 1.5758 - mse: 1.5758 - val_loss: 0.7376 - val_mse: 0.7376\n",
      "Epoch 3/100\n",
      "19/19 [==============================] - 0s 23ms/step - loss: 1.3140 - mse: 1.3140 - val_loss: 0.8217 - val_mse: 0.8217\n",
      "Epoch 4/100\n",
      "19/19 [==============================] - 0s 23ms/step - loss: 1.0439 - mse: 1.0439 - val_loss: 0.9324 - val_mse: 0.9324\n",
      "Epoch 5/100\n",
      "19/19 [==============================] - 0s 23ms/step - loss: 0.9000 - mse: 0.9000 - val_loss: 0.7033 - val_mse: 0.7033\n",
      "Epoch 6/100\n",
      "19/19 [==============================] - 0s 23ms/step - loss: 0.7588 - mse: 0.7588 - val_loss: 0.6996 - val_mse: 0.6996\n",
      "Epoch 7/100\n",
      "19/19 [==============================] - 0s 23ms/step - loss: 0.6738 - mse: 0.6738 - val_loss: 0.6368 - val_mse: 0.6368\n",
      "Epoch 8/100\n",
      "19/19 [==============================] - 0s 23ms/step - loss: 0.6338 - mse: 0.6338 - val_loss: 0.7327 - val_mse: 0.7327\n",
      "Epoch 9/100\n",
      "19/19 [==============================] - 0s 23ms/step - loss: 0.5516 - mse: 0.5516 - val_loss: 0.8328 - val_mse: 0.8328\n",
      "Epoch 10/100\n",
      "19/19 [==============================] - 0s 26ms/step - loss: 0.4982 - mse: 0.4982 - val_loss: 0.9152 - val_mse: 0.9152\n",
      "Epoch 11/100\n",
      "19/19 [==============================] - 0s 26ms/step - loss: 0.4800 - mse: 0.4800 - val_loss: 0.6403 - val_mse: 0.6403\n",
      "Epoch 12/100\n",
      "19/19 [==============================] - 1s 27ms/step - loss: 0.4301 - mse: 0.4301 - val_loss: 0.6401 - val_mse: 0.6401\n",
      "Epoch 13/100\n",
      "19/19 [==============================] - 0s 26ms/step - loss: 0.4252 - mse: 0.4252 - val_loss: 0.9476 - val_mse: 0.9476\n",
      "Epoch 14/100\n",
      "19/19 [==============================] - 0s 25ms/step - loss: 0.4162 - mse: 0.4162 - val_loss: 0.8916 - val_mse: 0.8916\n",
      "Epoch 15/100\n",
      "19/19 [==============================] - 0s 25ms/step - loss: 0.4072 - mse: 0.4072 - val_loss: 0.6092 - val_mse: 0.6092\n",
      "Epoch 16/100\n",
      "19/19 [==============================] - 0s 26ms/step - loss: 0.4008 - mse: 0.4008 - val_loss: 0.5756 - val_mse: 0.5756\n",
      "Epoch 17/100\n",
      "19/19 [==============================] - 0s 25ms/step - loss: 0.3417 - mse: 0.3417 - val_loss: 0.5893 - val_mse: 0.5893\n",
      "Epoch 18/100\n",
      "19/19 [==============================] - 0s 26ms/step - loss: 0.3313 - mse: 0.3313 - val_loss: 0.5006 - val_mse: 0.5006\n",
      "Epoch 19/100\n",
      "19/19 [==============================] - 1s 27ms/step - loss: 0.2854 - mse: 0.2854 - val_loss: 0.7107 - val_mse: 0.7107\n",
      "Epoch 20/100\n",
      "19/19 [==============================] - 1s 29ms/step - loss: 0.3017 - mse: 0.3017 - val_loss: 0.5285 - val_mse: 0.5285\n",
      "Epoch 21/100\n",
      "19/19 [==============================] - 0s 24ms/step - loss: 0.2458 - mse: 0.2458 - val_loss: 0.5089 - val_mse: 0.5089\n",
      "Epoch 22/100\n",
      "19/19 [==============================] - 1s 28ms/step - loss: 0.2608 - mse: 0.2608 - val_loss: 0.5787 - val_mse: 0.5787\n",
      "Epoch 23/100\n",
      "19/19 [==============================] - 0s 24ms/step - loss: 0.2422 - mse: 0.2422 - val_loss: 0.4796 - val_mse: 0.4796\n",
      "Epoch 24/100\n",
      "19/19 [==============================] - 0s 22ms/step - loss: 0.2519 - mse: 0.2519 - val_loss: 0.6753 - val_mse: 0.6753\n",
      "Epoch 25/100\n",
      "19/19 [==============================] - 0s 22ms/step - loss: 0.2245 - mse: 0.2245 - val_loss: 0.4930 - val_mse: 0.4930\n",
      "Epoch 26/100\n",
      "19/19 [==============================] - 0s 22ms/step - loss: 0.2188 - mse: 0.2188 - val_loss: 0.8003 - val_mse: 0.8003\n",
      "Epoch 27/100\n",
      "19/19 [==============================] - 0s 22ms/step - loss: 0.1994 - mse: 0.1994 - val_loss: 0.4975 - val_mse: 0.4975\n",
      "Epoch 28/100\n",
      "19/19 [==============================] - 0s 23ms/step - loss: 0.1954 - mse: 0.1954 - val_loss: 0.4706 - val_mse: 0.4706\n",
      "Epoch 29/100\n",
      "19/19 [==============================] - 0s 23ms/step - loss: 0.1917 - mse: 0.1917 - val_loss: 0.4650 - val_mse: 0.4650\n",
      "Epoch 30/100\n",
      "19/19 [==============================] - 0s 22ms/step - loss: 0.1842 - mse: 0.1842 - val_loss: 0.5091 - val_mse: 0.5091\n",
      "Epoch 31/100\n",
      "19/19 [==============================] - 0s 23ms/step - loss: 0.1761 - mse: 0.1761 - val_loss: 0.6426 - val_mse: 0.6426\n",
      "Epoch 32/100\n",
      "19/19 [==============================] - 0s 23ms/step - loss: 0.1871 - mse: 0.1871 - val_loss: 0.5826 - val_mse: 0.5826\n",
      "Epoch 33/100\n",
      "19/19 [==============================] - 0s 23ms/step - loss: 0.1723 - mse: 0.1723 - val_loss: 0.5045 - val_mse: 0.5045\n",
      "Epoch 34/100\n",
      "19/19 [==============================] - 0s 23ms/step - loss: 0.1703 - mse: 0.1703 - val_loss: 0.4766 - val_mse: 0.4766\n",
      "Epoch 35/100\n",
      "19/19 [==============================] - 0s 23ms/step - loss: 0.1381 - mse: 0.1381 - val_loss: 0.5408 - val_mse: 0.5408\n",
      "Epoch 36/100\n",
      "19/19 [==============================] - 0s 22ms/step - loss: 0.1286 - mse: 0.1286 - val_loss: 0.5011 - val_mse: 0.5011\n",
      "Epoch 37/100\n",
      "19/19 [==============================] - 0s 22ms/step - loss: 0.1384 - mse: 0.1384 - val_loss: 0.4841 - val_mse: 0.4841\n",
      "Epoch 38/100\n",
      "19/19 [==============================] - 0s 23ms/step - loss: 0.1167 - mse: 0.1167 - val_loss: 0.5160 - val_mse: 0.5160\n",
      "Epoch 39/100\n",
      "19/19 [==============================] - 0s 23ms/step - loss: 0.1352 - mse: 0.1352 - val_loss: 0.7997 - val_mse: 0.7997\n",
      "Epoch 40/100\n",
      "19/19 [==============================] - 0s 23ms/step - loss: 0.1378 - mse: 0.1378 - val_loss: 0.4924 - val_mse: 0.4924\n",
      "Epoch 41/100\n",
      "19/19 [==============================] - 0s 22ms/step - loss: 0.1091 - mse: 0.1091 - val_loss: 0.5367 - val_mse: 0.5367\n",
      "Epoch 42/100\n",
      "19/19 [==============================] - 0s 22ms/step - loss: 0.1257 - mse: 0.1257 - val_loss: 0.5672 - val_mse: 0.5672\n",
      "Epoch 43/100\n",
      "19/19 [==============================] - 0s 22ms/step - loss: 0.1039 - mse: 0.1039 - val_loss: 0.4751 - val_mse: 0.4751\n",
      "Epoch 44/100\n",
      "19/19 [==============================] - 0s 23ms/step - loss: 0.0983 - mse: 0.0983 - val_loss: 0.4620 - val_mse: 0.4620\n",
      "Epoch 45/100\n",
      "19/19 [==============================] - 0s 23ms/step - loss: 0.1150 - mse: 0.1150 - val_loss: 0.4679 - val_mse: 0.4679\n",
      "Epoch 46/100\n",
      "19/19 [==============================] - 0s 23ms/step - loss: 0.1115 - mse: 0.1115 - val_loss: 0.4743 - val_mse: 0.4743\n",
      "Epoch 47/100\n",
      "19/19 [==============================] - 0s 25ms/step - loss: 0.1046 - mse: 0.1046 - val_loss: 0.4915 - val_mse: 0.4915\n",
      "Epoch 48/100\n",
      "19/19 [==============================] - 0s 26ms/step - loss: 0.1061 - mse: 0.1061 - val_loss: 0.4984 - val_mse: 0.4984\n",
      "Epoch 49/100\n",
      "19/19 [==============================] - 0s 23ms/step - loss: 0.1015 - mse: 0.1015 - val_loss: 0.6326 - val_mse: 0.6326\n",
      "Epoch 50/100\n",
      "19/19 [==============================] - 0s 22ms/step - loss: 0.1012 - mse: 0.1012 - val_loss: 0.6599 - val_mse: 0.6599\n",
      "Epoch 51/100\n",
      "19/19 [==============================] - 0s 22ms/step - loss: 0.1039 - mse: 0.1039 - val_loss: 0.5631 - val_mse: 0.5631\n",
      "Epoch 52/100\n",
      "19/19 [==============================] - 0s 22ms/step - loss: 0.1010 - mse: 0.1010 - val_loss: 0.4961 - val_mse: 0.4961\n",
      "Epoch 53/100\n",
      "19/19 [==============================] - 0s 23ms/step - loss: 0.0931 - mse: 0.0931 - val_loss: 0.4648 - val_mse: 0.4648\n",
      "Epoch 54/100\n",
      "19/19 [==============================] - 0s 24ms/step - loss: 0.0808 - mse: 0.0808 - val_loss: 0.4718 - val_mse: 0.4718\n",
      "Epoch 55/100\n",
      "19/19 [==============================] - 0s 23ms/step - loss: 0.0845 - mse: 0.0845 - val_loss: 0.5044 - val_mse: 0.5044\n",
      "Epoch 56/100\n",
      "19/19 [==============================] - 0s 23ms/step - loss: 0.0988 - mse: 0.0988 - val_loss: 0.4514 - val_mse: 0.4514\n",
      "Epoch 57/100\n",
      "19/19 [==============================] - 0s 22ms/step - loss: 0.0822 - mse: 0.0822 - val_loss: 0.4582 - val_mse: 0.4582\n",
      "Epoch 58/100\n",
      "19/19 [==============================] - 0s 23ms/step - loss: 0.0805 - mse: 0.0805 - val_loss: 0.5232 - val_mse: 0.5232\n",
      "Epoch 59/100\n",
      "19/19 [==============================] - 0s 23ms/step - loss: 0.0795 - mse: 0.0795 - val_loss: 0.4836 - val_mse: 0.4836\n",
      "Epoch 60/100\n",
      "19/19 [==============================] - 0s 23ms/step - loss: 0.0835 - mse: 0.0835 - val_loss: 0.4591 - val_mse: 0.4591\n",
      "Epoch 61/100\n",
      "19/19 [==============================] - 0s 22ms/step - loss: 0.0731 - mse: 0.0731 - val_loss: 0.5331 - val_mse: 0.5331\n",
      "Epoch 62/100\n",
      "19/19 [==============================] - 0s 23ms/step - loss: 0.0825 - mse: 0.0825 - val_loss: 0.4657 - val_mse: 0.4657\n",
      "Epoch 63/100\n",
      "19/19 [==============================] - 0s 23ms/step - loss: 0.0754 - mse: 0.0754 - val_loss: 0.4554 - val_mse: 0.4554\n",
      "Epoch 64/100\n",
      "19/19 [==============================] - 0s 23ms/step - loss: 0.0646 - mse: 0.0646 - val_loss: 0.4656 - val_mse: 0.4656\n",
      "Epoch 65/100\n",
      "19/19 [==============================] - 0s 22ms/step - loss: 0.0900 - mse: 0.0900 - val_loss: 0.5390 - val_mse: 0.5390\n",
      "Epoch 66/100\n",
      "19/19 [==============================] - 0s 22ms/step - loss: 0.0761 - mse: 0.0761 - val_loss: 0.4604 - val_mse: 0.4604\n",
      "Epoch 67/100\n",
      "19/19 [==============================] - 0s 23ms/step - loss: 0.0698 - mse: 0.0698 - val_loss: 0.4786 - val_mse: 0.4786\n",
      "Epoch 68/100\n",
      "19/19 [==============================] - 0s 22ms/step - loss: 0.0675 - mse: 0.0675 - val_loss: 0.5227 - val_mse: 0.5227\n",
      "Epoch 69/100\n",
      "19/19 [==============================] - 0s 22ms/step - loss: 0.0702 - mse: 0.0702 - val_loss: 0.7765 - val_mse: 0.7765\n",
      "Epoch 70/100\n",
      "19/19 [==============================] - 0s 22ms/step - loss: 0.0729 - mse: 0.0729 - val_loss: 0.5160 - val_mse: 0.5160\n",
      "Epoch 71/100\n",
      "19/19 [==============================] - 0s 22ms/step - loss: 0.0657 - mse: 0.0657 - val_loss: 0.4810 - val_mse: 0.4810\n",
      "Epoch 72/100\n",
      "19/19 [==============================] - 0s 23ms/step - loss: 0.0581 - mse: 0.0581 - val_loss: 0.4627 - val_mse: 0.4627\n",
      "Epoch 73/100\n",
      "19/19 [==============================] - 1s 28ms/step - loss: 0.0587 - mse: 0.0587 - val_loss: 0.5261 - val_mse: 0.5261\n",
      "Epoch 74/100\n",
      "19/19 [==============================] - 0s 24ms/step - loss: 0.0578 - mse: 0.0578 - val_loss: 0.4606 - val_mse: 0.4606\n",
      "Epoch 75/100\n",
      "19/19 [==============================] - 0s 23ms/step - loss: 0.0675 - mse: 0.0675 - val_loss: 0.4731 - val_mse: 0.4731\n",
      "Epoch 76/100\n",
      "19/19 [==============================] - 0s 22ms/step - loss: 0.0553 - mse: 0.0553 - val_loss: 0.4513 - val_mse: 0.4513\n",
      "Epoch 77/100\n",
      "19/19 [==============================] - 0s 23ms/step - loss: 0.0621 - mse: 0.0621 - val_loss: 0.4438 - val_mse: 0.4438\n",
      "Epoch 78/100\n",
      "19/19 [==============================] - 0s 22ms/step - loss: 0.0567 - mse: 0.0567 - val_loss: 0.4555 - val_mse: 0.4555\n",
      "Epoch 79/100\n",
      "19/19 [==============================] - 0s 22ms/step - loss: 0.0563 - mse: 0.0563 - val_loss: 0.4607 - val_mse: 0.4607\n",
      "Epoch 80/100\n",
      "19/19 [==============================] - 0s 22ms/step - loss: 0.0649 - mse: 0.0649 - val_loss: 0.5458 - val_mse: 0.5458\n",
      "Epoch 81/100\n",
      "19/19 [==============================] - 0s 22ms/step - loss: 0.0577 - mse: 0.0577 - val_loss: 0.4938 - val_mse: 0.4938\n",
      "Epoch 82/100\n",
      "19/19 [==============================] - 0s 22ms/step - loss: 0.0554 - mse: 0.0554 - val_loss: 0.4560 - val_mse: 0.4560\n",
      "Epoch 83/100\n",
      "19/19 [==============================] - 0s 22ms/step - loss: 0.0609 - mse: 0.0609 - val_loss: 0.4850 - val_mse: 0.4850\n",
      "Epoch 84/100\n",
      "19/19 [==============================] - 0s 22ms/step - loss: 0.0591 - mse: 0.0591 - val_loss: 0.4473 - val_mse: 0.4473\n",
      "Epoch 85/100\n",
      "19/19 [==============================] - 0s 22ms/step - loss: 0.0514 - mse: 0.0514 - val_loss: 0.4580 - val_mse: 0.4580\n",
      "Epoch 86/100\n",
      "19/19 [==============================] - 0s 22ms/step - loss: 0.0575 - mse: 0.0575 - val_loss: 0.4628 - val_mse: 0.4628\n",
      "Epoch 87/100\n",
      "19/19 [==============================] - 0s 25ms/step - loss: 0.0667 - mse: 0.0667 - val_loss: 0.4706 - val_mse: 0.4706\n",
      "Epoch 88/100\n",
      "19/19 [==============================] - 0s 26ms/step - loss: 0.0556 - mse: 0.0556 - val_loss: 0.4560 - val_mse: 0.4560\n",
      "Epoch 89/100\n",
      "19/19 [==============================] - 0s 25ms/step - loss: 0.0500 - mse: 0.0500 - val_loss: 0.4999 - val_mse: 0.4999\n",
      "Epoch 90/100\n",
      "19/19 [==============================] - 0s 25ms/step - loss: 0.0561 - mse: 0.0561 - val_loss: 0.4483 - val_mse: 0.4483\n",
      "Epoch 91/100\n",
      "19/19 [==============================] - 0s 26ms/step - loss: 0.0655 - mse: 0.0655 - val_loss: 0.4682 - val_mse: 0.4682\n",
      "Epoch 92/100\n",
      "19/19 [==============================] - 1s 37ms/step - loss: 0.0555 - mse: 0.0555 - val_loss: 0.4563 - val_mse: 0.4563\n",
      "Epoch 93/100\n",
      "19/19 [==============================] - 1s 36ms/step - loss: 0.0481 - mse: 0.0481 - val_loss: 0.4442 - val_mse: 0.4442\n",
      "Epoch 94/100\n",
      "19/19 [==============================] - 1s 27ms/step - loss: 0.0511 - mse: 0.0511 - val_loss: 0.4765 - val_mse: 0.4765\n",
      "Epoch 95/100\n",
      "19/19 [==============================] - 0s 25ms/step - loss: 0.0498 - mse: 0.0498 - val_loss: 0.9008 - val_mse: 0.9008\n",
      "Epoch 96/100\n",
      "19/19 [==============================] - 1s 33ms/step - loss: 0.0752 - mse: 0.0752 - val_loss: 0.4563 - val_mse: 0.4563\n",
      "Epoch 97/100\n",
      "19/19 [==============================] - 0s 24ms/step - loss: 0.0473 - mse: 0.0473 - val_loss: 0.4831 - val_mse: 0.4831\n",
      "Epoch 98/100\n",
      "19/19 [==============================] - 0s 23ms/step - loss: 0.0543 - mse: 0.0543 - val_loss: 0.4791 - val_mse: 0.4791\n",
      "Epoch 99/100\n",
      "19/19 [==============================] - 0s 23ms/step - loss: 0.0534 - mse: 0.0534 - val_loss: 0.4724 - val_mse: 0.4724\n",
      "Epoch 100/100\n",
      "19/19 [==============================] - 0s 23ms/step - loss: 0.0563 - mse: 0.0563 - val_loss: 0.5374 - val_mse: 0.5374\n"
     ]
    },
    {
     "data": {
      "image/png": "[encoded data removed]",
      "text/plain": [
       "<Figure size 2520x720 with 5 Axes>"
      ]
     },
     "metadata": {
      "needs_background": "light"
     },
     "output_type": "display_data"
    }
   ],
   "source": [
    "cnn_models = []\n",
    "fig,ax = plt.subplots(1,5,figsize=(35,10))\n",
    "for i ,(tr_index,val_index) in enumerate(st.split(data_tr,data_tr[\"target_bins\"])) :\n",
    "    x_tr,x_val = data_tr.reset_index(drop=True).loc[tr_index,\"cleaned_excerpt\"].values,data_tr.reset_index(drop=True).loc[val_index,\"cleaned_excerpt\"].values\n",
    "    y_tr,y_val = data_tr.reset_index(drop=True).loc[tr_index,\"target\"].values,data_tr.reset_index(drop=True).loc[val_index,\"target\"].values\n",
    "    \n",
    "    x_tr = preprocessing_data(x_tr,lstm_tokenizer,input_length)\n",
    "    x_val =preprocessing_data(x_val,lstm_tokenizer,input_length)\n",
    "    md = build_cnn_model()\n",
    "    cnn_hist = md.fit(x_tr,y_tr,validation_data=(x_val,y_val),epochs=100,batch_size=100,\\\n",
    "                     callbacks=[check_point])\n",
    "    md.load_weights(checkpoint_cnn)\n",
    "    cnn_models.append(md)\n",
    "    ax[i].plot(np.arange(1,101),cnn_hist.history[\"loss\"],label=\"loss\")\n",
    "    ax[i].plot(np.arange(1,101),cnn_hist.history[\"val_loss\"],label=\"val_loss\")\n",
    "    ax[i].legend()\n",
    "    ax[i].set_xlabel(\"epochs\",size=12)\n",
    "    ax[i].set_ylabel(\"loss\",size=12)\n",
    "    ax[i].set_title(\"Monitoring loss over epochs for train and validation datas.\",size=15)\n",
    "plt.show()"
   ]
  },
  {
   "cell_type": "code",
   "execution_count": 37,
   "id": "retired-footwear",
   "metadata": {
    "execution": {
     "iopub.execute_input": "2021-06-16T22:30:46.697732Z",
     "iopub.status.busy": "2021-06-16T22:30:46.697073Z",
     "iopub.status.idle": "2021-06-16T22:30:47.796126Z",
     "shell.execute_reply": "2021-06-16T22:30:47.796690Z",
     "shell.execute_reply.started": "2021-06-16T21:25:32.870480Z"
    },
    "papermill": {
     "duration": 3.229277,
     "end_time": "2021-06-16T22:30:47.796890",
     "exception": false,
     "start_time": "2021-06-16T22:30:44.567613",
     "status": "completed"
    },
    "tags": []
   },
   "outputs": [
    {
     "name": "stdout",
     "output_type": "stream",
     "text": [
      "The RMSE error for CNN model = 0.6758452364026268\n"
     ]
    }
   ],
   "source": [
    "# Evaluate cnn models in test datas \n",
    "Y_cnn = np.mean(np.concatenate([cnn_model.predict(xts_seq) for cnn_model in cnn_models],axis=1),axis=1)\n",
    "Cnn_MSE = mean_squared_error(yts,Y_cnn)\n",
    "print(f\"The RMSE error for CNN model = {math.sqrt(Cnn_MSE)}\")"
   ]
  },
  {
   "cell_type": "code",
   "execution_count": 38,
   "id": "accessible-scheme",
   "metadata": {
    "execution": {
     "iopub.execute_input": "2021-06-16T22:30:52.351379Z",
     "iopub.status.busy": "2021-06-16T22:30:52.350552Z",
     "iopub.status.idle": "2021-06-16T22:30:52.551017Z",
     "shell.execute_reply": "2021-06-16T22:30:52.550541Z",
     "shell.execute_reply.started": "2021-06-16T22:11:59.181256Z"
    },
    "papermill": {
     "duration": 2.583076,
     "end_time": "2021-06-16T22:30:52.551157",
     "exception": false,
     "start_time": "2021-06-16T22:30:49.968081",
     "status": "completed"
    },
    "tags": []
   },
   "outputs": [],
   "source": [
    "# Prepare CNN submission.\n",
    "cnn_prediction = np.mean(np.concatenate([cnn_model.predict(X) for cnn_model in cnn_models],axis=1),axis=1)\n",
    "cnn_submission = submission\n",
    "cnn_submission[\"target\"] = cnn_prediction\n",
    "#cnn_submission.to_csv(\"submission.csv\",index=False)"
   ]
  },
  {
   "cell_type": "markdown",
   "id": "universal-nursery",
   "metadata": {
    "papermill": {
     "duration": 2.186274,
     "end_time": "2021-06-16T22:30:56.902927",
     "exception": false,
     "start_time": "2021-06-16T22:30:54.716653",
     "status": "completed"
    },
    "tags": []
   },
   "source": [
    "#### <b> Blended CNN and LSTM model  </b>:"
   ]
  },
  {
   "cell_type": "code",
   "execution_count": 39,
   "id": "civic-shade",
   "metadata": {
    "execution": {
     "iopub.execute_input": "2021-06-16T22:31:01.259993Z",
     "iopub.status.busy": "2021-06-16T22:31:01.258358Z",
     "iopub.status.idle": "2021-06-16T22:31:01.260689Z",
     "shell.execute_reply": "2021-06-16T22:31:01.261090Z",
     "shell.execute_reply.started": "2021-06-16T22:12:02.636325Z"
    },
    "papermill": {
     "duration": 2.204029,
     "end_time": "2021-06-16T22:31:01.261238",
     "exception": false,
     "start_time": "2021-06-16T22:30:59.057209",
     "status": "completed"
    },
    "tags": []
   },
   "outputs": [],
   "source": [
    "coeff = []\n",
    "for i in range(1,11):\n",
    "    coeff.append(i * 0.1)"
   ]
  },
  {
   "cell_type": "code",
   "execution_count": 40,
   "id": "cardiac-property",
   "metadata": {
    "execution": {
     "iopub.execute_input": "2021-06-16T22:31:05.774592Z",
     "iopub.status.busy": "2021-06-16T22:31:05.773749Z",
     "iopub.status.idle": "2021-06-16T22:31:30.796776Z",
     "shell.execute_reply": "2021-06-16T22:31:30.795686Z",
     "shell.execute_reply.started": "2021-06-16T22:12:32.322569Z"
    },
    "papermill": {
     "duration": 27.174754,
     "end_time": "2021-06-16T22:31:30.796930",
     "exception": false,
     "start_time": "2021-06-16T22:31:03.622176",
     "status": "completed"
    },
    "tags": []
   },
   "outputs": [],
   "source": [
    "result_blended = []\n",
    "best_coef_cnn = 0\n",
    "best_rest = float(\"inf\")\n",
    "for i in range(10) :\n",
    "    lstm_prediction = np.mean(np.concatenate([np.mean(model.predict(xts_seq),axis=1) for model in lstm_models],axis=1),axis=1)\n",
    "    prediction_cnn = np.mean(np.concatenate([cnn_model.predict(xts_seq) for cnn_model in cnn_models],axis=1),axis=1)\n",
    "    pred = coeff[i] * prediction_cnn + (1-coeff[i]) * lstm_prediction\n",
    "    #res = coeff[i] * cnn_model.evaluate(xts_seq,yts)[0] + (1-coeff[i]) * (mean_squared_error(np.mean(model.predict(xts_seq),axis=1),yts))\n",
    "    res = math.sqrt(mean_squared_error(yts,pred))\n",
    "    result_blended.append(res)\n",
    "    if res < best_rest :\n",
    "        best_coef_cnn = coeff[i]\n",
    "        best_rest = res"
   ]
  },
  {
   "cell_type": "code",
   "execution_count": 41,
   "id": "important-keeping",
   "metadata": {
    "execution": {
     "iopub.execute_input": "2021-06-16T22:31:35.330656Z",
     "iopub.status.busy": "2021-06-16T22:31:35.329772Z",
     "iopub.status.idle": "2021-06-16T22:31:35.417904Z",
     "shell.execute_reply": "2021-06-16T22:31:35.417272Z",
     "shell.execute_reply.started": "2021-06-16T22:13:03.476812Z"
    },
    "papermill": {
     "duration": 2.450704,
     "end_time": "2021-06-16T22:31:35.418037",
     "exception": false,
     "start_time": "2021-06-16T22:31:32.967333",
     "status": "completed"
    },
    "tags": []
   },
   "outputs": [
    {
     "data": {
      "text/plain": [
       "[<matplotlib.lines.Line2D at 0x7f8214cd7110>]"
      ]
     },
     "execution_count": 41,
     "metadata": {},
     "output_type": "execute_result"
    },
    {
     "data": {
      "image/png": "[encoded data removed]",
      "text/plain": [
       "<Figure size 432x288 with 1 Axes>"
      ]
     },
     "metadata": {
      "needs_background": "light"
     },
     "output_type": "display_data"
    }
   ],
   "source": [
    "plt.plot(coeff,result_blended)"
   ]
  },
  {
   "cell_type": "code",
   "execution_count": 42,
   "id": "geographic-catalyst",
   "metadata": {
    "execution": {
     "iopub.execute_input": "2021-06-16T22:31:39.723257Z",
     "iopub.status.busy": "2021-06-16T22:31:39.722706Z",
     "iopub.status.idle": "2021-06-16T22:31:39.728764Z",
     "shell.execute_reply": "2021-06-16T22:31:39.728341Z",
     "shell.execute_reply.started": "2021-06-16T22:13:12.826139Z"
    },
    "papermill": {
     "duration": 2.186589,
     "end_time": "2021-06-16T22:31:39.728881",
     "exception": false,
     "start_time": "2021-06-16T22:31:37.542292",
     "status": "completed"
    },
    "tags": []
   },
   "outputs": [
    {
     "data": {
      "text/plain": [
       "0.4"
      ]
     },
     "execution_count": 42,
     "metadata": {},
     "output_type": "execute_result"
    }
   ],
   "source": [
    "best_coef_cnn # best coefficient to adopt for cnn model "
   ]
  },
  {
   "cell_type": "code",
   "execution_count": 43,
   "id": "becoming-calculation",
   "metadata": {
    "execution": {
     "iopub.execute_input": "2021-06-16T22:31:44.609397Z",
     "iopub.status.busy": "2021-06-16T22:31:44.608645Z",
     "iopub.status.idle": "2021-06-16T22:31:44.611454Z",
     "shell.execute_reply": "2021-06-16T22:31:44.611848Z",
     "shell.execute_reply.started": "2021-06-16T22:13:16.027658Z"
    },
    "papermill": {
     "duration": 2.272906,
     "end_time": "2021-06-16T22:31:44.611982",
     "exception": false,
     "start_time": "2021-06-16T22:31:42.339076",
     "status": "completed"
    },
    "tags": []
   },
   "outputs": [
    {
     "data": {
      "text/plain": [
       "0.6348122074219718"
      ]
     },
     "execution_count": 43,
     "metadata": {},
     "output_type": "execute_result"
    }
   ],
   "source": [
    "best_rest # RMSE OF BLENDED MODEL "
   ]
  },
  {
   "cell_type": "code",
   "execution_count": 44,
   "id": "amber-montreal",
   "metadata": {
    "execution": {
     "iopub.execute_input": "2021-06-16T22:31:49.095715Z",
     "iopub.status.busy": "2021-06-16T22:31:49.094633Z",
     "iopub.status.idle": "2021-06-16T22:31:49.097503Z",
     "shell.execute_reply": "2021-06-16T22:31:49.097054Z",
     "shell.execute_reply.started": "2021-06-16T22:13:23.859629Z"
    },
    "papermill": {
     "duration": 2.12972,
     "end_time": "2021-06-16T22:31:49.097620",
     "exception": false,
     "start_time": "2021-06-16T22:31:46.967900",
     "status": "completed"
    },
    "tags": []
   },
   "outputs": [],
   "source": [
    "blended_pred = 0.6 * cnn_prediction + 0.4 * prediction"
   ]
  },
  {
   "cell_type": "code",
   "execution_count": 45,
   "id": "endangered-radar",
   "metadata": {
    "execution": {
     "iopub.execute_input": "2021-06-16T22:31:53.410486Z",
     "iopub.status.busy": "2021-06-16T22:31:53.409815Z",
     "iopub.status.idle": "2021-06-16T22:31:53.417221Z",
     "shell.execute_reply": "2021-06-16T22:31:53.416579Z",
     "shell.execute_reply.started": "2021-06-16T22:15:52.766957Z"
    },
    "papermill": {
     "duration": 2.14651,
     "end_time": "2021-06-16T22:31:53.417341",
     "exception": false,
     "start_time": "2021-06-16T22:31:51.270831",
     "status": "completed"
    },
    "tags": []
   },
   "outputs": [],
   "source": [
    "blended_submission = submission\n",
    "blended_submission[\"target\"] = cnn_prediction\n",
    "blended_submission.to_csv(\"submission.csv\",index=False)"
   ]
  },
  {
   "cell_type": "markdown",
   "id": "reserved-stranger",
   "metadata": {
    "papermill": {
     "duration": 2.388719,
     "end_time": "2021-06-16T22:31:57.925277",
     "exception": false,
     "start_time": "2021-06-16T22:31:55.536558",
     "status": "completed"
    },
    "tags": []
   },
   "source": [
    "#### <b> Bert model  </b>:"
   ]
  },
  {
   "cell_type": "code",
   "execution_count": 46,
   "id": "aboriginal-tracy",
   "metadata": {
    "execution": {
     "iopub.execute_input": "2021-06-16T22:32:02.178146Z",
     "iopub.status.busy": "2021-06-16T22:32:02.177576Z",
     "iopub.status.idle": "2021-06-16T22:32:02.181585Z",
     "shell.execute_reply": "2021-06-16T22:32:02.181156Z",
     "shell.execute_reply.started": "2021-06-16T21:25:58.439227Z"
    },
    "papermill": {
     "duration": 2.133665,
     "end_time": "2021-06-16T22:32:02.181709",
     "exception": false,
     "start_time": "2021-06-16T22:32:00.048044",
     "status": "completed"
    },
    "tags": []
   },
   "outputs": [],
   "source": [
    "def preprocessing_for_bert(tokenizer,text,max_len):\n",
    "    tokens_ids = []\n",
    "    mask_attention = []\n",
    "    for tx in text :\n",
    "        tok = tokenizer.encode_plus(tx,add_special_tokens=True,padding=\"max_length\",max_length=\\\n",
    "                              max_len,truncation=True)\n",
    "        tokens_ids.append(tok.get(\"input_ids\"))\n",
    "        mask_attention.append(tok.get(\"attention_mask\"))\n",
    "    \n",
    "    inp_ids = torch.tensor(tokens_ids)\n",
    "    mask_attention = torch.tensor(mask_attention)\n",
    "    \n",
    "    return inp_ids,mask_attention"
   ]
  },
  {
   "cell_type": "code",
   "execution_count": 47,
   "id": "crucial-theory",
   "metadata": {
    "execution": {
     "iopub.execute_input": "2021-06-16T22:32:06.548465Z",
     "iopub.status.busy": "2021-06-16T22:32:06.547890Z",
     "iopub.status.idle": "2021-06-16T22:32:06.551916Z",
     "shell.execute_reply": "2021-06-16T22:32:06.551498Z",
     "shell.execute_reply.started": "2021-06-16T21:25:58.449189Z"
    },
    "papermill": {
     "duration": 2.13986,
     "end_time": "2021-06-16T22:32:06.552040",
     "exception": false,
     "start_time": "2021-06-16T22:32:04.412180",
     "status": "completed"
    },
    "tags": []
   },
   "outputs": [],
   "source": [
    "class BertRegressor(nn.Module):\n",
    "    def __init__(self,bert_base,freeze_layer=True):\n",
    "        super(BertRegressor,self).__init__()\n",
    "        self.bert = bert_base\n",
    "        self.dense = nn.Linear(768,120)\n",
    "        self.dropout = nn.Dropout(p=0.3)\n",
    "        self.batch_n = nn.BatchNorm1d(120)\n",
    "        self.freeze = freeze_layer\n",
    "        self.regressor = nn.Linear(120,1)\n",
    "        \n",
    "        if  freeze_layer :\n",
    "            for param in self.bert.parameters():\n",
    "                param.requires_grad = False\n",
    "    def forward(self,input_ids,mask_attention):\n",
    "        hidden_states = self.bert(input_ids,mask_attention)[0][:,0,:]\n",
    "        out = self.dropout(hidden_states)\n",
    "        out = self.dense(out)\n",
    "        out = self.batch_n(out)\n",
    "        out = self.dropout(out)\n",
    "        out = self.regressor(out)\n",
    "        return out "
   ]
  },
  {
   "cell_type": "code",
   "execution_count": 48,
   "id": "elegant-focus",
   "metadata": {
    "execution": {
     "iopub.execute_input": "2021-06-16T22:32:11.088912Z",
     "iopub.status.busy": "2021-06-16T22:32:11.088202Z",
     "iopub.status.idle": "2021-06-16T22:32:11.091953Z",
     "shell.execute_reply": "2021-06-16T22:32:11.091528Z",
     "shell.execute_reply.started": "2021-06-16T21:25:58.461285Z"
    },
    "papermill": {
     "duration": 2.143229,
     "end_time": "2021-06-16T22:32:11.092070",
     "exception": false,
     "start_time": "2021-06-16T22:32:08.948841",
     "status": "completed"
    },
    "tags": []
   },
   "outputs": [],
   "source": [
    "if torch.cuda.is_available():\n",
    "    device = torch.device(\"cuda\")\n",
    "else :\n",
    "    print(\"No GPU available, using CPU instead\")\n",
    "    device = torch.device(\"cpu\")"
   ]
  },
  {
   "cell_type": "code",
   "execution_count": 49,
   "id": "adaptive-rocket",
   "metadata": {
    "execution": {
     "iopub.execute_input": "2021-06-16T22:32:15.830592Z",
     "iopub.status.busy": "2021-06-16T22:32:15.829996Z",
     "iopub.status.idle": "2021-06-16T22:32:22.915807Z",
     "shell.execute_reply": "2021-06-16T22:32:22.915303Z",
     "shell.execute_reply.started": "2021-06-16T21:25:58.475938Z"
    },
    "papermill": {
     "duration": 9.698205,
     "end_time": "2021-06-16T22:32:22.915946",
     "exception": false,
     "start_time": "2021-06-16T22:32:13.217741",
     "status": "completed"
    },
    "tags": []
   },
   "outputs": [],
   "source": [
    "with open(\"../input/bert-model-training/bert_layer\",\"rb\") as f :\n",
    "    bert_base = pickle.load(f)"
   ]
  },
  {
   "cell_type": "code",
   "execution_count": 50,
   "id": "resident-episode",
   "metadata": {
    "execution": {
     "iopub.execute_input": "2021-06-16T22:32:27.274657Z",
     "iopub.status.busy": "2021-06-16T22:32:27.274013Z",
     "iopub.status.idle": "2021-06-16T22:32:33.631186Z",
     "shell.execute_reply": "2021-06-16T22:32:33.630748Z",
     "shell.execute_reply.started": "2021-06-16T21:26:04.727953Z"
    },
    "papermill": {
     "duration": 8.519051,
     "end_time": "2021-06-16T22:32:33.631308",
     "exception": false,
     "start_time": "2021-06-16T22:32:25.112257",
     "status": "completed"
    },
    "tags": []
   },
   "outputs": [
    {
     "data": {
      "text/plain": [
       "BertRegressor(\n",
       "  (bert): BertModel(\n",
       "    (embeddings): BertEmbeddings(\n",
       "      (word_embeddings): Embedding(30522, 768, padding_idx=0)\n",
       "      (position_embeddings): Embedding(512, 768)\n",
       "      (token_type_embeddings): Embedding(2, 768)\n",
       "      (LayerNorm): LayerNorm((768,), eps=1e-12, elementwise_affine=True)\n",
       "      (dropout): Dropout(p=0.1, inplace=False)\n",
       "    )\n",
       "    (encoder): BertEncoder(\n",
       "      (layer): ModuleList(\n",
       "        (0): BertLayer(\n",
       "          (attention): BertAttention(\n",
       "            (self): BertSelfAttention(\n",
       "              (query): Linear(in_features=768, out_features=768, bias=True)\n",
       "              (key): Linear(in_features=768, out_features=768, bias=True)\n",
       "              (value): Linear(in_features=768, out_features=768, bias=True)\n",
       "              (dropout): Dropout(p=0.1, inplace=False)\n",
       "            )\n",
       "            (output): BertSelfOutput(\n",
       "              (dense): Linear(in_features=768, out_features=768, bias=True)\n",
       "              (LayerNorm): LayerNorm((768,), eps=1e-12, elementwise_affine=True)\n",
       "              (dropout): Dropout(p=0.1, inplace=False)\n",
       "            )\n",
       "          )\n",
       "          (intermediate): BertIntermediate(\n",
       "            (dense): Linear(in_features=768, out_features=3072, bias=True)\n",
       "          )\n",
       "          (output): BertOutput(\n",
       "            (dense): Linear(in_features=3072, out_features=768, bias=True)\n",
       "            (LayerNorm): LayerNorm((768,), eps=1e-12, elementwise_affine=True)\n",
       "            (dropout): Dropout(p=0.1, inplace=False)\n",
       "          )\n",
       "        )\n",
       "        (1): BertLayer(\n",
       "          (attention): BertAttention(\n",
       "            (self): BertSelfAttention(\n",
       "              (query): Linear(in_features=768, out_features=768, bias=True)\n",
       "              (key): Linear(in_features=768, out_features=768, bias=True)\n",
       "              (value): Linear(in_features=768, out_features=768, bias=True)\n",
       "              (dropout): Dropout(p=0.1, inplace=False)\n",
       "            )\n",
       "            (output): BertSelfOutput(\n",
       "              (dense): Linear(in_features=768, out_features=768, bias=True)\n",
       "              (LayerNorm): LayerNorm((768,), eps=1e-12, elementwise_affine=True)\n",
       "              (dropout): Dropout(p=0.1, inplace=False)\n",
       "            )\n",
       "          )\n",
       "          (intermediate): BertIntermediate(\n",
       "            (dense): Linear(in_features=768, out_features=3072, bias=True)\n",
       "          )\n",
       "          (output): BertOutput(\n",
       "            (dense): Linear(in_features=3072, out_features=768, bias=True)\n",
       "            (LayerNorm): LayerNorm((768,), eps=1e-12, elementwise_affine=True)\n",
       "            (dropout): Dropout(p=0.1, inplace=False)\n",
       "          )\n",
       "        )\n",
       "        (2): BertLayer(\n",
       "          (attention): BertAttention(\n",
       "            (self): BertSelfAttention(\n",
       "              (query): Linear(in_features=768, out_features=768, bias=True)\n",
       "              (key): Linear(in_features=768, out_features=768, bias=True)\n",
       "              (value): Linear(in_features=768, out_features=768, bias=True)\n",
       "              (dropout): Dropout(p=0.1, inplace=False)\n",
       "            )\n",
       "            (output): BertSelfOutput(\n",
       "              (dense): Linear(in_features=768, out_features=768, bias=True)\n",
       "              (LayerNorm): LayerNorm((768,), eps=1e-12, elementwise_affine=True)\n",
       "              (dropout): Dropout(p=0.1, inplace=False)\n",
       "            )\n",
       "          )\n",
       "          (intermediate): BertIntermediate(\n",
       "            (dense): Linear(in_features=768, out_features=3072, bias=True)\n",
       "          )\n",
       "          (output): BertOutput(\n",
       "            (dense): Linear(in_features=3072, out_features=768, bias=True)\n",
       "            (LayerNorm): LayerNorm((768,), eps=1e-12, elementwise_affine=True)\n",
       "            (dropout): Dropout(p=0.1, inplace=False)\n",
       "          )\n",
       "        )\n",
       "        (3): BertLayer(\n",
       "          (attention): BertAttention(\n",
       "            (self): BertSelfAttention(\n",
       "              (query): Linear(in_features=768, out_features=768, bias=True)\n",
       "              (key): Linear(in_features=768, out_features=768, bias=True)\n",
       "              (value): Linear(in_features=768, out_features=768, bias=True)\n",
       "              (dropout): Dropout(p=0.1, inplace=False)\n",
       "            )\n",
       "            (output): BertSelfOutput(\n",
       "              (dense): Linear(in_features=768, out_features=768, bias=True)\n",
       "              (LayerNorm): LayerNorm((768,), eps=1e-12, elementwise_affine=True)\n",
       "              (dropout): Dropout(p=0.1, inplace=False)\n",
       "            )\n",
       "          )\n",
       "          (intermediate): BertIntermediate(\n",
       "            (dense): Linear(in_features=768, out_features=3072, bias=True)\n",
       "          )\n",
       "          (output): BertOutput(\n",
       "            (dense): Linear(in_features=3072, out_features=768, bias=True)\n",
       "            (LayerNorm): LayerNorm((768,), eps=1e-12, elementwise_affine=True)\n",
       "            (dropout): Dropout(p=0.1, inplace=False)\n",
       "          )\n",
       "        )\n",
       "        (4): BertLayer(\n",
       "          (attention): BertAttention(\n",
       "            (self): BertSelfAttention(\n",
       "              (query): Linear(in_features=768, out_features=768, bias=True)\n",
       "              (key): Linear(in_features=768, out_features=768, bias=True)\n",
       "              (value): Linear(in_features=768, out_features=768, bias=True)\n",
       "              (dropout): Dropout(p=0.1, inplace=False)\n",
       "            )\n",
       "            (output): BertSelfOutput(\n",
       "              (dense): Linear(in_features=768, out_features=768, bias=True)\n",
       "              (LayerNorm): LayerNorm((768,), eps=1e-12, elementwise_affine=True)\n",
       "              (dropout): Dropout(p=0.1, inplace=False)\n",
       "            )\n",
       "          )\n",
       "          (intermediate): BertIntermediate(\n",
       "            (dense): Linear(in_features=768, out_features=3072, bias=True)\n",
       "          )\n",
       "          (output): BertOutput(\n",
       "            (dense): Linear(in_features=3072, out_features=768, bias=True)\n",
       "            (LayerNorm): LayerNorm((768,), eps=1e-12, elementwise_affine=True)\n",
       "            (dropout): Dropout(p=0.1, inplace=False)\n",
       "          )\n",
       "        )\n",
       "        (5): BertLayer(\n",
       "          (attention): BertAttention(\n",
       "            (self): BertSelfAttention(\n",
       "              (query): Linear(in_features=768, out_features=768, bias=True)\n",
       "              (key): Linear(in_features=768, out_features=768, bias=True)\n",
       "              (value): Linear(in_features=768, out_features=768, bias=True)\n",
       "              (dropout): Dropout(p=0.1, inplace=False)\n",
       "            )\n",
       "            (output): BertSelfOutput(\n",
       "              (dense): Linear(in_features=768, out_features=768, bias=True)\n",
       "              (LayerNorm): LayerNorm((768,), eps=1e-12, elementwise_affine=True)\n",
       "              (dropout): Dropout(p=0.1, inplace=False)\n",
       "            )\n",
       "          )\n",
       "          (intermediate): BertIntermediate(\n",
       "            (dense): Linear(in_features=768, out_features=3072, bias=True)\n",
       "          )\n",
       "          (output): BertOutput(\n",
       "            (dense): Linear(in_features=3072, out_features=768, bias=True)\n",
       "            (LayerNorm): LayerNorm((768,), eps=1e-12, elementwise_affine=True)\n",
       "            (dropout): Dropout(p=0.1, inplace=False)\n",
       "          )\n",
       "        )\n",
       "        (6): BertLayer(\n",
       "          (attention): BertAttention(\n",
       "            (self): BertSelfAttention(\n",
       "              (query): Linear(in_features=768, out_features=768, bias=True)\n",
       "              (key): Linear(in_features=768, out_features=768, bias=True)\n",
       "              (value): Linear(in_features=768, out_features=768, bias=True)\n",
       "              (dropout): Dropout(p=0.1, inplace=False)\n",
       "            )\n",
       "            (output): BertSelfOutput(\n",
       "              (dense): Linear(in_features=768, out_features=768, bias=True)\n",
       "              (LayerNorm): LayerNorm((768,), eps=1e-12, elementwise_affine=True)\n",
       "              (dropout): Dropout(p=0.1, inplace=False)\n",
       "            )\n",
       "          )\n",
       "          (intermediate): BertIntermediate(\n",
       "            (dense): Linear(in_features=768, out_features=3072, bias=True)\n",
       "          )\n",
       "          (output): BertOutput(\n",
       "            (dense): Linear(in_features=3072, out_features=768, bias=True)\n",
       "            (LayerNorm): LayerNorm((768,), eps=1e-12, elementwise_affine=True)\n",
       "            (dropout): Dropout(p=0.1, inplace=False)\n",
       "          )\n",
       "        )\n",
       "        (7): BertLayer(\n",
       "          (attention): BertAttention(\n",
       "            (self): BertSelfAttention(\n",
       "              (query): Linear(in_features=768, out_features=768, bias=True)\n",
       "              (key): Linear(in_features=768, out_features=768, bias=True)\n",
       "              (value): Linear(in_features=768, out_features=768, bias=True)\n",
       "              (dropout): Dropout(p=0.1, inplace=False)\n",
       "            )\n",
       "            (output): BertSelfOutput(\n",
       "              (dense): Linear(in_features=768, out_features=768, bias=True)\n",
       "              (LayerNorm): LayerNorm((768,), eps=1e-12, elementwise_affine=True)\n",
       "              (dropout): Dropout(p=0.1, inplace=False)\n",
       "            )\n",
       "          )\n",
       "          (intermediate): BertIntermediate(\n",
       "            (dense): Linear(in_features=768, out_features=3072, bias=True)\n",
       "          )\n",
       "          (output): BertOutput(\n",
       "            (dense): Linear(in_features=3072, out_features=768, bias=True)\n",
       "            (LayerNorm): LayerNorm((768,), eps=1e-12, elementwise_affine=True)\n",
       "            (dropout): Dropout(p=0.1, inplace=False)\n",
       "          )\n",
       "        )\n",
       "        (8): BertLayer(\n",
       "          (attention): BertAttention(\n",
       "            (self): BertSelfAttention(\n",
       "              (query): Linear(in_features=768, out_features=768, bias=True)\n",
       "              (key): Linear(in_features=768, out_features=768, bias=True)\n",
       "              (value): Linear(in_features=768, out_features=768, bias=True)\n",
       "              (dropout): Dropout(p=0.1, inplace=False)\n",
       "            )\n",
       "            (output): BertSelfOutput(\n",
       "              (dense): Linear(in_features=768, out_features=768, bias=True)\n",
       "              (LayerNorm): LayerNorm((768,), eps=1e-12, elementwise_affine=True)\n",
       "              (dropout): Dropout(p=0.1, inplace=False)\n",
       "            )\n",
       "          )\n",
       "          (intermediate): BertIntermediate(\n",
       "            (dense): Linear(in_features=768, out_features=3072, bias=True)\n",
       "          )\n",
       "          (output): BertOutput(\n",
       "            (dense): Linear(in_features=3072, out_features=768, bias=True)\n",
       "            (LayerNorm): LayerNorm((768,), eps=1e-12, elementwise_affine=True)\n",
       "            (dropout): Dropout(p=0.1, inplace=False)\n",
       "          )\n",
       "        )\n",
       "        (9): BertLayer(\n",
       "          (attention): BertAttention(\n",
       "            (self): BertSelfAttention(\n",
       "              (query): Linear(in_features=768, out_features=768, bias=True)\n",
       "              (key): Linear(in_features=768, out_features=768, bias=True)\n",
       "              (value): Linear(in_features=768, out_features=768, bias=True)\n",
       "              (dropout): Dropout(p=0.1, inplace=False)\n",
       "            )\n",
       "            (output): BertSelfOutput(\n",
       "              (dense): Linear(in_features=768, out_features=768, bias=True)\n",
       "              (LayerNorm): LayerNorm((768,), eps=1e-12, elementwise_affine=True)\n",
       "              (dropout): Dropout(p=0.1, inplace=False)\n",
       "            )\n",
       "          )\n",
       "          (intermediate): BertIntermediate(\n",
       "            (dense): Linear(in_features=768, out_features=3072, bias=True)\n",
       "          )\n",
       "          (output): BertOutput(\n",
       "            (dense): Linear(in_features=3072, out_features=768, bias=True)\n",
       "            (LayerNorm): LayerNorm((768,), eps=1e-12, elementwise_affine=True)\n",
       "            (dropout): Dropout(p=0.1, inplace=False)\n",
       "          )\n",
       "        )\n",
       "        (10): BertLayer(\n",
       "          (attention): BertAttention(\n",
       "            (self): BertSelfAttention(\n",
       "              (query): Linear(in_features=768, out_features=768, bias=True)\n",
       "              (key): Linear(in_features=768, out_features=768, bias=True)\n",
       "              (value): Linear(in_features=768, out_features=768, bias=True)\n",
       "              (dropout): Dropout(p=0.1, inplace=False)\n",
       "            )\n",
       "            (output): BertSelfOutput(\n",
       "              (dense): Linear(in_features=768, out_features=768, bias=True)\n",
       "              (LayerNorm): LayerNorm((768,), eps=1e-12, elementwise_affine=True)\n",
       "              (dropout): Dropout(p=0.1, inplace=False)\n",
       "            )\n",
       "          )\n",
       "          (intermediate): BertIntermediate(\n",
       "            (dense): Linear(in_features=768, out_features=3072, bias=True)\n",
       "          )\n",
       "          (output): BertOutput(\n",
       "            (dense): Linear(in_features=3072, out_features=768, bias=True)\n",
       "            (LayerNorm): LayerNorm((768,), eps=1e-12, elementwise_affine=True)\n",
       "            (dropout): Dropout(p=0.1, inplace=False)\n",
       "          )\n",
       "        )\n",
       "        (11): BertLayer(\n",
       "          (attention): BertAttention(\n",
       "            (self): BertSelfAttention(\n",
       "              (query): Linear(in_features=768, out_features=768, bias=True)\n",
       "              (key): Linear(in_features=768, out_features=768, bias=True)\n",
       "              (value): Linear(in_features=768, out_features=768, bias=True)\n",
       "              (dropout): Dropout(p=0.1, inplace=False)\n",
       "            )\n",
       "            (output): BertSelfOutput(\n",
       "              (dense): Linear(in_features=768, out_features=768, bias=True)\n",
       "              (LayerNorm): LayerNorm((768,), eps=1e-12, elementwise_affine=True)\n",
       "              (dropout): Dropout(p=0.1, inplace=False)\n",
       "            )\n",
       "          )\n",
       "          (intermediate): BertIntermediate(\n",
       "            (dense): Linear(in_features=768, out_features=3072, bias=True)\n",
       "          )\n",
       "          (output): BertOutput(\n",
       "            (dense): Linear(in_features=3072, out_features=768, bias=True)\n",
       "            (LayerNorm): LayerNorm((768,), eps=1e-12, elementwise_affine=True)\n",
       "            (dropout): Dropout(p=0.1, inplace=False)\n",
       "          )\n",
       "        )\n",
       "      )\n",
       "    )\n",
       "    (pooler): BertPooler(\n",
       "      (dense): Linear(in_features=768, out_features=768, bias=True)\n",
       "      (activation): Tanh()\n",
       "    )\n",
       "  )\n",
       "  (dense): Linear(in_features=768, out_features=120, bias=True)\n",
       "  (dropout): Dropout(p=0.3, inplace=False)\n",
       "  (batch_n): BatchNorm1d(120, eps=1e-05, momentum=0.1, affine=True, track_running_stats=True)\n",
       "  (regressor): Linear(in_features=120, out_features=1, bias=True)\n",
       ")"
      ]
     },
     "execution_count": 50,
     "metadata": {},
     "output_type": "execute_result"
    }
   ],
   "source": [
    "bregressor = BertRegressor(bert_base)\n",
    "bregressor.load_state_dict(torch.load(\"../input/bert-model-training/bert_model\"),strict = False)\n",
    "bregressor.to(device)"
   ]
  },
  {
   "cell_type": "code",
   "execution_count": 51,
   "id": "beginning-vertical",
   "metadata": {
    "execution": {
     "iopub.execute_input": "2021-06-16T22:32:38.075708Z",
     "iopub.status.busy": "2021-06-16T22:32:38.075121Z",
     "iopub.status.idle": "2021-06-16T22:32:38.118197Z",
     "shell.execute_reply": "2021-06-16T22:32:38.117744Z",
     "shell.execute_reply.started": "2021-06-16T21:26:08.284336Z"
    },
    "papermill": {
     "duration": 2.313996,
     "end_time": "2021-06-16T22:32:38.118325",
     "exception": false,
     "start_time": "2021-06-16T22:32:35.804329",
     "status": "completed"
    },
    "tags": []
   },
   "outputs": [],
   "source": [
    "with open(\"../input/bert-model-training/tokenizer\",\"rb\") as f :\n",
    "    tokenizer = pickle.load(f)"
   ]
  },
  {
   "cell_type": "code",
   "execution_count": 52,
   "id": "configured-steel",
   "metadata": {
    "execution": {
     "iopub.execute_input": "2021-06-16T22:32:42.715101Z",
     "iopub.status.busy": "2021-06-16T22:32:42.710070Z",
     "iopub.status.idle": "2021-06-16T22:32:42.721904Z",
     "shell.execute_reply": "2021-06-16T22:32:42.721494Z",
     "shell.execute_reply.started": "2021-06-16T21:26:08.318614Z"
    },
    "papermill": {
     "duration": 2.484702,
     "end_time": "2021-06-16T22:32:42.722023",
     "exception": false,
     "start_time": "2021-06-16T22:32:40.237321",
     "status": "completed"
    },
    "tags": []
   },
   "outputs": [],
   "source": [
    "batch_size = 8 \n",
    "test_id,test_mask = preprocessing_for_bert(tokenizer,test[\"cleaned_excerpt\"].values,input_length)\n",
    "test_dataset = TensorDataset(test_id,test_mask)\n",
    "test_dataloader = DataLoader(test_dataset,batch_size=batch_size)"
   ]
  },
  {
   "cell_type": "code",
   "execution_count": 53,
   "id": "buried-trance",
   "metadata": {
    "execution": {
     "iopub.execute_input": "2021-06-16T22:32:47.423171Z",
     "iopub.status.busy": "2021-06-16T22:32:47.421723Z",
     "iopub.status.idle": "2021-06-16T22:32:47.558377Z",
     "shell.execute_reply": "2021-06-16T22:32:47.557915Z",
     "shell.execute_reply.started": "2021-06-16T21:26:08.365467Z"
    },
    "papermill": {
     "duration": 2.721624,
     "end_time": "2021-06-16T22:32:47.558529",
     "exception": false,
     "start_time": "2021-06-16T22:32:44.836905",
     "status": "completed"
    },
    "tags": []
   },
   "outputs": [],
   "source": [
    "bert_prediction = []\n",
    "bregressor.eval()\n",
    "for datas in test_dataloader :\n",
    "    inp_id,mask_att = (t.to(device) for t in datas)\n",
    "    with torch.no_grad() :\n",
    "        output = bregressor(inp_id,mask_att)\n",
    "        output = output.cpu().numpy()\n",
    "    bert_prediction.extend([elt[0] for elt in output])"
   ]
  },
  {
   "cell_type": "code",
   "execution_count": 54,
   "id": "optional-candidate",
   "metadata": {
    "execution": {
     "iopub.execute_input": "2021-06-16T22:32:51.950271Z",
     "iopub.status.busy": "2021-06-16T22:32:51.949365Z",
     "iopub.status.idle": "2021-06-16T22:32:51.951688Z",
     "shell.execute_reply": "2021-06-16T22:32:51.951001Z",
     "shell.execute_reply.started": "2021-06-16T21:26:08.522220Z"
    },
    "papermill": {
     "duration": 2.232183,
     "end_time": "2021-06-16T22:32:51.951851",
     "exception": false,
     "start_time": "2021-06-16T22:32:49.719668",
     "status": "completed"
    },
    "tags": []
   },
   "outputs": [],
   "source": [
    "b_submission = submission\n",
    "b_submission[\"target\"] = bert_prediction\n",
    "#b_submission.to_csv(\"submission.csv\",index=False)"
   ]
  },
  {
   "cell_type": "markdown",
   "id": "italic-blind",
   "metadata": {
    "papermill": {
     "duration": 2.154397,
     "end_time": "2021-06-16T22:32:56.343202",
     "exception": false,
     "start_time": "2021-06-16T22:32:54.188805",
     "status": "completed"
    },
    "tags": []
   },
   "source": [
    "#### <b>  Combined Model </b>:"
   ]
  },
  {
   "cell_type": "markdown",
   "id": "american-small",
   "metadata": {
    "execution": {
     "iopub.execute_input": "2021-06-15T17:14:40.830447Z",
     "iopub.status.busy": "2021-06-15T17:14:40.829944Z",
     "iopub.status.idle": "2021-06-15T17:14:41.764889Z",
     "shell.execute_reply": "2021-06-15T17:14:41.763905Z",
     "shell.execute_reply.started": "2021-06-15T17:14:40.830404Z"
    },
    "papermill": {
     "duration": 2.152098,
     "end_time": "2021-06-16T22:33:00.608785",
     "exception": false,
     "start_time": "2021-06-16T22:32:58.456687",
     "status": "completed"
    },
    "tags": []
   },
   "source": [
    "# Build Combined model \n",
    "# This model will try to include all features and structure , which can affect the target.\n",
    "\n",
    "cnn_input = Input(shape=(input_length,))\n",
    "emb = embedding_layer(cnn_input)\n",
    "lstm_input = Bidirectional(LSTM(64,return_sequences=True))(emb)\n",
    "lstm = Bidirectional(LSTM(32,return_sequences=True))(lstm_input)\n",
    "conv_1 = Conv1D(120,2,activation=\"relu\")(lstm)\n",
    "pool_1 = MaxPool1D(2)(conv_1)\n",
    "conv_2 = Conv1D(120,2,activation=\"relu\")(pool_1)\n",
    "pool_2 = MaxPool1D(2)(conv_2)\n",
    "conv_3 = Conv1D(120,2,activation=\"relu\")(pool_2)\n",
    "pool_3 = MaxPool1D(2)(conv_3)\n",
    "fl = Flatten()(pool_3)\n",
    "#lstm_input = Bidirectional(LSTM(64,return_sequences=True))(emb)\n",
    "#lstm = Bidirectional(LSTM(32,))(lstm_input)\n",
    "#meta_features_inp = Input(shape=(2,))\n",
    "#x = tf.keras.layers.concatenate([fl,lstm],axis=1)\n",
    "drop = Dropout(0.2)(fl)\n",
    "batch_n = BatchNormalization()(drop)\n",
    "out = Dense(60)(batch_n)\n",
    "drop = Dropout(0.2)(out)\n",
    "batch_n = BatchNormalization()(drop)\n",
    "out = Dense(30)(batch_n)\n",
    "#meta_features_inp = Input(shape=(2,))\n",
    "drop = Dropout(0.2)(out)\n",
    "batch_n = BatchNormalization()(drop)\n",
    "out = Dense(1)(batch_n)\n",
    "\n",
    "#meta_features_inp = BatchNormalization()(meta_features_inp)\n",
    "#x = tf.keras.layers.concatenate([out,meta_features_inp],axis=1)\n",
    "#drop = Dropout(0.2)(out)\n",
    "#batch_n = BatchNormalization()(drop)\n",
    "#out = Dense(1)(batch_n)\n",
    "comb_model = tf.keras.models.Model(inputs=[cnn_input],outputs=out)\n",
    "comb_model.compile(loss=\"mse\",optimizer = tf.keras.optimizers.Adam(lr=5e-5),\\\n",
    "            metrics=\"mse\")"
   ]
  },
  {
   "cell_type": "markdown",
   "id": "excellent-effort",
   "metadata": {
    "execution": {
     "iopub.execute_input": "2021-06-15T15:50:31.037336Z",
     "iopub.status.busy": "2021-06-15T15:50:31.036991Z",
     "iopub.status.idle": "2021-06-15T15:50:31.052196Z",
     "shell.execute_reply": "2021-06-15T15:50:31.051129Z",
     "shell.execute_reply.started": "2021-06-15T15:50:31.037305Z"
    },
    "papermill": {
     "duration": 2.312332,
     "end_time": "2021-06-16T22:33:05.066730",
     "exception": false,
     "start_time": "2021-06-16T22:33:02.754398",
     "status": "completed"
    },
    "tags": []
   },
   "source": [
    "xtr,xts,ytr,yts = train_test_split(data.loc[:,[\"cleaned_excerpt\",\"mean_words_length\",\\\n",
    "                                         \"characters_count\"]],data[\"target\"].values,test_size=0.2,random_state=42,\\\n",
    "                                   stratify=data[\"target_bins\"].values)"
   ]
  },
  {
   "cell_type": "markdown",
   "id": "driven-sponsorship",
   "metadata": {
    "execution": {
     "iopub.execute_input": "2021-06-15T15:50:39.256861Z",
     "iopub.status.busy": "2021-06-15T15:50:39.256491Z",
     "iopub.status.idle": "2021-06-15T15:50:39.261679Z",
     "shell.execute_reply": "2021-06-15T15:50:39.260784Z",
     "shell.execute_reply.started": "2021-06-15T15:50:39.256833Z"
    },
    "papermill": {
     "duration": 2.180238,
     "end_time": "2021-06-16T22:33:09.405272",
     "exception": false,
     "start_time": "2021-06-16T22:33:07.225034",
     "status": "completed"
    },
    "tags": []
   },
   "source": [
    "def pre_processing_for_combined_model(x,tokenizer,max_len):\n",
    "    x_text = x.iloc[:,0].values\n",
    "    x_tex_seq = tokenizer.texts_to_sequences(x_text)\n",
    "    x_tex_seq = pad_sequences(x_tex_seq,maxlen=max_len,padding=\"post\",truncating=\"post\")\n",
    "    \n",
    "    x_series = x.iloc[:,[1,2]].values\n",
    "    \n",
    "    return x_tex_seq , x_series"
   ]
  },
  {
   "cell_type": "markdown",
   "id": "british-grant",
   "metadata": {
    "execution": {
     "iopub.execute_input": "2021-06-15T15:50:51.664119Z",
     "iopub.status.busy": "2021-06-15T15:50:51.663775Z",
     "iopub.status.idle": "2021-06-15T15:50:52.123415Z",
     "shell.execute_reply": "2021-06-15T15:50:52.122539Z",
     "shell.execute_reply.started": "2021-06-15T15:50:51.664087Z"
    },
    "papermill": {
     "duration": 2.155382,
     "end_time": "2021-06-16T22:33:13.681292",
     "exception": false,
     "start_time": "2021-06-16T22:33:11.525910",
     "status": "completed"
    },
    "tags": []
   },
   "source": [
    "Xtr = pre_processing_for_combined_model(xtr,lstm_tokenizer,input_length)\n",
    "Xts = pre_processing_for_combined_model(xts,lstm_tokenizer,input_length)"
   ]
  },
  {
   "cell_type": "markdown",
   "id": "circular-luxury",
   "metadata": {
    "execution": {
     "iopub.execute_input": "2021-06-15T16:50:21.789653Z",
     "iopub.status.busy": "2021-06-15T16:50:21.789307Z",
     "iopub.status.idle": "2021-06-15T16:50:21.795547Z",
     "shell.execute_reply": "2021-06-15T16:50:21.793083Z",
     "shell.execute_reply.started": "2021-06-15T16:50:21.789621Z"
    },
    "papermill": {
     "duration": 2.120374,
     "end_time": "2021-06-16T22:33:18.233691",
     "exception": false,
     "start_time": "2021-06-16T22:33:16.113317",
     "status": "completed"
    },
    "tags": []
   },
   "source": [
    "best_combined = \"./best_combined.pth\"\n",
    "combined_check_point = ModelCheckpoint(best_combined,monitor=\"val_loss\",mode=\"min\",\\\n",
    "                                       save_weights_only=True,save_best_only=True)"
   ]
  },
  {
   "cell_type": "markdown",
   "id": "occupied-calcium",
   "metadata": {
    "execution": {
     "iopub.execute_input": "2021-06-15T15:51:01.499978Z",
     "iopub.status.busy": "2021-06-15T15:51:01.499626Z",
     "iopub.status.idle": "2021-06-15T15:51:01.520291Z",
     "shell.execute_reply": "2021-06-15T15:51:01.514685Z",
     "shell.execute_reply.started": "2021-06-15T15:51:01.499946Z"
    },
    "papermill": {
     "duration": 2.115561,
     "end_time": "2021-06-16T22:33:22.962585",
     "exception": false,
     "start_time": "2021-06-16T22:33:20.847024",
     "status": "completed"
    },
    "tags": []
   },
   "source": [
    "comb_model.summary()"
   ]
  },
  {
   "cell_type": "markdown",
   "id": "provincial-charity",
   "metadata": {
    "execution": {
     "iopub.execute_input": "2021-06-15T17:14:53.844945Z",
     "iopub.status.busy": "2021-06-15T17:14:53.844634Z",
     "iopub.status.idle": "2021-06-15T17:21:14.040744Z",
     "shell.execute_reply": "2021-06-15T17:21:14.039872Z",
     "shell.execute_reply.started": "2021-06-15T17:14:53.844915Z"
    },
    "papermill": {
     "duration": 2.116224,
     "end_time": "2021-06-16T22:33:27.452086",
     "exception": false,
     "start_time": "2021-06-16T22:33:25.335862",
     "status": "completed"
    },
    "tags": []
   },
   "source": [
    "hist_comb = comb_model.fit(Xtr[0],ytr,validation_data=(Xts[0],yts),epochs=100,batch_size=32,\\\n",
    "                          callbacks=[combined_check_point])"
   ]
  },
  {
   "cell_type": "markdown",
   "id": "aggregate-vampire",
   "metadata": {
    "execution": {
     "iopub.execute_input": "2021-06-15T17:21:44.601826Z",
     "iopub.status.busy": "2021-06-15T17:21:44.601374Z",
     "iopub.status.idle": "2021-06-15T17:21:44.812302Z",
     "shell.execute_reply": "2021-06-15T17:21:44.811522Z",
     "shell.execute_reply.started": "2021-06-15T17:21:44.601783Z"
    },
    "papermill": {
     "duration": 2.172214,
     "end_time": "2021-06-16T22:33:31.739941",
     "exception": false,
     "start_time": "2021-06-16T22:33:29.567727",
     "status": "completed"
    },
    "tags": []
   },
   "source": [
    "plt.plot(np.arange(1,101),hist_comb.history[\"loss\"],label=\"train_loss\")\n",
    "plt.plot(np.arange(1,101),hist_comb.history[\"val_mse\"],label=\"val_loss\")\n",
    "plt.legend(loc=\"best\")\n",
    "plt.xlim([1,100])\n",
    "plt.ylim([0,1])\n",
    "plt.title(\"Loss monitoring over epochs\")"
   ]
  },
  {
   "cell_type": "markdown",
   "id": "marked-nutrition",
   "metadata": {
    "papermill": {
     "duration": 2.355287,
     "end_time": "2021-06-16T22:33:36.210329",
     "exception": false,
     "start_time": "2021-06-16T22:33:33.855042",
     "status": "completed"
    },
    "tags": []
   },
   "source": [
    "## <font color=red> We will come back , upvote and leave your comments to enrich the work."
   ]
  }
 ],
 "metadata": {
  "kernelspec": {
   "display_name": "Python 3",
   "language": "python",
   "name": "python3"
  },
  "language_info": {
   "codemirror_mode": {
    "name": "ipython",
    "version": 3
   },
   "file_extension": ".py",
   "mimetype": "text/x-python",
   "name": "python",
   "nbconvert_exporter": "python",
   "pygments_lexer": "ipython3",
   "version": "3.7.10"
  },
  "papermill": {
   "default_parameters": {},
   "duration": 1039.99891,
   "end_time": "2021-06-16T22:33:42.252916",
   "environment_variables": {},
   "exception": null,
   "input_path": "__notebook__.ipynb",
   "output_path": "__notebook__.ipynb",
   "parameters": {},
   "start_time": "2021-06-16T22:16:22.254006",
   "version": "2.3.3"
  }
 },
 "nbformat": 4,
 "nbformat_minor": 5
}
