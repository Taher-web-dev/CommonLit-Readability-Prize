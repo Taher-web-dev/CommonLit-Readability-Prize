{
 "cells": [
  {
   "cell_type": "code",
   "execution_count": 1,
   "id": "union-cycle",
   "metadata": {
    "execution": {
     "iopub.execute_input": "2021-06-29T14:22:23.216316Z",
     "iopub.status.busy": "2021-06-29T14:22:23.215666Z",
     "iopub.status.idle": "2021-06-29T14:22:26.207871Z",
     "shell.execute_reply": "2021-06-29T14:22:26.206847Z",
     "shell.execute_reply.started": "2021-06-29T12:34:05.287733Z"
    },
    "papermill": {
     "duration": 3.02426,
     "end_time": "2021-06-29T14:22:26.208048",
     "exception": false,
     "start_time": "2021-06-29T14:22:23.183788",
     "status": "completed"
    },
    "tags": []
   },
   "outputs": [],
   "source": [
    "import pandas as pd \n",
    "import numpy as np \n",
    "import torch \n",
    "import torch.nn as nn \n",
    "import random \n",
    "import os \n",
    "import re \n",
    "from transformers import AutoModel , AutoTokenizer, BertTokenizer\n",
    "from torch.utils.data import DataLoader , Dataset\n",
    "import pickle\n",
    "from sklearn.model_selection import StratifiedKFold\n",
    "from sklearn.svm import LinearSVR\n",
    "from sklearn.metrics import mean_squared_error\n",
    "import math\n",
    "import warnings\n",
    "warnings.filterwarnings(\"ignore\")"
   ]
  },
  {
   "cell_type": "code",
   "execution_count": 2,
   "id": "varied-french",
   "metadata": {
    "execution": {
     "iopub.execute_input": "2021-06-29T14:22:26.254351Z",
     "iopub.status.busy": "2021-06-29T14:22:26.253094Z",
     "iopub.status.idle": "2021-06-29T14:22:26.255401Z",
     "shell.execute_reply": "2021-06-29T14:22:26.255850Z",
     "shell.execute_reply.started": "2021-06-29T12:04:44.216566Z"
    },
    "papermill": {
     "duration": 0.027194,
     "end_time": "2021-06-29T14:22:26.255984",
     "exception": false,
     "start_time": "2021-06-29T14:22:26.228790",
     "status": "completed"
    },
    "tags": []
   },
   "outputs": [],
   "source": [
    "def seed_everything(seed):\n",
    "    random.seed(seed)\n",
    "    os.environ['PYTHONASSEED'] = str(seed)\n",
    "    np.random.seed(seed)\n",
    "    torch.manual_seed(seed)\n",
    "    torch.cuda.manual_seed(seed)\n",
    "    torch.backends.cudnn.deterministic = True\n",
    "    torch.backends.cudnn.benchmark = True"
   ]
  },
  {
   "cell_type": "code",
   "execution_count": 3,
   "id": "copyrighted-mathematics",
   "metadata": {
    "execution": {
     "iopub.execute_input": "2021-06-29T14:22:26.298815Z",
     "iopub.status.busy": "2021-06-29T14:22:26.298294Z",
     "iopub.status.idle": "2021-06-29T14:22:26.302015Z",
     "shell.execute_reply": "2021-06-29T14:22:26.301610Z",
     "shell.execute_reply.started": "2021-06-29T12:04:44.226791Z"
    },
    "papermill": {
     "duration": 0.026125,
     "end_time": "2021-06-29T14:22:26.302121",
     "exception": false,
     "start_time": "2021-06-29T14:22:26.275996",
     "status": "completed"
    },
    "tags": []
   },
   "outputs": [],
   "source": [
    "config = {\"seed\":42,\n",
    "          \"batch_size\":16,\n",
    "          \"max_len\" : 256}"
   ]
  },
  {
   "cell_type": "code",
   "execution_count": 4,
   "id": "strong-bench",
   "metadata": {
    "execution": {
     "iopub.execute_input": "2021-06-29T14:22:26.345060Z",
     "iopub.status.busy": "2021-06-29T14:22:26.344568Z",
     "iopub.status.idle": "2021-06-29T14:22:26.350364Z",
     "shell.execute_reply": "2021-06-29T14:22:26.349980Z",
     "shell.execute_reply.started": "2021-06-29T12:04:44.238127Z"
    },
    "papermill": {
     "duration": 0.028588,
     "end_time": "2021-06-29T14:22:26.350466",
     "exception": false,
     "start_time": "2021-06-29T14:22:26.321878",
     "status": "completed"
    },
    "tags": []
   },
   "outputs": [],
   "source": [
    "seed_everything(config[\"seed\"])"
   ]
  },
  {
   "cell_type": "code",
   "execution_count": 5,
   "id": "operating-sunset",
   "metadata": {
    "execution": {
     "iopub.execute_input": "2021-06-29T14:22:26.395616Z",
     "iopub.status.busy": "2021-06-29T14:22:26.395092Z",
     "iopub.status.idle": "2021-06-29T14:22:26.406074Z",
     "shell.execute_reply": "2021-06-29T14:22:26.405652Z",
     "shell.execute_reply.started": "2021-06-29T12:04:44.250532Z"
    },
    "papermill": {
     "duration": 0.03593,
     "end_time": "2021-06-29T14:22:26.406172",
     "exception": false,
     "start_time": "2021-06-29T14:22:26.370242",
     "status": "completed"
    },
    "tags": []
   },
   "outputs": [],
   "source": [
    "test = pd.read_csv(\"../input/commonlitreadabilityprize/test.csv\")"
   ]
  },
  {
   "cell_type": "code",
   "execution_count": 6,
   "id": "urban-anthony",
   "metadata": {
    "execution": {
     "iopub.execute_input": "2021-06-29T14:22:26.450881Z",
     "iopub.status.busy": "2021-06-29T14:22:26.450346Z",
     "iopub.status.idle": "2021-06-29T14:22:26.530528Z",
     "shell.execute_reply": "2021-06-29T14:22:26.529715Z",
     "shell.execute_reply.started": "2021-06-29T12:04:44.268179Z"
    },
    "papermill": {
     "duration": 0.10468,
     "end_time": "2021-06-29T14:22:26.530656",
     "exception": false,
     "start_time": "2021-06-29T14:22:26.425976",
     "status": "completed"
    },
    "tags": []
   },
   "outputs": [],
   "source": [
    "train = pd.read_csv(\"../input/commonlitreadabilityprize/train.csv\")"
   ]
  },
  {
   "cell_type": "code",
   "execution_count": 7,
   "id": "robust-estate",
   "metadata": {
    "execution": {
     "iopub.execute_input": "2021-06-29T14:22:26.579366Z",
     "iopub.status.busy": "2021-06-29T14:22:26.578562Z",
     "iopub.status.idle": "2021-06-29T14:22:26.581049Z",
     "shell.execute_reply": "2021-06-29T14:22:26.580656Z",
     "shell.execute_reply.started": "2021-06-29T12:04:44.311383Z"
    },
    "papermill": {
     "duration": 0.030761,
     "end_time": "2021-06-29T14:22:26.581153",
     "exception": false,
     "start_time": "2021-06-29T14:22:26.550392",
     "status": "completed"
    },
    "tags": []
   },
   "outputs": [],
   "source": [
    "def clean_text(excerpt):\n",
    "    punctuations = \".,?!;\\(\\\":-)‘\"\n",
    "    extrait = excerpt\n",
    "    for p in punctuations : \n",
    "      extrait = extrait.replace(p,f\" {p} \")\n",
    "    extrait = re.sub(r\"'s\",\" is \",extrait)\n",
    "    extrait = extrait.replace(\"i'm\",\"I'm\")\n",
    "    extrait = extrait.replace(\"don't\",\"do not\")\n",
    "    extrait = extrait.replace(\"didn't\",\"did not\")\n",
    "    extrait = extrait.replace(\"can't\",\"cannot\")\n",
    "    extrait = extrait.replace(\"i'll\",\"I will\")\n",
    "    extrait = extrait.replace(\"wouldn't\",\"would not\")\n",
    "    extrait = extrait.replace(\"i've\",\"I have\")\n",
    "    extrait = re.sub(r\"i've\",\"I have\",extrait)\n",
    "    extrait = extrait.replace(\"won't\",\"will not\")\n",
    "    extrait = extrait.replace(\"couldn't\",\"could not\")\n",
    "    extrait = extrait.replace(\"wasn't\",\"was not\")\n",
    "    extrait = extrait.replace(\"you'll\",\"you will\")\n",
    "    extrait = extrait.replace(\"isn't\",\"is not\")\n",
    "    extrait = extrait.replace(\"you're\",\"you are\")\n",
    "    extrait = extrait.replace(\"hadn't\",\"had not\")\n",
    "    extrait = extrait.replace(\"you've\",\"you have\")\n",
    "    extrait = extrait.replace(\"doesn't\",\"does not\")\n",
    "    extrait = extrait.replace(\"haven't\",\"have not\")\n",
    "    extrait = extrait.replace(\"they're\",\"they are\")\n",
    "    extrait = extrait.replace(\"we're\",\"we are\")\n",
    "    #extrait = re.sub(r\"(/s+)i(/s+)\",\"I\",excerpt)\n",
    "    #extrait = re.sub(r\"don't\",\"do not\",extrait)\n",
    "    #extrait = re.sub(r\"i'm\",\"I'm\",extrait)\n",
    "    #extrait = re.sub(r\"man's\",\"man is\",extrait)\n",
    "    #extrait = re.sub(r\"it's\",\"it is\",extrait)\n",
    "    #extrait = re.sub(r\"didn't\",\"did not\",extrait)\n",
    "    #extrait = re.sub(r\"can't\",\"cannot\",extrait)\n",
    "    #extrait = re.sub(r\"earth's\",\"earth is\",extrait)\n",
    "    #extrait = re.sub(r\"father's\",\"father is\",extrait)\n",
    "    #extrait = re.sub(r\"i'll\",\"I will\",extrait)\n",
    "    #extrait = re.sub(r\"i've\",\"I have\",extrait)\n",
    "    #extrait = re.sub(r\"i\\'\",r\"I'\",extrait)\n",
    "    #extrait = re.sub(r\"children\\'s\",\"children is\",extrait)\n",
    "    \n",
    "    return extrait "
   ]
  },
  {
   "cell_type": "code",
   "execution_count": 8,
   "id": "brown-contact",
   "metadata": {
    "execution": {
     "iopub.execute_input": "2021-06-29T14:22:26.630087Z",
     "iopub.status.busy": "2021-06-29T14:22:26.629353Z",
     "iopub.status.idle": "2021-06-29T14:22:26.631985Z",
     "shell.execute_reply": "2021-06-29T14:22:26.631480Z",
     "shell.execute_reply.started": "2021-06-29T12:04:44.325092Z"
    },
    "papermill": {
     "duration": 0.031383,
     "end_time": "2021-06-29T14:22:26.632083",
     "exception": false,
     "start_time": "2021-06-29T14:22:26.600700",
     "status": "completed"
    },
    "tags": []
   },
   "outputs": [],
   "source": [
    "test[\"cleaned_excerpt\"] = test[\"excerpt\"].map(clean_text)"
   ]
  },
  {
   "cell_type": "code",
   "execution_count": 9,
   "id": "hollow-table",
   "metadata": {
    "execution": {
     "iopub.execute_input": "2021-06-29T14:22:26.676478Z",
     "iopub.status.busy": "2021-06-29T14:22:26.675842Z",
     "iopub.status.idle": "2021-06-29T14:22:26.678111Z",
     "shell.execute_reply": "2021-06-29T14:22:26.678500Z",
     "shell.execute_reply.started": "2021-06-29T12:04:44.456441Z"
    },
    "papermill": {
     "duration": 0.026782,
     "end_time": "2021-06-29T14:22:26.678639",
     "exception": false,
     "start_time": "2021-06-29T14:22:26.651857",
     "status": "completed"
    },
    "tags": []
   },
   "outputs": [],
   "source": [
    "class Lisibility (nn.Module) :\n",
    "    \n",
    "    def __init__(self,path) :\n",
    "        super(Lisibility,self).__init__()\n",
    "        \n",
    "        self.layer = AutoModel.from_pretrained(path)\n",
    "        self.dense = nn.Linear(768,1)\n",
    "        self.dropout = nn.Dropout(p=0.1)\n",
    "    def forward(self,**xp) :\n",
    "        \n",
    "        x = self.layer(**xp)[0] [:,0,:]\n",
    "        #x = self.dropout(x)\n",
    "        #x = self.dense(x)\n",
    "        \n",
    "        return x"
   ]
  },
  {
   "cell_type": "code",
   "execution_count": 10,
   "id": "serial-sewing",
   "metadata": {
    "execution": {
     "iopub.execute_input": "2021-06-29T14:22:26.723147Z",
     "iopub.status.busy": "2021-06-29T14:22:26.722472Z",
     "iopub.status.idle": "2021-06-29T14:22:26.725230Z",
     "shell.execute_reply": "2021-06-29T14:22:26.724812Z",
     "shell.execute_reply.started": "2021-06-29T12:04:44.482951Z"
    },
    "papermill": {
     "duration": 0.026982,
     "end_time": "2021-06-29T14:22:26.725328",
     "exception": false,
     "start_time": "2021-06-29T14:22:26.698346",
     "status": "completed"
    },
    "tags": []
   },
   "outputs": [],
   "source": [
    "class DataGenerator(Dataset) :\n",
    "    \n",
    "    def __init__(self,texts,tokenizer,max_len) :\n",
    "        \n",
    "        self.tokenizer = tokenizer \n",
    "        self.texts = texts \n",
    "        #self.labels = labels \n",
    "        self.max_len = max_len \n",
    "    def __getitem__(self,idx) :\n",
    "        \n",
    "        encode = self.tokenizer(self.texts[idx],return_tensors = \"pt\",max_length=self.max_len,\\\n",
    "                               padding=\"max_length\",truncation=True)\n",
    "        #target = torch.tensor(self.labels[idx])\n",
    "        return encode \n",
    "    def __len__(self) :\n",
    "        return len(self.texts)"
   ]
  },
  {
   "cell_type": "code",
   "execution_count": 11,
   "id": "religious-slave",
   "metadata": {
    "execution": {
     "iopub.execute_input": "2021-06-29T14:22:26.811217Z",
     "iopub.status.busy": "2021-06-29T14:22:26.810612Z",
     "iopub.status.idle": "2021-06-29T14:22:26.813168Z",
     "shell.execute_reply": "2021-06-29T14:22:26.813860Z",
     "shell.execute_reply.started": "2021-06-29T12:04:44.499389Z"
    },
    "papermill": {
     "duration": 0.06905,
     "end_time": "2021-06-29T14:22:26.813995",
     "exception": false,
     "start_time": "2021-06-29T14:22:26.744945",
     "status": "completed"
    },
    "tags": []
   },
   "outputs": [],
   "source": [
    "if torch.cuda.is_available() :\n",
    "    device = torch.device(\"cuda\")\n",
    "else :\n",
    "    device = torch.device(\"cpu\")"
   ]
  },
  {
   "cell_type": "code",
   "execution_count": 12,
   "id": "political-waste",
   "metadata": {
    "execution": {
     "iopub.execute_input": "2021-06-29T14:22:26.857709Z",
     "iopub.status.busy": "2021-06-29T14:22:26.857038Z",
     "iopub.status.idle": "2021-06-29T14:22:26.859782Z",
     "shell.execute_reply": "2021-06-29T14:22:26.859283Z",
     "shell.execute_reply.started": "2021-06-29T12:04:44.515576Z"
    },
    "papermill": {
     "duration": 0.026122,
     "end_time": "2021-06-29T14:22:26.859887",
     "exception": false,
     "start_time": "2021-06-29T14:22:26.833765",
     "status": "completed"
    },
    "tags": []
   },
   "outputs": [],
   "source": [
    "def create_dataloader (texts,tokenizer) :\n",
    "    dataset = DataGenerator(texts,tokenizer,config[\"max_len\"])\n",
    "    dataloader = DataLoader(dataset,batch_size= config[\"batch_size\"],shuffle=False)\n",
    "    return dataloader "
   ]
  },
  {
   "cell_type": "code",
   "execution_count": 13,
   "id": "subsequent-webcam",
   "metadata": {
    "execution": {
     "iopub.execute_input": "2021-06-29T14:22:26.902979Z",
     "iopub.status.busy": "2021-06-29T14:22:26.902440Z",
     "iopub.status.idle": "2021-06-29T14:22:26.954977Z",
     "shell.execute_reply": "2021-06-29T14:22:26.954490Z",
     "shell.execute_reply.started": "2021-06-29T12:04:44.537337Z"
    },
    "papermill": {
     "duration": 0.075543,
     "end_time": "2021-06-29T14:22:26.955087",
     "exception": false,
     "start_time": "2021-06-29T14:22:26.879544",
     "status": "completed"
    },
    "tags": []
   },
   "outputs": [],
   "source": [
    "with open(\"../input/bert-model-training/tokenizer\",\"rb\") as f :\n",
    "    tokenizer = pickle.load(f)"
   ]
  },
  {
   "cell_type": "code",
   "execution_count": 14,
   "id": "anticipated-birth",
   "metadata": {
    "execution": {
     "iopub.execute_input": "2021-06-29T14:22:26.997818Z",
     "iopub.status.busy": "2021-06-29T14:22:26.997299Z",
     "iopub.status.idle": "2021-06-29T14:22:27.084044Z",
     "shell.execute_reply": "2021-06-29T14:22:27.083558Z",
     "shell.execute_reply.started": "2021-06-29T12:04:44.607459Z"
    },
    "papermill": {
     "duration": 0.109365,
     "end_time": "2021-06-29T14:22:27.084166",
     "exception": false,
     "start_time": "2021-06-29T14:22:26.974801",
     "status": "completed"
    },
    "tags": []
   },
   "outputs": [],
   "source": [
    "tokenizer = BertTokenizer.from_pretrained(f\"../input/bert-fine-tunning/model_{0}\")"
   ]
  },
  {
   "cell_type": "code",
   "execution_count": 15,
   "id": "mediterranean-spider",
   "metadata": {
    "execution": {
     "iopub.execute_input": "2021-06-29T14:22:27.128036Z",
     "iopub.status.busy": "2021-06-29T14:22:27.127298Z",
     "iopub.status.idle": "2021-06-29T14:22:27.130044Z",
     "shell.execute_reply": "2021-06-29T14:22:27.129643Z",
     "shell.execute_reply.started": "2021-06-29T12:04:44.731678Z"
    },
    "papermill": {
     "duration": 0.025508,
     "end_time": "2021-06-29T14:22:27.130154",
     "exception": false,
     "start_time": "2021-06-29T14:22:27.104646",
     "status": "completed"
    },
    "tags": []
   },
   "outputs": [],
   "source": [
    "model_base = \"../input/training-bert-models/bert_base_chk/\""
   ]
  },
  {
   "cell_type": "code",
   "execution_count": 16,
   "id": "informal-guidance",
   "metadata": {
    "execution": {
     "iopub.execute_input": "2021-06-29T14:22:27.173303Z",
     "iopub.status.busy": "2021-06-29T14:22:27.172648Z",
     "iopub.status.idle": "2021-06-29T14:22:27.175308Z",
     "shell.execute_reply": "2021-06-29T14:22:27.174893Z",
     "shell.execute_reply.started": "2021-06-29T12:04:44.757757Z"
    },
    "papermill": {
     "duration": 0.025485,
     "end_time": "2021-06-29T14:22:27.175407",
     "exception": false,
     "start_time": "2021-06-29T14:22:27.149922",
     "status": "completed"
    },
    "tags": []
   },
   "outputs": [],
   "source": [
    "paths = [f\"../input/bert-fine-tunning/model_{i}/model{i}.bin\" for i in range(5)]"
   ]
  },
  {
   "cell_type": "code",
   "execution_count": 17,
   "id": "innocent-novel",
   "metadata": {
    "execution": {
     "iopub.execute_input": "2021-06-29T14:22:27.220792Z",
     "iopub.status.busy": "2021-06-29T14:22:27.220256Z",
     "iopub.status.idle": "2021-06-29T14:22:27.223903Z",
     "shell.execute_reply": "2021-06-29T14:22:27.223406Z",
     "shell.execute_reply.started": "2021-06-29T12:04:44.774862Z"
    },
    "papermill": {
     "duration": 0.028726,
     "end_time": "2021-06-29T14:22:27.224010",
     "exception": false,
     "start_time": "2021-06-29T14:22:27.195284",
     "status": "completed"
    },
    "tags": []
   },
   "outputs": [],
   "source": [
    "loss_fn = lambda out,y_t : torch.sqrt(nn.MSELoss()(out.view(-1),y_t.view(-1)))"
   ]
  },
  {
   "cell_type": "code",
   "execution_count": 18,
   "id": "boxed-alexander",
   "metadata": {
    "execution": {
     "iopub.execute_input": "2021-06-29T14:22:27.269522Z",
     "iopub.status.busy": "2021-06-29T14:22:27.269011Z",
     "iopub.status.idle": "2021-06-29T14:22:27.283319Z",
     "shell.execute_reply": "2021-06-29T14:22:27.282914Z",
     "shell.execute_reply.started": "2021-06-29T12:04:44.795234Z"
    },
    "papermill": {
     "duration": 0.039641,
     "end_time": "2021-06-29T14:22:27.283426",
     "exception": false,
     "start_time": "2021-06-29T14:22:27.243785",
     "status": "completed"
    },
    "tags": []
   },
   "outputs": [],
   "source": [
    "train[\"bins-target\"] = pd.cut(train[\"target\"].values,bins=[train[\"target\"].min()-1,train[\"target\"].\\\n",
    "                                                   quantile(0.25),train[\"target\"].quantile(0.5),train[\"target\"].quantile(0.75),train[\"target\"].quantile(1)],labels=[\"Q1\",\"Q2\",\"Q3\",\"Q4\"])"
   ]
  },
  {
   "cell_type": "code",
   "execution_count": 19,
   "id": "banned-effort",
   "metadata": {
    "execution": {
     "iopub.execute_input": "2021-06-29T14:22:27.356936Z",
     "iopub.status.busy": "2021-06-29T14:22:27.351824Z",
     "iopub.status.idle": "2021-06-29T14:22:27.440437Z",
     "shell.execute_reply": "2021-06-29T14:22:27.439986Z",
     "shell.execute_reply.started": "2021-06-29T12:04:44.831345Z"
    },
    "papermill": {
     "duration": 0.13731,
     "end_time": "2021-06-29T14:22:27.440559",
     "exception": false,
     "start_time": "2021-06-29T14:22:27.303249",
     "status": "completed"
    },
    "tags": []
   },
   "outputs": [],
   "source": [
    "train[\"cleaned_excerpt\"] = train[\"excerpt\"].map(clean_text)"
   ]
  },
  {
   "cell_type": "code",
   "execution_count": 20,
   "id": "excited-centre",
   "metadata": {
    "execution": {
     "iopub.execute_input": "2021-06-29T14:22:27.485458Z",
     "iopub.status.busy": "2021-06-29T14:22:27.484961Z",
     "iopub.status.idle": "2021-06-29T14:22:27.488727Z",
     "shell.execute_reply": "2021-06-29T14:22:27.488288Z",
     "shell.execute_reply.started": "2021-06-29T12:04:45.100541Z"
    },
    "papermill": {
     "duration": 0.028493,
     "end_time": "2021-06-29T14:22:27.488831",
     "exception": false,
     "start_time": "2021-06-29T14:22:27.460338",
     "status": "completed"
    },
    "tags": []
   },
   "outputs": [],
   "source": [
    "def get_bert_embedding(tx_dataloader,model) :\n",
    "    b_embedding = []\n",
    "    model.eval()\n",
    "    for i,data in enumerate(tx_dataloader) :\n",
    "        \n",
    "        data = { key:val.reshape(val.shape[0],-1).to(device) for (key,val) in data.items()}\n",
    "        with torch.no_grad() :\n",
    "            \n",
    "            out = model(**data).detach().cpu().numpy().tolist()\n",
    "            b_embedding.extend(out)\n",
    "    \n",
    "    return b_embedding\n",
    "    "
   ]
  },
  {
   "cell_type": "code",
   "execution_count": 21,
   "id": "concrete-holmes",
   "metadata": {
    "execution": {
     "iopub.execute_input": "2021-06-29T14:22:27.531533Z",
     "iopub.status.busy": "2021-06-29T14:22:27.530919Z",
     "iopub.status.idle": "2021-06-29T14:22:27.534809Z",
     "shell.execute_reply": "2021-06-29T14:22:27.534376Z",
     "shell.execute_reply.started": "2021-06-29T12:04:45.135938Z"
    },
    "papermill": {
     "duration": 0.026542,
     "end_time": "2021-06-29T14:22:27.534916",
     "exception": false,
     "start_time": "2021-06-29T14:22:27.508374",
     "status": "completed"
    },
    "tags": []
   },
   "outputs": [],
   "source": [
    "rmse = lambda y_t,y_pred : math.sqrt(mean_squared_error(y_t,y_pred))"
   ]
  },
  {
   "cell_type": "code",
   "execution_count": 22,
   "id": "boring-scott",
   "metadata": {
    "execution": {
     "iopub.execute_input": "2021-06-29T14:22:27.578646Z",
     "iopub.status.busy": "2021-06-29T14:22:27.577983Z",
     "iopub.status.idle": "2021-06-29T14:22:27.580319Z",
     "shell.execute_reply": "2021-06-29T14:22:27.580749Z",
     "shell.execute_reply.started": "2021-06-29T12:04:45.156746Z"
    },
    "papermill": {
     "duration": 0.025539,
     "end_time": "2021-06-29T14:22:27.580868",
     "exception": false,
     "start_time": "2021-06-29T14:22:27.555329",
     "status": "completed"
    },
    "tags": []
   },
   "outputs": [],
   "source": [
    "test_dataloader = create_dataloader(test[\"cleaned_excerpt\"].values,tokenizer)"
   ]
  },
  {
   "cell_type": "code",
   "execution_count": 23,
   "id": "arabic-topic",
   "metadata": {
    "execution": {
     "iopub.execute_input": "2021-06-29T14:22:27.628746Z",
     "iopub.status.busy": "2021-06-29T14:22:27.628064Z",
     "iopub.status.idle": "2021-06-29T14:22:27.630899Z",
     "shell.execute_reply": "2021-06-29T14:22:27.630420Z",
     "shell.execute_reply.started": "2021-06-29T12:33:36.506996Z"
    },
    "papermill": {
     "duration": 0.030518,
     "end_time": "2021-06-29T14:22:27.631009",
     "exception": false,
     "start_time": "2021-06-29T14:22:27.600491",
     "status": "completed"
    },
    "tags": []
   },
   "outputs": [],
   "source": [
    "def svr_prediction(model ,i,n_folds = 5) :\n",
    "    test_embedding = get_bert_embedding(test_dataloader,model)\n",
    "    prediction = np.zeros((len(test)))\n",
    "    scores = []\n",
    "    st = StratifiedKFold(n_splits=n_folds,shuffle=False) \n",
    "    print(f\"Model {i} starting...\")\n",
    "    for fold ,(tr_ind , val_ind) in enumerate(st.split(train[\"cleaned_excerpt\"].values,\\\n",
    "                                                       train[\"bins-target\"].values)):\n",
    "        \n",
    "        train_texts = train.reset_index(drop=True).loc[tr_ind,\"cleaned_excerpt\"].values\n",
    "        train_target = train.reset_index(drop=True).loc[tr_ind,\"target\"].values\n",
    "        \n",
    "        val_texts = train.reset_index(drop=True).loc[val_ind,\"cleaned_excerpt\"].values\n",
    "        val_target = train.reset_index(drop=True).loc[val_ind,\"target\"].values\n",
    "        \n",
    "        tr_dataloader = create_dataloader(train_texts,tokenizer)\n",
    "        val_dataloader = create_dataloader(val_texts,tokenizer)\n",
    "        \n",
    "        X_t = get_bert_embedding(tr_dataloader,model)\n",
    "        X_v = get_bert_embedding(val_dataloader,model)\n",
    "        \n",
    "        svr = LinearSVR(C=10)\n",
    "        svr.fit(X_t,train_target)\n",
    "        ypred =svr.predict(X_v)\n",
    "        score = rmse(val_target,ypred)\n",
    "        scores.append(score)\n",
    "        print(f\"Score for the fold {fold} : {score}\")\n",
    "        \n",
    "        prediction += svr.predict(test_embedding)\n",
    "    \n",
    "    \n",
    "    print(f\"mse_error for the model {i} : {np.mean(scores)}\")\n",
    "    prediction /= n_folds     \n",
    "    \n",
    "    return prediction \n",
    "        \n",
    "        "
   ]
  },
  {
   "cell_type": "code",
   "execution_count": 24,
   "id": "lyric-fitness",
   "metadata": {
    "execution": {
     "iopub.execute_input": "2021-06-29T14:22:27.674257Z",
     "iopub.status.busy": "2021-06-29T14:22:27.673746Z",
     "iopub.status.idle": "2021-06-29T14:40:02.820717Z",
     "shell.execute_reply": "2021-06-29T14:40:02.822006Z",
     "shell.execute_reply.started": "2021-06-29T12:34:15.878932Z"
    },
    "papermill": {
     "duration": 1055.171863,
     "end_time": "2021-06-29T14:40:02.822404",
     "exception": false,
     "start_time": "2021-06-29T14:22:27.650541",
     "status": "completed"
    },
    "tags": []
   },
   "outputs": [
    {
     "name": "stderr",
     "output_type": "stream",
     "text": [
      "Some weights of BertModel were not initialized from the model checkpoint at ../input/training-bert-models/bert_base_chk/ and are newly initialized: ['bert.pooler.dense.weight', 'bert.pooler.dense.bias']\n",
      "You should probably TRAIN this model on a down-stream task to be able to use it for predictions and inference.\n"
     ]
    },
    {
     "name": "stdout",
     "output_type": "stream",
     "text": [
      "Model 0 starting...\n",
      "Score for the fold 0 : 0.7192434693083672\n",
      "Score for the fold 1 : 0.7904604990131309\n",
      "Score for the fold 2 : 0.9187359508922068\n",
      "Score for the fold 3 : 0.7106232875634056\n",
      "Score for the fold 4 : 0.7732415588980055\n",
      "mse_error for the model 0 : 0.7824609531350232\n"
     ]
    },
    {
     "name": "stderr",
     "output_type": "stream",
     "text": [
      "Some weights of BertModel were not initialized from the model checkpoint at ../input/training-bert-models/bert_base_chk/ and are newly initialized: ['bert.pooler.dense.weight', 'bert.pooler.dense.bias']\n",
      "You should probably TRAIN this model on a down-stream task to be able to use it for predictions and inference.\n"
     ]
    },
    {
     "name": "stdout",
     "output_type": "stream",
     "text": [
      "Model 1 starting...\n",
      "Score for the fold 0 : 1.2755136025541722\n",
      "Score for the fold 1 : 0.8232618162352218\n",
      "Score for the fold 2 : 0.7080438385808601\n",
      "Score for the fold 3 : 0.802204876246077\n",
      "Score for the fold 4 : 0.8760734031654613\n",
      "mse_error for the model 1 : 0.8970195073563584\n"
     ]
    },
    {
     "name": "stderr",
     "output_type": "stream",
     "text": [
      "Some weights of BertModel were not initialized from the model checkpoint at ../input/training-bert-models/bert_base_chk/ and are newly initialized: ['bert.pooler.dense.weight', 'bert.pooler.dense.bias']\n",
      "You should probably TRAIN this model on a down-stream task to be able to use it for predictions and inference.\n"
     ]
    },
    {
     "name": "stdout",
     "output_type": "stream",
     "text": [
      "Model 2 starting...\n",
      "Score for the fold 0 : 0.734462437894346\n",
      "Score for the fold 1 : 0.8891379718380851\n",
      "Score for the fold 2 : 0.7383791431923975\n",
      "Score for the fold 3 : 0.7167245812641363\n",
      "Score for the fold 4 : 0.8499092223690656\n",
      "mse_error for the model 2 : 0.7857226713116061\n"
     ]
    },
    {
     "name": "stderr",
     "output_type": "stream",
     "text": [
      "Some weights of BertModel were not initialized from the model checkpoint at ../input/training-bert-models/bert_base_chk/ and are newly initialized: ['bert.pooler.dense.weight', 'bert.pooler.dense.bias']\n",
      "You should probably TRAIN this model on a down-stream task to be able to use it for predictions and inference.\n"
     ]
    },
    {
     "name": "stdout",
     "output_type": "stream",
     "text": [
      "Model 3 starting...\n",
      "Score for the fold 0 : 0.801820368103026\n",
      "Score for the fold 1 : 1.0807555597320724\n",
      "Score for the fold 2 : 0.7344142575320661\n",
      "Score for the fold 3 : 0.7195790004024897\n",
      "Score for the fold 4 : 0.7350918747248418\n",
      "mse_error for the model 3 : 0.8143322120988993\n"
     ]
    },
    {
     "name": "stderr",
     "output_type": "stream",
     "text": [
      "Some weights of BertModel were not initialized from the model checkpoint at ../input/training-bert-models/bert_base_chk/ and are newly initialized: ['bert.pooler.dense.weight', 'bert.pooler.dense.bias']\n",
      "You should probably TRAIN this model on a down-stream task to be able to use it for predictions and inference.\n"
     ]
    },
    {
     "name": "stdout",
     "output_type": "stream",
     "text": [
      "Model 4 starting...\n",
      "Score for the fold 0 : 0.9243942489361698\n",
      "Score for the fold 1 : 0.7903875879184152\n",
      "Score for the fold 2 : 0.816595709292896\n",
      "Score for the fold 3 : 0.9487159264478735\n",
      "Score for the fold 4 : 0.7940256031329643\n",
      "mse_error for the model 4 : 0.8548238151456637\n"
     ]
    }
   ],
   "source": [
    "predictions = []\n",
    "for i,path in enumerate(paths) : \n",
    "    \n",
    "    model = Lisibility(model_base)\n",
    "    model.load_state_dict(torch.load(path),strict=False)\n",
    "    model.to(device)\n",
    "    \n",
    "    pr = svr_prediction(model,i,n_folds=5)\n",
    "    \n",
    "    predictions.append(pr)"
   ]
  },
  {
   "cell_type": "code",
   "execution_count": 25,
   "id": "present-vector",
   "metadata": {
    "execution": {
     "iopub.execute_input": "2021-06-29T14:40:02.897337Z",
     "iopub.status.busy": "2021-06-29T14:40:02.896593Z",
     "iopub.status.idle": "2021-06-29T14:40:02.898908Z",
     "shell.execute_reply": "2021-06-29T14:40:02.899277Z",
     "shell.execute_reply.started": "2021-06-29T12:54:31.422416Z"
    },
    "papermill": {
     "duration": 0.034798,
     "end_time": "2021-06-29T14:40:02.899399",
     "exception": false,
     "start_time": "2021-06-29T14:40:02.864601",
     "status": "completed"
    },
    "tags": []
   },
   "outputs": [],
   "source": [
    "pred = np.vstack(predictions)"
   ]
  },
  {
   "cell_type": "code",
   "execution_count": 26,
   "id": "heard-output",
   "metadata": {
    "execution": {
     "iopub.execute_input": "2021-06-29T14:40:02.960336Z",
     "iopub.status.busy": "2021-06-29T14:40:02.959834Z",
     "iopub.status.idle": "2021-06-29T14:40:02.963143Z",
     "shell.execute_reply": "2021-06-29T14:40:02.963570Z",
     "shell.execute_reply.started": "2021-06-29T12:55:21.591442Z"
    },
    "papermill": {
     "duration": 0.035386,
     "end_time": "2021-06-29T14:40:02.963695",
     "exception": false,
     "start_time": "2021-06-29T14:40:02.928309",
     "status": "completed"
    },
    "tags": []
   },
   "outputs": [],
   "source": [
    "prediction = np.mean(pred,axis=0)"
   ]
  },
  {
   "cell_type": "code",
   "execution_count": 27,
   "id": "natural-selection",
   "metadata": {
    "execution": {
     "iopub.execute_input": "2021-06-29T14:40:03.036925Z",
     "iopub.status.busy": "2021-06-29T14:40:03.036397Z",
     "iopub.status.idle": "2021-06-29T14:40:03.045107Z",
     "shell.execute_reply": "2021-06-29T14:40:03.044709Z",
     "shell.execute_reply.started": "2021-06-29T12:55:57.526176Z"
    },
    "papermill": {
     "duration": 0.053161,
     "end_time": "2021-06-29T14:40:03.045212",
     "exception": false,
     "start_time": "2021-06-29T14:40:02.992051",
     "status": "completed"
    },
    "tags": []
   },
   "outputs": [],
   "source": [
    "submission = pd.read_csv(\"../input/commonlitreadabilityprize/sample_submission.csv\")"
   ]
  },
  {
   "cell_type": "code",
   "execution_count": 28,
   "id": "polished-motion",
   "metadata": {
    "execution": {
     "iopub.execute_input": "2021-06-29T14:40:03.106001Z",
     "iopub.status.busy": "2021-06-29T14:40:03.105470Z",
     "iopub.status.idle": "2021-06-29T14:40:03.109160Z",
     "shell.execute_reply": "2021-06-29T14:40:03.108755Z",
     "shell.execute_reply.started": "2021-06-29T12:56:03.388995Z"
    },
    "papermill": {
     "duration": 0.03585,
     "end_time": "2021-06-29T14:40:03.109263",
     "exception": false,
     "start_time": "2021-06-29T14:40:03.073413",
     "status": "completed"
    },
    "tags": []
   },
   "outputs": [],
   "source": [
    "submission[\"target\"] = prediction"
   ]
  },
  {
   "cell_type": "code",
   "execution_count": 29,
   "id": "bound-sequence",
   "metadata": {
    "execution": {
     "iopub.execute_input": "2021-06-29T14:40:03.168907Z",
     "iopub.status.busy": "2021-06-29T14:40:03.168286Z",
     "iopub.status.idle": "2021-06-29T14:40:03.297877Z",
     "shell.execute_reply": "2021-06-29T14:40:03.297262Z",
     "shell.execute_reply.started": "2021-06-29T12:56:10.320759Z"
    },
    "papermill": {
     "duration": 0.160661,
     "end_time": "2021-06-29T14:40:03.297997",
     "exception": false,
     "start_time": "2021-06-29T14:40:03.137336",
     "status": "completed"
    },
    "tags": []
   },
   "outputs": [],
   "source": [
    "submission.to_csv(\"submission.csv\",index=False)"
   ]
  }
 ],
 "metadata": {
  "kernelspec": {
   "display_name": "Python 3",
   "language": "python",
   "name": "python3"
  },
  "language_info": {
   "codemirror_mode": {
    "name": "ipython",
    "version": 3
   },
   "file_extension": ".py",
   "mimetype": "text/x-python",
   "name": "python",
   "nbconvert_exporter": "python",
   "pygments_lexer": "ipython3",
   "version": "3.7.10"
  },
  "papermill": {
   "default_parameters": {},
   "duration": 1068.986196,
   "end_time": "2021-06-29T14:40:05.539372",
   "environment_variables": {},
   "exception": null,
   "input_path": "__notebook__.ipynb",
   "output_path": "__notebook__.ipynb",
   "parameters": {},
   "start_time": "2021-06-29T14:22:16.553176",
   "version": "2.3.3"
  }
 },
 "nbformat": 4,
 "nbformat_minor": 5
}
