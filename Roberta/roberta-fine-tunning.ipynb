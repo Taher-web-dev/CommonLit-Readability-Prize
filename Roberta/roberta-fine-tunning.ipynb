{
 "cells": [
  {
   "cell_type": "code",
   "execution_count": 1,
   "id": "boxed-lafayette",
   "metadata": {
    "execution": {
     "iopub.execute_input": "2021-06-22T11:10:11.957863Z",
     "iopub.status.busy": "2021-06-22T11:10:11.957258Z",
     "iopub.status.idle": "2021-06-22T11:10:19.640016Z",
     "shell.execute_reply": "2021-06-22T11:10:19.639432Z",
     "shell.execute_reply.started": "2021-06-22T10:40:25.147582Z"
    },
    "papermill": {
     "duration": 7.705212,
     "end_time": "2021-06-22T11:10:19.640174",
     "exception": false,
     "start_time": "2021-06-22T11:10:11.934962",
     "status": "completed"
    },
    "tags": []
   },
   "outputs": [],
   "source": [
    "import torch \n",
    "import pandas as pd \n",
    "import numpy as np \n",
    "import warnings\n",
    "warnings.filterwarnings(\"ignore\")\n",
    "import re \n",
    "import random\n",
    "import torch.nn as nn \n",
    "from sklearn.model_selection import StratifiedKFold\n",
    "from torch.utils.data import Dataset,DataLoader\n",
    "from transformers import AutoModel,AutoTokenizer,AdamW\n",
    "from tqdm import tqdm\n",
    "import os \n",
    "from transformers import get_cosine_schedule_with_warmup\n",
    "from colorama import Fore,Back,Style\n",
    "r_ = Fore.RED\n",
    "g_ = Fore.GREEN\n",
    "y_ = Fore.YELLOW\n",
    "c_ = Fore.CYAN\n",
    "b_ = Fore.BLUE\n",
    "bl_ = Fore.BLACK\n",
    "sr_ = Style.RESET_ALL"
   ]
  },
  {
   "cell_type": "code",
   "execution_count": 2,
   "id": "cardiovascular-milton",
   "metadata": {
    "execution": {
     "iopub.execute_input": "2021-06-22T11:10:19.664687Z",
     "iopub.status.busy": "2021-06-22T11:10:19.664165Z",
     "iopub.status.idle": "2021-06-22T11:10:19.726271Z",
     "shell.execute_reply": "2021-06-22T11:10:19.725424Z",
     "shell.execute_reply.started": "2021-06-22T10:40:32.582024Z"
    },
    "papermill": {
     "duration": 0.076917,
     "end_time": "2021-06-22T11:10:19.726399",
     "exception": false,
     "start_time": "2021-06-22T11:10:19.649482",
     "status": "completed"
    },
    "tags": []
   },
   "outputs": [],
   "source": [
    "train_data = pd.read_csv(\"../input/commonlitreadabilityprize/train.csv\")"
   ]
  },
  {
   "cell_type": "code",
   "execution_count": 3,
   "id": "false-graduation",
   "metadata": {
    "execution": {
     "iopub.execute_input": "2021-06-22T11:10:19.754838Z",
     "iopub.status.busy": "2021-06-22T11:10:19.753574Z",
     "iopub.status.idle": "2021-06-22T11:10:19.755861Z",
     "shell.execute_reply": "2021-06-22T11:10:19.756277Z",
     "shell.execute_reply.started": "2021-06-22T10:40:32.671225Z"
    },
    "papermill": {
     "duration": 0.020775,
     "end_time": "2021-06-22T11:10:19.756398",
     "exception": false,
     "start_time": "2021-06-22T11:10:19.735623",
     "status": "completed"
    },
    "tags": []
   },
   "outputs": [],
   "source": [
    "def clean_text(excerpt):\n",
    "    punctuations = \".,?!;\\(\\\":-)‘\"\n",
    "    extrait = excerpt\n",
    "    for p in punctuations : \n",
    "      extrait = extrait.replace(p,f\" {p} \")\n",
    "    extrait = re.sub(r\"'s\",\" is \",extrait)\n",
    "    extrait = extrait.replace(\"i'm\",\"I'm\")\n",
    "    extrait = extrait.replace(\"don't\",\"do not\")\n",
    "    extrait = extrait.replace(\"didn't\",\"did not\")\n",
    "    extrait = extrait.replace(\"can't\",\"cannot\")\n",
    "    extrait = extrait.replace(\"i'll\",\"I will\")\n",
    "    extrait = extrait.replace(\"wouldn't\",\"would not\")\n",
    "    extrait = extrait.replace(\"i've\",\"I have\")\n",
    "    extrait = re.sub(r\"i've\",\"I have\",extrait)\n",
    "    extrait = extrait.replace(\"won't\",\"will not\")\n",
    "    extrait = extrait.replace(\"couldn't\",\"could not\")\n",
    "    extrait = extrait.replace(\"wasn't\",\"was not\")\n",
    "    extrait = extrait.replace(\"you'll\",\"you will\")\n",
    "    extrait = extrait.replace(\"isn't\",\"is not\")\n",
    "    extrait = extrait.replace(\"you're\",\"you are\")\n",
    "    extrait = extrait.replace(\"hadn't\",\"had not\")\n",
    "    extrait = extrait.replace(\"you've\",\"you have\")\n",
    "    extrait = extrait.replace(\"doesn't\",\"does not\")\n",
    "    extrait = extrait.replace(\"haven't\",\"have not\")\n",
    "    extrait = extrait.replace(\"they're\",\"they are\")\n",
    "    extrait = extrait.replace(\"we're\",\"we are\")\n",
    "    #extrait = re.sub(r\"(/s+)i(/s+)\",\"I\",excerpt)\n",
    "    #extrait = re.sub(r\"don't\",\"do not\",extrait)\n",
    "    #extrait = re.sub(r\"i'm\",\"I'm\",extrait)\n",
    "    #extrait = re.sub(r\"man's\",\"man is\",extrait)\n",
    "    #extrait = re.sub(r\"it's\",\"it is\",extrait)\n",
    "    #extrait = re.sub(r\"didn't\",\"did not\",extrait)\n",
    "    #extrait = re.sub(r\"can't\",\"cannot\",extrait)\n",
    "    #extrait = re.sub(r\"earth's\",\"earth is\",extrait)\n",
    "    #extrait = re.sub(r\"father's\",\"father is\",extrait)\n",
    "    #extrait = re.sub(r\"i'll\",\"I will\",extrait)\n",
    "    #extrait = re.sub(r\"i've\",\"I have\",extrait)\n",
    "    #extrait = re.sub(r\"i\\'\",r\"I'\",extrait)\n",
    "    #extrait = re.sub(r\"children\\'s\",\"children is\",extrait)\n",
    "    \n",
    "    return extrait "
   ]
  },
  {
   "cell_type": "code",
   "execution_count": 4,
   "id": "respected-surname",
   "metadata": {
    "execution": {
     "iopub.execute_input": "2021-06-22T11:10:19.791863Z",
     "iopub.status.busy": "2021-06-22T11:10:19.786686Z",
     "iopub.status.idle": "2021-06-22T11:10:19.888875Z",
     "shell.execute_reply": "2021-06-22T11:10:19.888457Z",
     "shell.execute_reply.started": "2021-06-22T10:40:32.683967Z"
    },
    "papermill": {
     "duration": 0.123623,
     "end_time": "2021-06-22T11:10:19.888976",
     "exception": false,
     "start_time": "2021-06-22T11:10:19.765353",
     "status": "completed"
    },
    "tags": []
   },
   "outputs": [],
   "source": [
    "train_data[\"cleaned_excerpt\"] = train_data[\"excerpt\"].map(clean_text)"
   ]
  },
  {
   "cell_type": "code",
   "execution_count": 5,
   "id": "assigned-metallic",
   "metadata": {
    "execution": {
     "iopub.execute_input": "2021-06-22T11:10:19.912862Z",
     "iopub.status.busy": "2021-06-22T11:10:19.912291Z",
     "iopub.status.idle": "2021-06-22T11:10:19.926825Z",
     "shell.execute_reply": "2021-06-22T11:10:19.926413Z",
     "shell.execute_reply.started": "2021-06-22T10:40:32.804535Z"
    },
    "papermill": {
     "duration": 0.029073,
     "end_time": "2021-06-22T11:10:19.926925",
     "exception": false,
     "start_time": "2021-06-22T11:10:19.897852",
     "status": "completed"
    },
    "tags": []
   },
   "outputs": [],
   "source": [
    "for i in range(5):\n",
    "    vars() [f\"q{i}\"] = train_data[\"target\"].quantile(0.25 * i)\n",
    "    if i == 0 :\n",
    "        vars() [f\"q{i}\"] = vars() [f\"q{i}\"] - 1\n",
    "train_data[\"bins_target\"] = pd.cut(train_data[\"target\"],bins=[q0,q1,q2,q3,q4],\\\n",
    "                                  labels=[f\"Q{i}\" for i in range(1,5)])"
   ]
  },
  {
   "cell_type": "code",
   "execution_count": 6,
   "id": "fallen-equilibrium",
   "metadata": {
    "execution": {
     "iopub.execute_input": "2021-06-22T11:10:19.950947Z",
     "iopub.status.busy": "2021-06-22T11:10:19.950466Z",
     "iopub.status.idle": "2021-06-22T11:10:19.954203Z",
     "shell.execute_reply": "2021-06-22T11:10:19.953750Z",
     "shell.execute_reply.started": "2021-06-22T10:40:32.824072Z"
    },
    "papermill": {
     "duration": 0.018538,
     "end_time": "2021-06-22T11:10:19.954302",
     "exception": false,
     "start_time": "2021-06-22T11:10:19.935764",
     "status": "completed"
    },
    "tags": []
   },
   "outputs": [],
   "source": [
    "def seed_everything(seed):\n",
    "    random.seed(seed)\n",
    "    os.environ['PYTHONASSEED'] = str(seed)\n",
    "    np.random.seed(seed)\n",
    "    torch.manual_seed(seed)\n",
    "    torch.cuda.manual_seed(seed)\n",
    "    torch.backends.cudnn.deterministic = True\n",
    "    torch.backends.cudnn.benchmark = True\n",
    "    \n",
    "config = {\"seed\":42,\n",
    "         \"lr\":5e-5,\n",
    "         \"wd\":0.01,\n",
    "         \"epochs\":5,\n",
    "         \"folds\":5,\n",
    "         \"batch_size\":16,\n",
    "         \"max_len\":256,\n",
    "         \"valid_step\":10,\n",
    "         \"model\":\"../input/roberta-training/clrp_roberta_base_chk/checkpoint-1050/config.json\"}\n",
    "\n",
    "loss_fn = lambda out,true_v : torch.sqrt(nn.MSELoss()(out.view(-1),true_v.view(-1)))\n",
    "\n",
    "st = StratifiedKFold(n_splits=5,shuffle=True,random_state=config[\"seed\"])"
   ]
  },
  {
   "cell_type": "code",
   "execution_count": 7,
   "id": "chicken-chemical",
   "metadata": {
    "execution": {
     "iopub.execute_input": "2021-06-22T11:10:19.977663Z",
     "iopub.status.busy": "2021-06-22T11:10:19.977163Z",
     "iopub.status.idle": "2021-06-22T11:10:19.980970Z",
     "shell.execute_reply": "2021-06-22T11:10:19.980457Z",
     "shell.execute_reply.started": "2021-06-22T10:40:32.833071Z"
    },
    "papermill": {
     "duration": 0.017847,
     "end_time": "2021-06-22T11:10:19.981099",
     "exception": false,
     "start_time": "2021-06-22T11:10:19.963252",
     "status": "completed"
    },
    "tags": []
   },
   "outputs": [],
   "source": [
    "class DataGenerator(Dataset) :\n",
    "    \n",
    "    def __init__(self,texts,labels,tokenizer,max_len):\n",
    "        super(DataGenerator,self).__init__()\n",
    "        self.tokenizer = tokenizer \n",
    "        self.max_len = max_len \n",
    "        self.texts = texts\n",
    "        self.labels = labels\n",
    "    def __len__(self):\n",
    "        return len(self.texts)\n",
    "    def __getitem__(self,item):\n",
    "        encode = self.tokenizer(self.texts[item],return_tensors=\"pt\",max_length=self.max_len,\\\n",
    "                               padding =\"max_length\",truncation = True)\n",
    "        target = torch.tensor(self.labels[item],dtype=torch.float)\n",
    "        \n",
    "        return encode,target \n",
    "            \n",
    "        "
   ]
  },
  {
   "cell_type": "code",
   "execution_count": 8,
   "id": "competent-stamp",
   "metadata": {
    "execution": {
     "iopub.execute_input": "2021-06-22T11:10:20.005334Z",
     "iopub.status.busy": "2021-06-22T11:10:20.004156Z",
     "iopub.status.idle": "2021-06-22T11:10:20.006450Z",
     "shell.execute_reply": "2021-06-22T11:10:20.006807Z",
     "shell.execute_reply.started": "2021-06-22T10:40:32.843811Z"
    },
    "papermill": {
     "duration": 0.016812,
     "end_time": "2021-06-22T11:10:20.006918",
     "exception": false,
     "start_time": "2021-06-22T11:10:19.990106",
     "status": "completed"
    },
    "tags": []
   },
   "outputs": [],
   "source": [
    "class AttentionHead(nn.Module) :\n",
    "    def __init__(self,in_features,hidden_dim,num_target):\n",
    "        super(AttentionHead,self).__init__()\n",
    "        self.in_features = in_features \n",
    "        self.hidden_dim = hidden_dim \n",
    "        self.num_target = num_target \n",
    "        self.W = nn.Linear(in_features,hidden_dim)\n",
    "        self.V = nn.Linear(hidden_dim,1)\n",
    "    def forward(self,features) :\n",
    "        att = torch.tanh(self.W(features))\n",
    "        score = self.V(att)\n",
    "        attention_weights = torch.softmax(score,dim=1)\n",
    "        context_vector = attention_weights * features \n",
    "        context_vector = torch.sum(context_vector,axis=1)\n",
    "        \n",
    "        return context_vector"
   ]
  },
  {
   "cell_type": "code",
   "execution_count": 9,
   "id": "laughing-metropolitan",
   "metadata": {
    "execution": {
     "iopub.execute_input": "2021-06-22T11:10:20.029913Z",
     "iopub.status.busy": "2021-06-22T11:10:20.029430Z",
     "iopub.status.idle": "2021-06-22T11:10:20.033002Z",
     "shell.execute_reply": "2021-06-22T11:10:20.032604Z",
     "shell.execute_reply.started": "2021-06-22T10:40:32.853009Z"
    },
    "papermill": {
     "duration": 0.017348,
     "end_time": "2021-06-22T11:10:20.033103",
     "exception": false,
     "start_time": "2021-06-22T11:10:20.015755",
     "status": "completed"
    },
    "tags": []
   },
   "outputs": [],
   "source": [
    "class roberta(nn.Module) :\n",
    "    \n",
    "    def __init__(self,path):\n",
    "        super(roberta,self).__init__()\n",
    "        self.pret_layer = AutoModel.from_pretrained(path,output_hidden_states = True)\n",
    "        self.dropout = nn.Dropout(p=0.1)\n",
    "        #self.batch_n = nn.BatchNorm2d()\n",
    "        self.linear = nn.Linear(768,1)\n",
    "        self.att = AttentionHead(768,768,1)\n",
    "    def forward(self,**xd):\n",
    "        x = self.pret_layer(**xd)[0]\n",
    "        x = self.att(x)\n",
    "        x = self.dropout(x)\n",
    "        x = self.linear(x)\n",
    "        return x "
   ]
  },
  {
   "cell_type": "code",
   "execution_count": 10,
   "id": "front-launch",
   "metadata": {
    "execution": {
     "iopub.execute_input": "2021-06-22T11:10:20.098731Z",
     "iopub.status.busy": "2021-06-22T11:10:20.098062Z",
     "iopub.status.idle": "2021-06-22T11:10:20.101266Z",
     "shell.execute_reply": "2021-06-22T11:10:20.101814Z",
     "shell.execute_reply.started": "2021-06-22T10:40:32.864502Z"
    },
    "papermill": {
     "duration": 0.060058,
     "end_time": "2021-06-22T11:10:20.101990",
     "exception": false,
     "start_time": "2021-06-22T11:10:20.041932",
     "status": "completed"
    },
    "tags": []
   },
   "outputs": [
    {
     "name": "stdout",
     "output_type": "stream",
     "text": [
      "We use cuda device\n"
     ]
    }
   ],
   "source": [
    "if torch.cuda.is_available():\n",
    "    device = torch.device(\"cuda\")\n",
    "    print(\"We use cuda device\")\n",
    "else :\n",
    "    device = torch.device(\"cpu\")\n",
    "    print(\"No cuda is available , we use CPU instead !\")"
   ]
  },
  {
   "cell_type": "code",
   "execution_count": 11,
   "id": "dedicated-marijuana",
   "metadata": {
    "execution": {
     "iopub.execute_input": "2021-06-22T11:10:20.139898Z",
     "iopub.status.busy": "2021-06-22T11:10:20.135185Z",
     "iopub.status.idle": "2021-06-22T11:10:20.142397Z",
     "shell.execute_reply": "2021-06-22T11:10:20.141895Z",
     "shell.execute_reply.started": "2021-06-22T10:41:40.917883Z"
    },
    "papermill": {
     "duration": 0.02996,
     "end_time": "2021-06-22T11:10:20.142494",
     "exception": false,
     "start_time": "2021-06-22T11:10:20.112534",
     "status": "completed"
    },
    "tags": []
   },
   "outputs": [],
   "source": [
    "def create_dataloader(texts,labels,tokenizer) :\n",
    "    dataset = DataGenerator(texts,labels,tokenizer,config[\"max_len\"])\n",
    "    dataloader = DataLoader(dataset,batch_size = config[\"batch_size\"],shuffle=False,\\\n",
    "                           num_workers = 4)\n",
    "    return dataloader\n",
    "def train_and_evaluate_loop(tr_loader,val_loader,device,md,optimizer,best_loss,epoch,fold,tokenizer,\\\n",
    "                            verbose=True) :\n",
    "    train_loss = 0\n",
    "    for i,(inp_data ,inp_target) in enumerate(tr_loader) :\n",
    "        md.train()\n",
    "        optimizer.zero_grad()\n",
    "        #X_id,X_mask,Y = (t.to(device) for t in data)\n",
    "        inp_data = {key : vl.reshape(vl.shape[0],-1).to(device) for (key,vl) in inp_data.items()}\n",
    "        Y = inp_target.to(device)\n",
    "        # compute_prediction \n",
    "        output = md(**inp_data)\n",
    "        loss = loss_fn(output.float(),Y.float())\n",
    "        #backpropagation\n",
    "        loss.backward()\n",
    "        optimizer.step()\n",
    "        \n",
    "        train_loss += loss.item()\n",
    "        \n",
    "        if (i+1) == len(tr_loader) :\n",
    "            \n",
    "            md.eval()\n",
    "            val_loss = 0\n",
    "            \n",
    "            for i , (dt_inp,dt_target) in enumerate(val_loader) :\n",
    "                #X_val,Y_val = (t.to(device) for t in dt)\n",
    "                Y_val = dt_target.to(device)\n",
    "                dt_inp = {key:val.reshape(val.shape[0],-1).to(device) for (key,val) in dt_inp.items()}\n",
    "                with torch.no_grad() :\n",
    "                    out = md(**dt_inp)\n",
    "                    loss_v = loss_fn(out.float(),Y_val.float())\n",
    "                    val_loss += loss_v \n",
    "            \n",
    "            val_loss /= len(val_loader)\n",
    "            \n",
    "            if verbose :\n",
    "                print(f\"Epoch {epoch} : | Train Loss : {train_loss/len(tr_loader)}\")\n",
    "                print(f\"Epoch {epoch} : | Val Loss : {val_loss}\")\n",
    "                if val_loss < best_loss :\n",
    "                    torch.save(md.state_dict(),f\"./model{fold}/model{fold}.bin\")\n",
    "                    tokenizer.save_pretrained(f\"./model{fold}\")\n",
    "                    print(f\"{g_}best validation loss decreased from {best_loss} to {val_loss}{sr_}\")\n",
    "                    best_loss = val_loss\n",
    "                      \n",
    "    return best_loss    \n",
    "    \n",
    "def run(st,device,path=\"../input/roberta-training/clrp_roberta_base_chk/\") :\n",
    "    tokenizer = AutoTokenizer.from_pretrained(\"roberta-base\")\n",
    "    for fold , (tr_ind,val_ind) in enumerate(st.split(train_data[\"cleaned_excerpt\"],\\\n",
    "                                                      train_data[\"bins_target\"])) :\n",
    "        \n",
    "        texts_tr = train_data.reset_index(drop=True).loc[tr_ind,\"cleaned_excerpt\"].values\n",
    "        texts_val = train_data.reset_index(drop=True).loc[val_ind,\"cleaned_excerpt\"].values\n",
    "    \n",
    "        labels_tr = train_data.reset_index(drop=True).loc[tr_ind,\"target\"].values\n",
    "        labels_val = train_data.reset_index(drop=True).loc[val_ind,\"target\"].values\n",
    "        \n",
    "        tr_dataloader = create_dataloader(texts_tr,labels_tr,tokenizer)\n",
    "        val_dataloader = create_dataloader(texts_val,labels_val,tokenizer)\n",
    "        \n",
    "        md = roberta(path).to(device)\n",
    "        opt = AdamW(md.parameters(),lr=config[\"lr\"],weight_decay=config[\"wd\"])\n",
    "        lr_scheduler = get_cosine_schedule_with_warmup(opt,num_warmup_steps=0,num_training_steps= 25 * len(tr_dataloader))\n",
    "        best_loss = float(\"inf\")\n",
    "        os.makedirs(f\"model{fold}\",exist_ok=True)\n",
    "        print(f\"{r_}Fold {fold} Starting ...{sr_}\")\n",
    "        for ep in tqdm(range(config[\"epochs\"])) :\n",
    "            print(\"=\"*100)\n",
    "            print(\" \"*35,f\"Epoch {ep+1} : Train & Validation \")\n",
    "            print(\"=\"*100)\n",
    "            best_loss = train_and_evaluate_loop(tr_dataloader,val_dataloader,device,md,opt,best_loss,ep+1,\\\n",
    "                                                fold,tokenizer)\n",
    "                      "
   ]
  },
  {
   "cell_type": "code",
   "execution_count": 12,
   "id": "greenhouse-yorkshire",
   "metadata": {
    "execution": {
     "iopub.execute_input": "2021-06-22T11:10:20.164335Z",
     "iopub.status.busy": "2021-06-22T11:10:20.163602Z",
     "iopub.status.idle": "2021-06-22T11:38:08.696362Z",
     "shell.execute_reply": "2021-06-22T11:38:08.696934Z",
     "shell.execute_reply.started": "2021-06-22T10:41:48.164315Z"
    },
    "papermill": {
     "duration": 1668.545571,
     "end_time": "2021-06-22T11:38:08.697166",
     "exception": false,
     "start_time": "2021-06-22T11:10:20.151595",
     "status": "completed"
    },
    "tags": []
   },
   "outputs": [
    {
     "data": {
      "application/vnd.jupyter.widget-view+json": {
       "model_id": "ccd3680b87fc481ca3890cbf28bcdfbf",
       "version_major": 2,
       "version_minor": 0
      },
      "text/plain": [
       "Downloading:   0%|          | 0.00/481 [00:00<?, ?B/s]"
      ]
     },
     "metadata": {},
     "output_type": "display_data"
    },
    {
     "data": {
      "application/vnd.jupyter.widget-view+json": {
       "model_id": "6af2e7df88244faaa49e44af93beab5e",
       "version_major": 2,
       "version_minor": 0
      },
      "text/plain": [
       "Downloading:   0%|          | 0.00/899k [00:00<?, ?B/s]"
      ]
     },
     "metadata": {},
     "output_type": "display_data"
    },
    {
     "data": {
      "application/vnd.jupyter.widget-view+json": {
       "model_id": "ee6eb7ba6404465a9e3b51949433fc57",
       "version_major": 2,
       "version_minor": 0
      },
      "text/plain": [
       "Downloading:   0%|          | 0.00/456k [00:00<?, ?B/s]"
      ]
     },
     "metadata": {},
     "output_type": "display_data"
    },
    {
     "data": {
      "application/vnd.jupyter.widget-view+json": {
       "model_id": "8996c17aa9d54be5aadcbec6226ae554",
       "version_major": 2,
       "version_minor": 0
      },
      "text/plain": [
       "Downloading:   0%|          | 0.00/1.36M [00:00<?, ?B/s]"
      ]
     },
     "metadata": {},
     "output_type": "display_data"
    },
    {
     "name": "stderr",
     "output_type": "stream",
     "text": [
      "Some weights of RobertaModel were not initialized from the model checkpoint at ../input/roberta-training/clrp_roberta_base_chk/ and are newly initialized: ['roberta.pooler.dense.weight', 'roberta.pooler.dense.bias']\n",
      "You should probably TRAIN this model on a down-stream task to be able to use it for predictions and inference.\n",
      "  0%|          | 0/5 [00:00<?, ?it/s]"
     ]
    },
    {
     "name": "stdout",
     "output_type": "stream",
     "text": [
      "\u001b[31mFold 0 Starting ...\u001b[0m\n",
      "====================================================================================================\n",
      "                                    Epoch 1 : Train & Validation \n",
      "====================================================================================================\n",
      "Epoch 1 : | Train Loss : 0.7161814381538982\n",
      "Epoch 1 : | Val Loss : 0.8608529567718506\n"
     ]
    },
    {
     "name": "stderr",
     "output_type": "stream",
     "text": [
      " 20%|██        | 1/5 [01:06<04:26, 66.74s/it]"
     ]
    },
    {
     "name": "stdout",
     "output_type": "stream",
     "text": [
      "\u001b[32mbest validation loss decreased from inf to 0.8608529567718506\u001b[0m\n",
      "====================================================================================================\n",
      "                                    Epoch 2 : Train & Validation \n",
      "====================================================================================================\n"
     ]
    },
    {
     "name": "stderr",
     "output_type": "stream",
     "text": [
      " 40%|████      | 2/5 [02:11<03:15, 65.31s/it]"
     ]
    },
    {
     "name": "stdout",
     "output_type": "stream",
     "text": [
      "Epoch 2 : | Train Loss : 0.5788266257920736\n",
      "Epoch 2 : | Val Loss : 0.8712576031684875\n",
      "====================================================================================================\n",
      "                                    Epoch 3 : Train & Validation \n",
      "====================================================================================================\n",
      "Epoch 3 : | Train Loss : 0.498326729300996\n",
      "Epoch 3 : | Val Loss : 0.6953274607658386\n"
     ]
    },
    {
     "name": "stderr",
     "output_type": "stream",
     "text": [
      " 60%|██████    | 3/5 [03:17<02:11, 65.67s/it]"
     ]
    },
    {
     "name": "stdout",
     "output_type": "stream",
     "text": [
      "\u001b[32mbest validation loss decreased from 0.8608529567718506 to 0.6953274607658386\u001b[0m\n",
      "====================================================================================================\n",
      "                                    Epoch 4 : Train & Validation \n",
      "====================================================================================================\n",
      "Epoch 4 : | Train Loss : 0.4962921383934961\n",
      "Epoch 4 : | Val Loss : 0.638544499874115\n"
     ]
    },
    {
     "name": "stderr",
     "output_type": "stream",
     "text": [
      " 80%|████████  | 4/5 [04:23<01:05, 65.82s/it]"
     ]
    },
    {
     "name": "stdout",
     "output_type": "stream",
     "text": [
      "\u001b[32mbest validation loss decreased from 0.6953274607658386 to 0.638544499874115\u001b[0m\n",
      "====================================================================================================\n",
      "                                    Epoch 5 : Train & Validation \n",
      "====================================================================================================\n"
     ]
    },
    {
     "name": "stderr",
     "output_type": "stream",
     "text": [
      "100%|██████████| 5/5 [05:27<00:00, 65.48s/it]"
     ]
    },
    {
     "name": "stdout",
     "output_type": "stream",
     "text": [
      "Epoch 5 : | Train Loss : 0.4204038507501844\n",
      "Epoch 5 : | Val Loss : 0.6402451395988464\n"
     ]
    },
    {
     "name": "stderr",
     "output_type": "stream",
     "text": [
      "\n",
      "Some weights of RobertaModel were not initialized from the model checkpoint at ../input/roberta-training/clrp_roberta_base_chk/ and are newly initialized: ['roberta.pooler.dense.weight', 'roberta.pooler.dense.bias']\n",
      "You should probably TRAIN this model on a down-stream task to be able to use it for predictions and inference.\n",
      "  0%|          | 0/5 [00:00<?, ?it/s]"
     ]
    },
    {
     "name": "stdout",
     "output_type": "stream",
     "text": [
      "\u001b[31mFold 1 Starting ...\u001b[0m\n",
      "====================================================================================================\n",
      "                                    Epoch 1 : Train & Validation \n",
      "====================================================================================================\n",
      "Epoch 1 : | Train Loss : 0.6748804057567892\n",
      "Epoch 1 : | Val Loss : 0.9498304724693298\n"
     ]
    },
    {
     "name": "stderr",
     "output_type": "stream",
     "text": [
      " 20%|██        | 1/5 [01:05<04:22, 65.55s/it]"
     ]
    },
    {
     "name": "stdout",
     "output_type": "stream",
     "text": [
      "\u001b[32mbest validation loss decreased from inf to 0.9498304724693298\u001b[0m\n",
      "====================================================================================================\n",
      "                                    Epoch 2 : Train & Validation \n",
      "====================================================================================================\n",
      "Epoch 2 : | Train Loss : 0.5658780273417352\n",
      "Epoch 2 : | Val Loss : 0.6140304803848267\n"
     ]
    },
    {
     "name": "stderr",
     "output_type": "stream",
     "text": [
      " 40%|████      | 2/5 [02:11<03:17, 65.75s/it]"
     ]
    },
    {
     "name": "stdout",
     "output_type": "stream",
     "text": [
      "\u001b[32mbest validation loss decreased from 0.9498304724693298 to 0.6140304803848267\u001b[0m\n",
      "====================================================================================================\n",
      "                                    Epoch 3 : Train & Validation \n",
      "====================================================================================================\n"
     ]
    },
    {
     "name": "stderr",
     "output_type": "stream",
     "text": [
      " 60%|██████    | 3/5 [03:15<02:10, 65.06s/it]"
     ]
    },
    {
     "name": "stdout",
     "output_type": "stream",
     "text": [
      "Epoch 3 : | Train Loss : 0.5033807826923652\n",
      "Epoch 3 : | Val Loss : 0.741830587387085\n",
      "====================================================================================================\n",
      "                                    Epoch 4 : Train & Validation \n",
      "====================================================================================================\n"
     ]
    },
    {
     "name": "stderr",
     "output_type": "stream",
     "text": [
      " 80%|████████  | 4/5 [04:19<01:04, 64.76s/it]"
     ]
    },
    {
     "name": "stdout",
     "output_type": "stream",
     "text": [
      "Epoch 4 : | Train Loss : 0.41658109583905045\n",
      "Epoch 4 : | Val Loss : 0.9114920496940613\n",
      "====================================================================================================\n",
      "                                    Epoch 5 : Train & Validation \n",
      "====================================================================================================\n"
     ]
    },
    {
     "name": "stderr",
     "output_type": "stream",
     "text": [
      "100%|██████████| 5/5 [05:24<00:00, 64.85s/it]"
     ]
    },
    {
     "name": "stdout",
     "output_type": "stream",
     "text": [
      "Epoch 5 : | Train Loss : 0.3798221123050636\n",
      "Epoch 5 : | Val Loss : 0.7816985845565796\n"
     ]
    },
    {
     "name": "stderr",
     "output_type": "stream",
     "text": [
      "\n",
      "Some weights of RobertaModel were not initialized from the model checkpoint at ../input/roberta-training/clrp_roberta_base_chk/ and are newly initialized: ['roberta.pooler.dense.weight', 'roberta.pooler.dense.bias']\n",
      "You should probably TRAIN this model on a down-stream task to be able to use it for predictions and inference.\n",
      "  0%|          | 0/5 [00:00<?, ?it/s]"
     ]
    },
    {
     "name": "stdout",
     "output_type": "stream",
     "text": [
      "\u001b[31mFold 2 Starting ...\u001b[0m\n",
      "====================================================================================================\n",
      "                                    Epoch 1 : Train & Validation \n",
      "====================================================================================================\n",
      "Epoch 1 : | Train Loss : 0.6854136374215005\n",
      "Epoch 1 : | Val Loss : 0.9140220284461975\n"
     ]
    },
    {
     "name": "stderr",
     "output_type": "stream",
     "text": [
      " 20%|██        | 1/5 [01:05<04:22, 65.75s/it]"
     ]
    },
    {
     "name": "stdout",
     "output_type": "stream",
     "text": [
      "\u001b[32mbest validation loss decreased from inf to 0.9140220284461975\u001b[0m\n",
      "====================================================================================================\n",
      "                                    Epoch 2 : Train & Validation \n",
      "====================================================================================================\n",
      "Epoch 2 : | Train Loss : 0.5267930845139732\n",
      "Epoch 2 : | Val Loss : 0.8095553517341614\n"
     ]
    },
    {
     "name": "stderr",
     "output_type": "stream",
     "text": [
      " 40%|████      | 2/5 [02:12<03:18, 66.06s/it]"
     ]
    },
    {
     "name": "stdout",
     "output_type": "stream",
     "text": [
      "\u001b[32mbest validation loss decreased from 0.9140220284461975 to 0.8095553517341614\u001b[0m\n",
      "====================================================================================================\n",
      "                                    Epoch 3 : Train & Validation \n",
      "====================================================================================================\n",
      "Epoch 3 : | Train Loss : 0.5238513809064744\n",
      "Epoch 3 : | Val Loss : 0.5290573835372925\n"
     ]
    },
    {
     "name": "stderr",
     "output_type": "stream",
     "text": [
      " 60%|██████    | 3/5 [03:18<02:12, 66.10s/it]"
     ]
    },
    {
     "name": "stdout",
     "output_type": "stream",
     "text": [
      "\u001b[32mbest validation loss decreased from 0.8095553517341614 to 0.5290573835372925\u001b[0m\n",
      "====================================================================================================\n",
      "                                    Epoch 4 : Train & Validation \n",
      "====================================================================================================\n",
      "Epoch 4 : | Train Loss : 0.4416852213547263\n",
      "Epoch 4 : | Val Loss : 0.516528844833374\n"
     ]
    },
    {
     "name": "stderr",
     "output_type": "stream",
     "text": [
      " 80%|████████  | 4/5 [04:24<01:06, 66.12s/it]"
     ]
    },
    {
     "name": "stdout",
     "output_type": "stream",
     "text": [
      "\u001b[32mbest validation loss decreased from 0.5290573835372925 to 0.516528844833374\u001b[0m\n",
      "====================================================================================================\n",
      "                                    Epoch 5 : Train & Validation \n",
      "====================================================================================================\n"
     ]
    },
    {
     "name": "stderr",
     "output_type": "stream",
     "text": [
      "100%|██████████| 5/5 [05:28<00:00, 65.72s/it]"
     ]
    },
    {
     "name": "stdout",
     "output_type": "stream",
     "text": [
      "Epoch 5 : | Train Loss : 0.41788657009601593\n",
      "Epoch 5 : | Val Loss : 0.5519751310348511\n"
     ]
    },
    {
     "name": "stderr",
     "output_type": "stream",
     "text": [
      "\n",
      "Some weights of RobertaModel were not initialized from the model checkpoint at ../input/roberta-training/clrp_roberta_base_chk/ and are newly initialized: ['roberta.pooler.dense.weight', 'roberta.pooler.dense.bias']\n",
      "You should probably TRAIN this model on a down-stream task to be able to use it for predictions and inference.\n",
      "  0%|          | 0/5 [00:00<?, ?it/s]"
     ]
    },
    {
     "name": "stdout",
     "output_type": "stream",
     "text": [
      "\u001b[31mFold 3 Starting ...\u001b[0m\n",
      "====================================================================================================\n",
      "                                    Epoch 1 : Train & Validation \n",
      "====================================================================================================\n",
      "Epoch 1 : | Train Loss : 0.726289794058867\n",
      "Epoch 1 : | Val Loss : 0.6710468530654907\n"
     ]
    },
    {
     "name": "stderr",
     "output_type": "stream",
     "text": [
      " 20%|██        | 1/5 [01:05<04:22, 65.68s/it]"
     ]
    },
    {
     "name": "stdout",
     "output_type": "stream",
     "text": [
      "\u001b[32mbest validation loss decreased from inf to 0.6710468530654907\u001b[0m\n",
      "====================================================================================================\n",
      "                                    Epoch 2 : Train & Validation \n",
      "====================================================================================================\n"
     ]
    },
    {
     "name": "stderr",
     "output_type": "stream",
     "text": [
      " 40%|████      | 2/5 [02:09<03:14, 64.79s/it]"
     ]
    },
    {
     "name": "stdout",
     "output_type": "stream",
     "text": [
      "Epoch 2 : | Train Loss : 0.5561068255296895\n",
      "Epoch 2 : | Val Loss : 0.6864041090011597\n",
      "====================================================================================================\n",
      "                                    Epoch 3 : Train & Validation \n",
      "====================================================================================================\n"
     ]
    },
    {
     "name": "stderr",
     "output_type": "stream",
     "text": [
      " 60%|██████    | 3/5 [03:13<02:08, 64.49s/it]"
     ]
    },
    {
     "name": "stdout",
     "output_type": "stream",
     "text": [
      "Epoch 3 : | Train Loss : 0.46224618619176705\n",
      "Epoch 3 : | Val Loss : 0.7284156084060669\n",
      "====================================================================================================\n",
      "                                    Epoch 4 : Train & Validation \n",
      "====================================================================================================\n",
      "Epoch 4 : | Train Loss : 0.40700859051774924\n",
      "Epoch 4 : | Val Loss : 0.5809049606323242\n"
     ]
    },
    {
     "name": "stderr",
     "output_type": "stream",
     "text": [
      " 80%|████████  | 4/5 [04:20<01:05, 65.18s/it]"
     ]
    },
    {
     "name": "stdout",
     "output_type": "stream",
     "text": [
      "\u001b[32mbest validation loss decreased from 0.6710468530654907 to 0.5809049606323242\u001b[0m\n",
      "====================================================================================================\n",
      "                                    Epoch 5 : Train & Validation \n",
      "====================================================================================================\n"
     ]
    },
    {
     "name": "stderr",
     "output_type": "stream",
     "text": [
      "100%|██████████| 5/5 [05:24<00:00, 64.92s/it]"
     ]
    },
    {
     "name": "stdout",
     "output_type": "stream",
     "text": [
      "Epoch 5 : | Train Loss : 0.3853402627815663\n",
      "Epoch 5 : | Val Loss : 0.5891647934913635\n"
     ]
    },
    {
     "name": "stderr",
     "output_type": "stream",
     "text": [
      "\n",
      "Some weights of RobertaModel were not initialized from the model checkpoint at ../input/roberta-training/clrp_roberta_base_chk/ and are newly initialized: ['roberta.pooler.dense.weight', 'roberta.pooler.dense.bias']\n",
      "You should probably TRAIN this model on a down-stream task to be able to use it for predictions and inference.\n",
      "  0%|          | 0/5 [00:00<?, ?it/s]"
     ]
    },
    {
     "name": "stdout",
     "output_type": "stream",
     "text": [
      "\u001b[31mFold 4 Starting ...\u001b[0m\n",
      "====================================================================================================\n",
      "                                    Epoch 1 : Train & Validation \n",
      "====================================================================================================\n",
      "Epoch 1 : | Train Loss : 0.7666724521509358\n",
      "Epoch 1 : | Val Loss : 1.4729663133621216\n"
     ]
    },
    {
     "name": "stderr",
     "output_type": "stream",
     "text": [
      " 20%|██        | 1/5 [01:05<04:23, 65.91s/it]"
     ]
    },
    {
     "name": "stdout",
     "output_type": "stream",
     "text": [
      "\u001b[32mbest validation loss decreased from inf to 1.4729663133621216\u001b[0m\n",
      "====================================================================================================\n",
      "                                    Epoch 2 : Train & Validation \n",
      "====================================================================================================\n",
      "Epoch 2 : | Train Loss : 0.607243581976689\n",
      "Epoch 2 : | Val Loss : 0.8258786201477051\n"
     ]
    },
    {
     "name": "stderr",
     "output_type": "stream",
     "text": [
      " 40%|████      | 2/5 [02:12<03:18, 66.26s/it]"
     ]
    },
    {
     "name": "stdout",
     "output_type": "stream",
     "text": [
      "\u001b[32mbest validation loss decreased from 1.4729663133621216 to 0.8258786201477051\u001b[0m\n",
      "====================================================================================================\n",
      "                                    Epoch 3 : Train & Validation \n",
      "====================================================================================================\n",
      "Epoch 3 : | Train Loss : 0.5412815459807154\n",
      "Epoch 3 : | Val Loss : 0.8128378987312317\n"
     ]
    },
    {
     "name": "stderr",
     "output_type": "stream",
     "text": [
      " 60%|██████    | 3/5 [03:18<02:12, 66.23s/it]"
     ]
    },
    {
     "name": "stdout",
     "output_type": "stream",
     "text": [
      "\u001b[32mbest validation loss decreased from 0.8258786201477051 to 0.8128378987312317\u001b[0m\n",
      "====================================================================================================\n",
      "                                    Epoch 4 : Train & Validation \n",
      "====================================================================================================\n",
      "Epoch 4 : | Train Loss : 0.4601004965288538\n",
      "Epoch 4 : | Val Loss : 0.5476098656654358\n"
     ]
    },
    {
     "name": "stderr",
     "output_type": "stream",
     "text": [
      " 80%|████████  | 4/5 [04:24<01:06, 66.28s/it]"
     ]
    },
    {
     "name": "stdout",
     "output_type": "stream",
     "text": [
      "\u001b[32mbest validation loss decreased from 0.8128378987312317 to 0.5476098656654358\u001b[0m\n",
      "====================================================================================================\n",
      "                                    Epoch 5 : Train & Validation \n",
      "====================================================================================================\n",
      "Epoch 5 : | Train Loss : 0.4020189489697067\n",
      "Epoch 5 : | Val Loss : 0.5330884456634521\n"
     ]
    },
    {
     "name": "stderr",
     "output_type": "stream",
     "text": [
      "100%|██████████| 5/5 [05:31<00:00, 66.31s/it]"
     ]
    },
    {
     "name": "stdout",
     "output_type": "stream",
     "text": [
      "\u001b[32mbest validation loss decreased from 0.5476098656654358 to 0.5330884456634521\u001b[0m\n"
     ]
    },
    {
     "name": "stderr",
     "output_type": "stream",
     "text": [
      "\n"
     ]
    }
   ],
   "source": [
    "run(st,device)"
   ]
  }
 ],
 "metadata": {
  "kernelspec": {
   "display_name": "Python 3",
   "language": "python",
   "name": "python3"
  },
  "language_info": {
   "codemirror_mode": {
    "name": "ipython",
    "version": 3
   },
   "file_extension": ".py",
   "mimetype": "text/x-python",
   "name": "python",
   "nbconvert_exporter": "python",
   "pygments_lexer": "ipython3",
   "version": "3.7.10"
  },
  "papermill": {
   "default_parameters": {},
   "duration": 1686.168797,
   "end_time": "2021-06-22T11:38:11.403968",
   "environment_variables": {},
   "exception": null,
   "input_path": "__notebook__.ipynb",
   "output_path": "__notebook__.ipynb",
   "parameters": {},
   "start_time": "2021-06-22T11:10:05.235171",
   "version": "2.3.3"
  },
  "widgets": {
   "application/vnd.jupyter.widget-state+json": {
    "state": {
     "004fab9b62dd405d9f2200e44cd17199": {
      "model_module": "@jupyter-widgets/controls",
      "model_module_version": "1.5.0",
      "model_name": "HTMLModel",
      "state": {
       "_dom_classes": [],
       "_model_module": "@jupyter-widgets/controls",
       "_model_module_version": "1.5.0",
       "_model_name": "HTMLModel",
       "_view_count": null,
       "_view_module": "@jupyter-widgets/controls",
       "_view_module_version": "1.5.0",
       "_view_name": "HTMLView",
       "description": "",
       "description_tooltip": null,
       "layout": "IPY_MODEL_1cdea32963df43d0b01ff99c0781f641",
       "placeholder": "​",
       "style": "IPY_MODEL_c1232c41f0ba45e98dfaf78f3d8bb01f",
       "value": "Downloading: 100%"
      }
     },
     "01e9459ddedf4d95b7c0bb70b291da52": {
      "model_module": "@jupyter-widgets/base",
      "model_module_version": "1.2.0",
      "model_name": "LayoutModel",
      "state": {
       "_model_module": "@jupyter-widgets/base",
       "_model_module_version": "1.2.0",
       "_model_name": "LayoutModel",
       "_view_count": null,
       "_view_module": "@jupyter-widgets/base",
       "_view_module_version": "1.2.0",
       "_view_name": "LayoutView",
       "align_content": null,
       "align_items": null,
       "align_self": null,
       "border": null,
       "bottom": null,
       "display": null,
       "flex": null,
       "flex_flow": null,
       "grid_area": null,
       "grid_auto_columns": null,
       "grid_auto_flow": null,
       "grid_auto_rows": null,
       "grid_column": null,
       "grid_gap": null,
       "grid_row": null,
       "grid_template_areas": null,
       "grid_template_columns": null,
       "grid_template_rows": null,
       "height": null,
       "justify_content": null,
       "justify_items": null,
       "left": null,
       "margin": null,
       "max_height": null,
       "max_width": null,
       "min_height": null,
       "min_width": null,
       "object_fit": null,
       "object_position": null,
       "order": null,
       "overflow": null,
       "overflow_x": null,
       "overflow_y": null,
       "padding": null,
       "right": null,
       "top": null,
       "visibility": null,
       "width": null
      }
     },
     "06ee58e897b1488bb351bdcfa9b39fc0": {
      "model_module": "@jupyter-widgets/base",
      "model_module_version": "1.2.0",
      "model_name": "LayoutModel",
      "state": {
       "_model_module": "@jupyter-widgets/base",
       "_model_module_version": "1.2.0",
       "_model_name": "LayoutModel",
       "_view_count": null,
       "_view_module": "@jupyter-widgets/base",
       "_view_module_version": "1.2.0",
       "_view_name": "LayoutView",
       "align_content": null,
       "align_items": null,
       "align_self": null,
       "border": null,
       "bottom": null,
       "display": null,
       "flex": null,
       "flex_flow": null,
       "grid_area": null,
       "grid_auto_columns": null,
       "grid_auto_flow": null,
       "grid_auto_rows": null,
       "grid_column": null,
       "grid_gap": null,
       "grid_row": null,
       "grid_template_areas": null,
       "grid_template_columns": null,
       "grid_template_rows": null,
       "height": null,
       "justify_content": null,
       "justify_items": null,
       "left": null,
       "margin": null,
       "max_height": null,
       "max_width": null,
       "min_height": null,
       "min_width": null,
       "object_fit": null,
       "object_position": null,
       "order": null,
       "overflow": null,
       "overflow_x": null,
       "overflow_y": null,
       "padding": null,
       "right": null,
       "top": null,
       "visibility": null,
       "width": null
      }
     },
     "131f8ee8d2eb4f59aefa3790ce76ee44": {
      "model_module": "@jupyter-widgets/controls",
      "model_module_version": "1.5.0",
      "model_name": "DescriptionStyleModel",
      "state": {
       "_model_module": "@jupyter-widgets/controls",
       "_model_module_version": "1.5.0",
       "_model_name": "DescriptionStyleModel",
       "_view_count": null,
       "_view_module": "@jupyter-widgets/base",
       "_view_module_version": "1.2.0",
       "_view_name": "StyleView",
       "description_width": ""
      }
     },
     "1553a9bb92444337b25e158aebdc43a8": {
      "model_module": "@jupyter-widgets/controls",
      "model_module_version": "1.5.0",
      "model_name": "DescriptionStyleModel",
      "state": {
       "_model_module": "@jupyter-widgets/controls",
       "_model_module_version": "1.5.0",
       "_model_name": "DescriptionStyleModel",
       "_view_count": null,
       "_view_module": "@jupyter-widgets/base",
       "_view_module_version": "1.2.0",
       "_view_name": "StyleView",
       "description_width": ""
      }
     },
     "1992e52f4a0c4643bf838c3f17d29432": {
      "model_module": "@jupyter-widgets/controls",
      "model_module_version": "1.5.0",
      "model_name": "DescriptionStyleModel",
      "state": {
       "_model_module": "@jupyter-widgets/controls",
       "_model_module_version": "1.5.0",
       "_model_name": "DescriptionStyleModel",
       "_view_count": null,
       "_view_module": "@jupyter-widgets/base",
       "_view_module_version": "1.2.0",
       "_view_name": "StyleView",
       "description_width": ""
      }
     },
     "1ad0bb84c59b4982b20109f28a1b8492": {
      "model_module": "@jupyter-widgets/base",
      "model_module_version": "1.2.0",
      "model_name": "LayoutModel",
      "state": {
       "_model_module": "@jupyter-widgets/base",
       "_model_module_version": "1.2.0",
       "_model_name": "LayoutModel",
       "_view_count": null,
       "_view_module": "@jupyter-widgets/base",
       "_view_module_version": "1.2.0",
       "_view_name": "LayoutView",
       "align_content": null,
       "align_items": null,
       "align_self": null,
       "border": null,
       "bottom": null,
       "display": null,
       "flex": null,
       "flex_flow": null,
       "grid_area": null,
       "grid_auto_columns": null,
       "grid_auto_flow": null,
       "grid_auto_rows": null,
       "grid_column": null,
       "grid_gap": null,
       "grid_row": null,
       "grid_template_areas": null,
       "grid_template_columns": null,
       "grid_template_rows": null,
       "height": null,
       "justify_content": null,
       "justify_items": null,
       "left": null,
       "margin": null,
       "max_height": null,
       "max_width": null,
       "min_height": null,
       "min_width": null,
       "object_fit": null,
       "object_position": null,
       "order": null,
       "overflow": null,
       "overflow_x": null,
       "overflow_y": null,
       "padding": null,
       "right": null,
       "top": null,
       "visibility": null,
       "width": null
      }
     },
     "1cdea32963df43d0b01ff99c0781f641": {
      "model_module": "@jupyter-widgets/base",
      "model_module_version": "1.2.0",
      "model_name": "LayoutModel",
      "state": {
       "_model_module": "@jupyter-widgets/base",
       "_model_module_version": "1.2.0",
       "_model_name": "LayoutModel",
       "_view_count": null,
       "_view_module": "@jupyter-widgets/base",
       "_view_module_version": "1.2.0",
       "_view_name": "LayoutView",
       "align_content": null,
       "align_items": null,
       "align_self": null,
       "border": null,
       "bottom": null,
       "display": null,
       "flex": null,
       "flex_flow": null,
       "grid_area": null,
       "grid_auto_columns": null,
       "grid_auto_flow": null,
       "grid_auto_rows": null,
       "grid_column": null,
       "grid_gap": null,
       "grid_row": null,
       "grid_template_areas": null,
       "grid_template_columns": null,
       "grid_template_rows": null,
       "height": null,
       "justify_content": null,
       "justify_items": null,
       "left": null,
       "margin": null,
       "max_height": null,
       "max_width": null,
       "min_height": null,
       "min_width": null,
       "object_fit": null,
       "object_position": null,
       "order": null,
       "overflow": null,
       "overflow_x": null,
       "overflow_y": null,
       "padding": null,
       "right": null,
       "top": null,
       "visibility": null,
       "width": null
      }
     },
     "281792bc179742d2a4f6be7cdb9d2d61": {
      "model_module": "@jupyter-widgets/controls",
      "model_module_version": "1.5.0",
      "model_name": "HTMLModel",
      "state": {
       "_dom_classes": [],
       "_model_module": "@jupyter-widgets/controls",
       "_model_module_version": "1.5.0",
       "_model_name": "HTMLModel",
       "_view_count": null,
       "_view_module": "@jupyter-widgets/controls",
       "_view_module_version": "1.5.0",
       "_view_name": "HTMLView",
       "description": "",
       "description_tooltip": null,
       "layout": "IPY_MODEL_99df51ede81646d4a31e308df66983ce",
       "placeholder": "​",
       "style": "IPY_MODEL_1992e52f4a0c4643bf838c3f17d29432",
       "value": "Downloading: 100%"
      }
     },
     "462b19527dee47258ef24f51c8f65e08": {
      "model_module": "@jupyter-widgets/base",
      "model_module_version": "1.2.0",
      "model_name": "LayoutModel",
      "state": {
       "_model_module": "@jupyter-widgets/base",
       "_model_module_version": "1.2.0",
       "_model_name": "LayoutModel",
       "_view_count": null,
       "_view_module": "@jupyter-widgets/base",
       "_view_module_version": "1.2.0",
       "_view_name": "LayoutView",
       "align_content": null,
       "align_items": null,
       "align_self": null,
       "border": null,
       "bottom": null,
       "display": null,
       "flex": null,
       "flex_flow": null,
       "grid_area": null,
       "grid_auto_columns": null,
       "grid_auto_flow": null,
       "grid_auto_rows": null,
       "grid_column": null,
       "grid_gap": null,
       "grid_row": null,
       "grid_template_areas": null,
       "grid_template_columns": null,
       "grid_template_rows": null,
       "height": null,
       "justify_content": null,
       "justify_items": null,
       "left": null,
       "margin": null,
       "max_height": null,
       "max_width": null,
       "min_height": null,
       "min_width": null,
       "object_fit": null,
       "object_position": null,
       "order": null,
       "overflow": null,
       "overflow_x": null,
       "overflow_y": null,
       "padding": null,
       "right": null,
       "top": null,
       "visibility": null,
       "width": null
      }
     },
     "48f1a926d66f4f13a8ec54a5086e954e": {
      "model_module": "@jupyter-widgets/controls",
      "model_module_version": "1.5.0",
      "model_name": "DescriptionStyleModel",
      "state": {
       "_model_module": "@jupyter-widgets/controls",
       "_model_module_version": "1.5.0",
       "_model_name": "DescriptionStyleModel",
       "_view_count": null,
       "_view_module": "@jupyter-widgets/base",
       "_view_module_version": "1.2.0",
       "_view_name": "StyleView",
       "description_width": ""
      }
     },
     "490b7494d3c548a5bdf32c4932f4cff3": {
      "model_module": "@jupyter-widgets/controls",
      "model_module_version": "1.5.0",
      "model_name": "DescriptionStyleModel",
      "state": {
       "_model_module": "@jupyter-widgets/controls",
       "_model_module_version": "1.5.0",
       "_model_name": "DescriptionStyleModel",
       "_view_count": null,
       "_view_module": "@jupyter-widgets/base",
       "_view_module_version": "1.2.0",
       "_view_name": "StyleView",
       "description_width": ""
      }
     },
     "5741a4a8b81c4d49b63a6619345ce6b7": {
      "model_module": "@jupyter-widgets/controls",
      "model_module_version": "1.5.0",
      "model_name": "ProgressStyleModel",
      "state": {
       "_model_module": "@jupyter-widgets/controls",
       "_model_module_version": "1.5.0",
       "_model_name": "ProgressStyleModel",
       "_view_count": null,
       "_view_module": "@jupyter-widgets/base",
       "_view_module_version": "1.2.0",
       "_view_name": "StyleView",
       "bar_color": null,
       "description_width": ""
      }
     },
     "576b79be1a304dd3b284b73f91efeb61": {
      "model_module": "@jupyter-widgets/controls",
      "model_module_version": "1.5.0",
      "model_name": "FloatProgressModel",
      "state": {
       "_dom_classes": [],
       "_model_module": "@jupyter-widgets/controls",
       "_model_module_version": "1.5.0",
       "_model_name": "FloatProgressModel",
       "_view_count": null,
       "_view_module": "@jupyter-widgets/controls",
       "_view_module_version": "1.5.0",
       "_view_name": "ProgressView",
       "bar_style": "success",
       "description": "",
       "description_tooltip": null,
       "layout": "IPY_MODEL_b052f9d1f7924130b00e32a3874e50fa",
       "max": 898823.0,
       "min": 0.0,
       "orientation": "horizontal",
       "style": "IPY_MODEL_a2e070c1899a48f39d05dfd528834225",
       "value": 898823.0
      }
     },
     "57e8a4e18b5e43aca91cf4b5f57d3d87": {
      "model_module": "@jupyter-widgets/controls",
      "model_module_version": "1.5.0",
      "model_name": "FloatProgressModel",
      "state": {
       "_dom_classes": [],
       "_model_module": "@jupyter-widgets/controls",
       "_model_module_version": "1.5.0",
       "_model_name": "FloatProgressModel",
       "_view_count": null,
       "_view_module": "@jupyter-widgets/controls",
       "_view_module_version": "1.5.0",
       "_view_name": "ProgressView",
       "bar_style": "success",
       "description": "",
       "description_tooltip": null,
       "layout": "IPY_MODEL_fcb9f2afe00244418663c1cdea82684a",
       "max": 456318.0,
       "min": 0.0,
       "orientation": "horizontal",
       "style": "IPY_MODEL_b5c33b71ce5046418cc0881d538e63f0",
       "value": 456318.0
      }
     },
     "63d60ef18fe34901a535ef6bc4dbe359": {
      "model_module": "@jupyter-widgets/base",
      "model_module_version": "1.2.0",
      "model_name": "LayoutModel",
      "state": {
       "_model_module": "@jupyter-widgets/base",
       "_model_module_version": "1.2.0",
       "_model_name": "LayoutModel",
       "_view_count": null,
       "_view_module": "@jupyter-widgets/base",
       "_view_module_version": "1.2.0",
       "_view_name": "LayoutView",
       "align_content": null,
       "align_items": null,
       "align_self": null,
       "border": null,
       "bottom": null,
       "display": null,
       "flex": null,
       "flex_flow": null,
       "grid_area": null,
       "grid_auto_columns": null,
       "grid_auto_flow": null,
       "grid_auto_rows": null,
       "grid_column": null,
       "grid_gap": null,
       "grid_row": null,
       "grid_template_areas": null,
       "grid_template_columns": null,
       "grid_template_rows": null,
       "height": null,
       "justify_content": null,
       "justify_items": null,
       "left": null,
       "margin": null,
       "max_height": null,
       "max_width": null,
       "min_height": null,
       "min_width": null,
       "object_fit": null,
       "object_position": null,
       "order": null,
       "overflow": null,
       "overflow_x": null,
       "overflow_y": null,
       "padding": null,
       "right": null,
       "top": null,
       "visibility": null,
       "width": null
      }
     },
     "6af2e7df88244faaa49e44af93beab5e": {
      "model_module": "@jupyter-widgets/controls",
      "model_module_version": "1.5.0",
      "model_name": "HBoxModel",
      "state": {
       "_dom_classes": [],
       "_model_module": "@jupyter-widgets/controls",
       "_model_module_version": "1.5.0",
       "_model_name": "HBoxModel",
       "_view_count": null,
       "_view_module": "@jupyter-widgets/controls",
       "_view_module_version": "1.5.0",
       "_view_name": "HBoxView",
       "box_style": "",
       "children": [
        "IPY_MODEL_dfca7f58e6b9418d9d2bc4c5a57b2ba9",
        "IPY_MODEL_576b79be1a304dd3b284b73f91efeb61",
        "IPY_MODEL_ef220dea4d0d4fd4b063b46b58ec6c14"
       ],
       "layout": "IPY_MODEL_1ad0bb84c59b4982b20109f28a1b8492"
      }
     },
     "6f5bb0847f944ab7b77f1fbd64a1a91c": {
      "model_module": "@jupyter-widgets/controls",
      "model_module_version": "1.5.0",
      "model_name": "FloatProgressModel",
      "state": {
       "_dom_classes": [],
       "_model_module": "@jupyter-widgets/controls",
       "_model_module_version": "1.5.0",
       "_model_name": "FloatProgressModel",
       "_view_count": null,
       "_view_module": "@jupyter-widgets/controls",
       "_view_module_version": "1.5.0",
       "_view_name": "ProgressView",
       "bar_style": "success",
       "description": "",
       "description_tooltip": null,
       "layout": "IPY_MODEL_b440fd03902848c1b1e502cf197f7ae0",
       "max": 481.0,
       "min": 0.0,
       "orientation": "horizontal",
       "style": "IPY_MODEL_fda21ff28de74c568a9a5ca29bd2b2d8",
       "value": 481.0
      }
     },
     "6f845c5197c34ce0ad220dfed0de0fb6": {
      "model_module": "@jupyter-widgets/base",
      "model_module_version": "1.2.0",
      "model_name": "LayoutModel",
      "state": {
       "_model_module": "@jupyter-widgets/base",
       "_model_module_version": "1.2.0",
       "_model_name": "LayoutModel",
       "_view_count": null,
       "_view_module": "@jupyter-widgets/base",
       "_view_module_version": "1.2.0",
       "_view_name": "LayoutView",
       "align_content": null,
       "align_items": null,
       "align_self": null,
       "border": null,
       "bottom": null,
       "display": null,
       "flex": null,
       "flex_flow": null,
       "grid_area": null,
       "grid_auto_columns": null,
       "grid_auto_flow": null,
       "grid_auto_rows": null,
       "grid_column": null,
       "grid_gap": null,
       "grid_row": null,
       "grid_template_areas": null,
       "grid_template_columns": null,
       "grid_template_rows": null,
       "height": null,
       "justify_content": null,
       "justify_items": null,
       "left": null,
       "margin": null,
       "max_height": null,
       "max_width": null,
       "min_height": null,
       "min_width": null,
       "object_fit": null,
       "object_position": null,
       "order": null,
       "overflow": null,
       "overflow_x": null,
       "overflow_y": null,
       "padding": null,
       "right": null,
       "top": null,
       "visibility": null,
       "width": null
      }
     },
     "7bae20407c0f4beb9376ef9d0ac9c81d": {
      "model_module": "@jupyter-widgets/base",
      "model_module_version": "1.2.0",
      "model_name": "LayoutModel",
      "state": {
       "_model_module": "@jupyter-widgets/base",
       "_model_module_version": "1.2.0",
       "_model_name": "LayoutModel",
       "_view_count": null,
       "_view_module": "@jupyter-widgets/base",
       "_view_module_version": "1.2.0",
       "_view_name": "LayoutView",
       "align_content": null,
       "align_items": null,
       "align_self": null,
       "border": null,
       "bottom": null,
       "display": null,
       "flex": null,
       "flex_flow": null,
       "grid_area": null,
       "grid_auto_columns": null,
       "grid_auto_flow": null,
       "grid_auto_rows": null,
       "grid_column": null,
       "grid_gap": null,
       "grid_row": null,
       "grid_template_areas": null,
       "grid_template_columns": null,
       "grid_template_rows": null,
       "height": null,
       "justify_content": null,
       "justify_items": null,
       "left": null,
       "margin": null,
       "max_height": null,
       "max_width": null,
       "min_height": null,
       "min_width": null,
       "object_fit": null,
       "object_position": null,
       "order": null,
       "overflow": null,
       "overflow_x": null,
       "overflow_y": null,
       "padding": null,
       "right": null,
       "top": null,
       "visibility": null,
       "width": null
      }
     },
     "802d53d23b364e17bd19ff9a4fe8e939": {
      "model_module": "@jupyter-widgets/controls",
      "model_module_version": "1.5.0",
      "model_name": "HTMLModel",
      "state": {
       "_dom_classes": [],
       "_model_module": "@jupyter-widgets/controls",
       "_model_module_version": "1.5.0",
       "_model_name": "HTMLModel",
       "_view_count": null,
       "_view_module": "@jupyter-widgets/controls",
       "_view_module_version": "1.5.0",
       "_view_name": "HTMLView",
       "description": "",
       "description_tooltip": null,
       "layout": "IPY_MODEL_7bae20407c0f4beb9376ef9d0ac9c81d",
       "placeholder": "​",
       "style": "IPY_MODEL_1553a9bb92444337b25e158aebdc43a8",
       "value": " 481/481 [00:00&lt;00:00, 17.5kB/s]"
      }
     },
     "80e4071066a94d1285e02c06dbec4707": {
      "model_module": "@jupyter-widgets/base",
      "model_module_version": "1.2.0",
      "model_name": "LayoutModel",
      "state": {
       "_model_module": "@jupyter-widgets/base",
       "_model_module_version": "1.2.0",
       "_model_name": "LayoutModel",
       "_view_count": null,
       "_view_module": "@jupyter-widgets/base",
       "_view_module_version": "1.2.0",
       "_view_name": "LayoutView",
       "align_content": null,
       "align_items": null,
       "align_self": null,
       "border": null,
       "bottom": null,
       "display": null,
       "flex": null,
       "flex_flow": null,
       "grid_area": null,
       "grid_auto_columns": null,
       "grid_auto_flow": null,
       "grid_auto_rows": null,
       "grid_column": null,
       "grid_gap": null,
       "grid_row": null,
       "grid_template_areas": null,
       "grid_template_columns": null,
       "grid_template_rows": null,
       "height": null,
       "justify_content": null,
       "justify_items": null,
       "left": null,
       "margin": null,
       "max_height": null,
       "max_width": null,
       "min_height": null,
       "min_width": null,
       "object_fit": null,
       "object_position": null,
       "order": null,
       "overflow": null,
       "overflow_x": null,
       "overflow_y": null,
       "padding": null,
       "right": null,
       "top": null,
       "visibility": null,
       "width": null
      }
     },
     "88371eda4c7247ba925ec0b427fd7217": {
      "model_module": "@jupyter-widgets/controls",
      "model_module_version": "1.5.0",
      "model_name": "HTMLModel",
      "state": {
       "_dom_classes": [],
       "_model_module": "@jupyter-widgets/controls",
       "_model_module_version": "1.5.0",
       "_model_name": "HTMLModel",
       "_view_count": null,
       "_view_module": "@jupyter-widgets/controls",
       "_view_module_version": "1.5.0",
       "_view_name": "HTMLView",
       "description": "",
       "description_tooltip": null,
       "layout": "IPY_MODEL_06ee58e897b1488bb351bdcfa9b39fc0",
       "placeholder": "​",
       "style": "IPY_MODEL_131f8ee8d2eb4f59aefa3790ce76ee44",
       "value": " 1.36M/1.36M [00:00&lt;00:00, 4.39MB/s]"
      }
     },
     "8996c17aa9d54be5aadcbec6226ae554": {
      "model_module": "@jupyter-widgets/controls",
      "model_module_version": "1.5.0",
      "model_name": "HBoxModel",
      "state": {
       "_dom_classes": [],
       "_model_module": "@jupyter-widgets/controls",
       "_model_module_version": "1.5.0",
       "_model_name": "HBoxModel",
       "_view_count": null,
       "_view_module": "@jupyter-widgets/controls",
       "_view_module_version": "1.5.0",
       "_view_name": "HBoxView",
       "box_style": "",
       "children": [
        "IPY_MODEL_d62bd1191c2c456a85a2ee3888fae12b",
        "IPY_MODEL_a336e23bb3b44effad63ab070358fb41",
        "IPY_MODEL_88371eda4c7247ba925ec0b427fd7217"
       ],
       "layout": "IPY_MODEL_6f845c5197c34ce0ad220dfed0de0fb6"
      }
     },
     "99df51ede81646d4a31e308df66983ce": {
      "model_module": "@jupyter-widgets/base",
      "model_module_version": "1.2.0",
      "model_name": "LayoutModel",
      "state": {
       "_model_module": "@jupyter-widgets/base",
       "_model_module_version": "1.2.0",
       "_model_name": "LayoutModel",
       "_view_count": null,
       "_view_module": "@jupyter-widgets/base",
       "_view_module_version": "1.2.0",
       "_view_name": "LayoutView",
       "align_content": null,
       "align_items": null,
       "align_self": null,
       "border": null,
       "bottom": null,
       "display": null,
       "flex": null,
       "flex_flow": null,
       "grid_area": null,
       "grid_auto_columns": null,
       "grid_auto_flow": null,
       "grid_auto_rows": null,
       "grid_column": null,
       "grid_gap": null,
       "grid_row": null,
       "grid_template_areas": null,
       "grid_template_columns": null,
       "grid_template_rows": null,
       "height": null,
       "justify_content": null,
       "justify_items": null,
       "left": null,
       "margin": null,
       "max_height": null,
       "max_width": null,
       "min_height": null,
       "min_width": null,
       "object_fit": null,
       "object_position": null,
       "order": null,
       "overflow": null,
       "overflow_x": null,
       "overflow_y": null,
       "padding": null,
       "right": null,
       "top": null,
       "visibility": null,
       "width": null
      }
     },
     "9fe6cc81a7f64cda8e92a19099760662": {
      "model_module": "@jupyter-widgets/base",
      "model_module_version": "1.2.0",
      "model_name": "LayoutModel",
      "state": {
       "_model_module": "@jupyter-widgets/base",
       "_model_module_version": "1.2.0",
       "_model_name": "LayoutModel",
       "_view_count": null,
       "_view_module": "@jupyter-widgets/base",
       "_view_module_version": "1.2.0",
       "_view_name": "LayoutView",
       "align_content": null,
       "align_items": null,
       "align_self": null,
       "border": null,
       "bottom": null,
       "display": null,
       "flex": null,
       "flex_flow": null,
       "grid_area": null,
       "grid_auto_columns": null,
       "grid_auto_flow": null,
       "grid_auto_rows": null,
       "grid_column": null,
       "grid_gap": null,
       "grid_row": null,
       "grid_template_areas": null,
       "grid_template_columns": null,
       "grid_template_rows": null,
       "height": null,
       "justify_content": null,
       "justify_items": null,
       "left": null,
       "margin": null,
       "max_height": null,
       "max_width": null,
       "min_height": null,
       "min_width": null,
       "object_fit": null,
       "object_position": null,
       "order": null,
       "overflow": null,
       "overflow_x": null,
       "overflow_y": null,
       "padding": null,
       "right": null,
       "top": null,
       "visibility": null,
       "width": null
      }
     },
     "a21fdd2702b14281a9b822f38b7070b3": {
      "model_module": "@jupyter-widgets/controls",
      "model_module_version": "1.5.0",
      "model_name": "DescriptionStyleModel",
      "state": {
       "_model_module": "@jupyter-widgets/controls",
       "_model_module_version": "1.5.0",
       "_model_name": "DescriptionStyleModel",
       "_view_count": null,
       "_view_module": "@jupyter-widgets/base",
       "_view_module_version": "1.2.0",
       "_view_name": "StyleView",
       "description_width": ""
      }
     },
     "a2e070c1899a48f39d05dfd528834225": {
      "model_module": "@jupyter-widgets/controls",
      "model_module_version": "1.5.0",
      "model_name": "ProgressStyleModel",
      "state": {
       "_model_module": "@jupyter-widgets/controls",
       "_model_module_version": "1.5.0",
       "_model_name": "ProgressStyleModel",
       "_view_count": null,
       "_view_module": "@jupyter-widgets/base",
       "_view_module_version": "1.2.0",
       "_view_name": "StyleView",
       "bar_color": null,
       "description_width": ""
      }
     },
     "a336e23bb3b44effad63ab070358fb41": {
      "model_module": "@jupyter-widgets/controls",
      "model_module_version": "1.5.0",
      "model_name": "FloatProgressModel",
      "state": {
       "_dom_classes": [],
       "_model_module": "@jupyter-widgets/controls",
       "_model_module_version": "1.5.0",
       "_model_name": "FloatProgressModel",
       "_view_count": null,
       "_view_module": "@jupyter-widgets/controls",
       "_view_module_version": "1.5.0",
       "_view_name": "ProgressView",
       "bar_style": "success",
       "description": "",
       "description_tooltip": null,
       "layout": "IPY_MODEL_01e9459ddedf4d95b7c0bb70b291da52",
       "max": 1355863.0,
       "min": 0.0,
       "orientation": "horizontal",
       "style": "IPY_MODEL_5741a4a8b81c4d49b63a6619345ce6b7",
       "value": 1355863.0
      }
     },
     "a4fc6f13fe2f46849002f101ad527a53": {
      "model_module": "@jupyter-widgets/base",
      "model_module_version": "1.2.0",
      "model_name": "LayoutModel",
      "state": {
       "_model_module": "@jupyter-widgets/base",
       "_model_module_version": "1.2.0",
       "_model_name": "LayoutModel",
       "_view_count": null,
       "_view_module": "@jupyter-widgets/base",
       "_view_module_version": "1.2.0",
       "_view_name": "LayoutView",
       "align_content": null,
       "align_items": null,
       "align_self": null,
       "border": null,
       "bottom": null,
       "display": null,
       "flex": null,
       "flex_flow": null,
       "grid_area": null,
       "grid_auto_columns": null,
       "grid_auto_flow": null,
       "grid_auto_rows": null,
       "grid_column": null,
       "grid_gap": null,
       "grid_row": null,
       "grid_template_areas": null,
       "grid_template_columns": null,
       "grid_template_rows": null,
       "height": null,
       "justify_content": null,
       "justify_items": null,
       "left": null,
       "margin": null,
       "max_height": null,
       "max_width": null,
       "min_height": null,
       "min_width": null,
       "object_fit": null,
       "object_position": null,
       "order": null,
       "overflow": null,
       "overflow_x": null,
       "overflow_y": null,
       "padding": null,
       "right": null,
       "top": null,
       "visibility": null,
       "width": null
      }
     },
     "b052f9d1f7924130b00e32a3874e50fa": {
      "model_module": "@jupyter-widgets/base",
      "model_module_version": "1.2.0",
      "model_name": "LayoutModel",
      "state": {
       "_model_module": "@jupyter-widgets/base",
       "_model_module_version": "1.2.0",
       "_model_name": "LayoutModel",
       "_view_count": null,
       "_view_module": "@jupyter-widgets/base",
       "_view_module_version": "1.2.0",
       "_view_name": "LayoutView",
       "align_content": null,
       "align_items": null,
       "align_self": null,
       "border": null,
       "bottom": null,
       "display": null,
       "flex": null,
       "flex_flow": null,
       "grid_area": null,
       "grid_auto_columns": null,
       "grid_auto_flow": null,
       "grid_auto_rows": null,
       "grid_column": null,
       "grid_gap": null,
       "grid_row": null,
       "grid_template_areas": null,
       "grid_template_columns": null,
       "grid_template_rows": null,
       "height": null,
       "justify_content": null,
       "justify_items": null,
       "left": null,
       "margin": null,
       "max_height": null,
       "max_width": null,
       "min_height": null,
       "min_width": null,
       "object_fit": null,
       "object_position": null,
       "order": null,
       "overflow": null,
       "overflow_x": null,
       "overflow_y": null,
       "padding": null,
       "right": null,
       "top": null,
       "visibility": null,
       "width": null
      }
     },
     "b440fd03902848c1b1e502cf197f7ae0": {
      "model_module": "@jupyter-widgets/base",
      "model_module_version": "1.2.0",
      "model_name": "LayoutModel",
      "state": {
       "_model_module": "@jupyter-widgets/base",
       "_model_module_version": "1.2.0",
       "_model_name": "LayoutModel",
       "_view_count": null,
       "_view_module": "@jupyter-widgets/base",
       "_view_module_version": "1.2.0",
       "_view_name": "LayoutView",
       "align_content": null,
       "align_items": null,
       "align_self": null,
       "border": null,
       "bottom": null,
       "display": null,
       "flex": null,
       "flex_flow": null,
       "grid_area": null,
       "grid_auto_columns": null,
       "grid_auto_flow": null,
       "grid_auto_rows": null,
       "grid_column": null,
       "grid_gap": null,
       "grid_row": null,
       "grid_template_areas": null,
       "grid_template_columns": null,
       "grid_template_rows": null,
       "height": null,
       "justify_content": null,
       "justify_items": null,
       "left": null,
       "margin": null,
       "max_height": null,
       "max_width": null,
       "min_height": null,
       "min_width": null,
       "object_fit": null,
       "object_position": null,
       "order": null,
       "overflow": null,
       "overflow_x": null,
       "overflow_y": null,
       "padding": null,
       "right": null,
       "top": null,
       "visibility": null,
       "width": null
      }
     },
     "b5c33b71ce5046418cc0881d538e63f0": {
      "model_module": "@jupyter-widgets/controls",
      "model_module_version": "1.5.0",
      "model_name": "ProgressStyleModel",
      "state": {
       "_model_module": "@jupyter-widgets/controls",
       "_model_module_version": "1.5.0",
       "_model_name": "ProgressStyleModel",
       "_view_count": null,
       "_view_module": "@jupyter-widgets/base",
       "_view_module_version": "1.2.0",
       "_view_name": "StyleView",
       "bar_color": null,
       "description_width": ""
      }
     },
     "b95ae7e4a5b94b7ba760dc9e68cb9800": {
      "model_module": "@jupyter-widgets/controls",
      "model_module_version": "1.5.0",
      "model_name": "DescriptionStyleModel",
      "state": {
       "_model_module": "@jupyter-widgets/controls",
       "_model_module_version": "1.5.0",
       "_model_name": "DescriptionStyleModel",
       "_view_count": null,
       "_view_module": "@jupyter-widgets/base",
       "_view_module_version": "1.2.0",
       "_view_name": "StyleView",
       "description_width": ""
      }
     },
     "c1232c41f0ba45e98dfaf78f3d8bb01f": {
      "model_module": "@jupyter-widgets/controls",
      "model_module_version": "1.5.0",
      "model_name": "DescriptionStyleModel",
      "state": {
       "_model_module": "@jupyter-widgets/controls",
       "_model_module_version": "1.5.0",
       "_model_name": "DescriptionStyleModel",
       "_view_count": null,
       "_view_module": "@jupyter-widgets/base",
       "_view_module_version": "1.2.0",
       "_view_name": "StyleView",
       "description_width": ""
      }
     },
     "ccd3680b87fc481ca3890cbf28bcdfbf": {
      "model_module": "@jupyter-widgets/controls",
      "model_module_version": "1.5.0",
      "model_name": "HBoxModel",
      "state": {
       "_dom_classes": [],
       "_model_module": "@jupyter-widgets/controls",
       "_model_module_version": "1.5.0",
       "_model_name": "HBoxModel",
       "_view_count": null,
       "_view_module": "@jupyter-widgets/controls",
       "_view_module_version": "1.5.0",
       "_view_name": "HBoxView",
       "box_style": "",
       "children": [
        "IPY_MODEL_281792bc179742d2a4f6be7cdb9d2d61",
        "IPY_MODEL_6f5bb0847f944ab7b77f1fbd64a1a91c",
        "IPY_MODEL_802d53d23b364e17bd19ff9a4fe8e939"
       ],
       "layout": "IPY_MODEL_462b19527dee47258ef24f51c8f65e08"
      }
     },
     "ccfc5453bd914eb7bafa81428ea05e0e": {
      "model_module": "@jupyter-widgets/base",
      "model_module_version": "1.2.0",
      "model_name": "LayoutModel",
      "state": {
       "_model_module": "@jupyter-widgets/base",
       "_model_module_version": "1.2.0",
       "_model_name": "LayoutModel",
       "_view_count": null,
       "_view_module": "@jupyter-widgets/base",
       "_view_module_version": "1.2.0",
       "_view_name": "LayoutView",
       "align_content": null,
       "align_items": null,
       "align_self": null,
       "border": null,
       "bottom": null,
       "display": null,
       "flex": null,
       "flex_flow": null,
       "grid_area": null,
       "grid_auto_columns": null,
       "grid_auto_flow": null,
       "grid_auto_rows": null,
       "grid_column": null,
       "grid_gap": null,
       "grid_row": null,
       "grid_template_areas": null,
       "grid_template_columns": null,
       "grid_template_rows": null,
       "height": null,
       "justify_content": null,
       "justify_items": null,
       "left": null,
       "margin": null,
       "max_height": null,
       "max_width": null,
       "min_height": null,
       "min_width": null,
       "object_fit": null,
       "object_position": null,
       "order": null,
       "overflow": null,
       "overflow_x": null,
       "overflow_y": null,
       "padding": null,
       "right": null,
       "top": null,
       "visibility": null,
       "width": null
      }
     },
     "d62bd1191c2c456a85a2ee3888fae12b": {
      "model_module": "@jupyter-widgets/controls",
      "model_module_version": "1.5.0",
      "model_name": "HTMLModel",
      "state": {
       "_dom_classes": [],
       "_model_module": "@jupyter-widgets/controls",
       "_model_module_version": "1.5.0",
       "_model_name": "HTMLModel",
       "_view_count": null,
       "_view_module": "@jupyter-widgets/controls",
       "_view_module_version": "1.5.0",
       "_view_name": "HTMLView",
       "description": "",
       "description_tooltip": null,
       "layout": "IPY_MODEL_63d60ef18fe34901a535ef6bc4dbe359",
       "placeholder": "​",
       "style": "IPY_MODEL_490b7494d3c548a5bdf32c4932f4cff3",
       "value": "Downloading: 100%"
      }
     },
     "dfca7f58e6b9418d9d2bc4c5a57b2ba9": {
      "model_module": "@jupyter-widgets/controls",
      "model_module_version": "1.5.0",
      "model_name": "HTMLModel",
      "state": {
       "_dom_classes": [],
       "_model_module": "@jupyter-widgets/controls",
       "_model_module_version": "1.5.0",
       "_model_name": "HTMLModel",
       "_view_count": null,
       "_view_module": "@jupyter-widgets/controls",
       "_view_module_version": "1.5.0",
       "_view_name": "HTMLView",
       "description": "",
       "description_tooltip": null,
       "layout": "IPY_MODEL_80e4071066a94d1285e02c06dbec4707",
       "placeholder": "​",
       "style": "IPY_MODEL_b95ae7e4a5b94b7ba760dc9e68cb9800",
       "value": "Downloading: 100%"
      }
     },
     "ee6eb7ba6404465a9e3b51949433fc57": {
      "model_module": "@jupyter-widgets/controls",
      "model_module_version": "1.5.0",
      "model_name": "HBoxModel",
      "state": {
       "_dom_classes": [],
       "_model_module": "@jupyter-widgets/controls",
       "_model_module_version": "1.5.0",
       "_model_name": "HBoxModel",
       "_view_count": null,
       "_view_module": "@jupyter-widgets/controls",
       "_view_module_version": "1.5.0",
       "_view_name": "HBoxView",
       "box_style": "",
       "children": [
        "IPY_MODEL_004fab9b62dd405d9f2200e44cd17199",
        "IPY_MODEL_57e8a4e18b5e43aca91cf4b5f57d3d87",
        "IPY_MODEL_f7b60e82372f480280077bd71192c399"
       ],
       "layout": "IPY_MODEL_a4fc6f13fe2f46849002f101ad527a53"
      }
     },
     "ef220dea4d0d4fd4b063b46b58ec6c14": {
      "model_module": "@jupyter-widgets/controls",
      "model_module_version": "1.5.0",
      "model_name": "HTMLModel",
      "state": {
       "_dom_classes": [],
       "_model_module": "@jupyter-widgets/controls",
       "_model_module_version": "1.5.0",
       "_model_name": "HTMLModel",
       "_view_count": null,
       "_view_module": "@jupyter-widgets/controls",
       "_view_module_version": "1.5.0",
       "_view_name": "HTMLView",
       "description": "",
       "description_tooltip": null,
       "layout": "IPY_MODEL_ccfc5453bd914eb7bafa81428ea05e0e",
       "placeholder": "​",
       "style": "IPY_MODEL_48f1a926d66f4f13a8ec54a5086e954e",
       "value": " 899k/899k [00:00&lt;00:00, 1.38MB/s]"
      }
     },
     "f7b60e82372f480280077bd71192c399": {
      "model_module": "@jupyter-widgets/controls",
      "model_module_version": "1.5.0",
      "model_name": "HTMLModel",
      "state": {
       "_dom_classes": [],
       "_model_module": "@jupyter-widgets/controls",
       "_model_module_version": "1.5.0",
       "_model_name": "HTMLModel",
       "_view_count": null,
       "_view_module": "@jupyter-widgets/controls",
       "_view_module_version": "1.5.0",
       "_view_name": "HTMLView",
       "description": "",
       "description_tooltip": null,
       "layout": "IPY_MODEL_9fe6cc81a7f64cda8e92a19099760662",
       "placeholder": "​",
       "style": "IPY_MODEL_a21fdd2702b14281a9b822f38b7070b3",
       "value": " 456k/456k [00:00&lt;00:00, 1.39MB/s]"
      }
     },
     "fcb9f2afe00244418663c1cdea82684a": {
      "model_module": "@jupyter-widgets/base",
      "model_module_version": "1.2.0",
      "model_name": "LayoutModel",
      "state": {
       "_model_module": "@jupyter-widgets/base",
       "_model_module_version": "1.2.0",
       "_model_name": "LayoutModel",
       "_view_count": null,
       "_view_module": "@jupyter-widgets/base",
       "_view_module_version": "1.2.0",
       "_view_name": "LayoutView",
       "align_content": null,
       "align_items": null,
       "align_self": null,
       "border": null,
       "bottom": null,
       "display": null,
       "flex": null,
       "flex_flow": null,
       "grid_area": null,
       "grid_auto_columns": null,
       "grid_auto_flow": null,
       "grid_auto_rows": null,
       "grid_column": null,
       "grid_gap": null,
       "grid_row": null,
       "grid_template_areas": null,
       "grid_template_columns": null,
       "grid_template_rows": null,
       "height": null,
       "justify_content": null,
       "justify_items": null,
       "left": null,
       "margin": null,
       "max_height": null,
       "max_width": null,
       "min_height": null,
       "min_width": null,
       "object_fit": null,
       "object_position": null,
       "order": null,
       "overflow": null,
       "overflow_x": null,
       "overflow_y": null,
       "padding": null,
       "right": null,
       "top": null,
       "visibility": null,
       "width": null
      }
     },
     "fda21ff28de74c568a9a5ca29bd2b2d8": {
      "model_module": "@jupyter-widgets/controls",
      "model_module_version": "1.5.0",
      "model_name": "ProgressStyleModel",
      "state": {
       "_model_module": "@jupyter-widgets/controls",
       "_model_module_version": "1.5.0",
       "_model_name": "ProgressStyleModel",
       "_view_count": null,
       "_view_module": "@jupyter-widgets/base",
       "_view_module_version": "1.2.0",
       "_view_name": "StyleView",
       "bar_color": null,
       "description_width": ""
      }
     }
    },
    "version_major": 2,
    "version_minor": 0
   }
  }
 },
 "nbformat": 4,
 "nbformat_minor": 5
}
